{
 "cells": [
  {
   "cell_type": "markdown",
   "metadata": {},
   "source": [
    "20240628 뱀 로봇 자유 공간에서 동역학 분석을 위한 코드"
   ]
  },
  {
   "cell_type": "markdown",
   "metadata": {},
   "source": [
    "* 필요 패키지 사용"
   ]
  },
  {
   "cell_type": "code",
   "execution_count": null,
   "metadata": {},
   "outputs": [],
   "source": [
    "import numpy as np\n",
    "import mujoco\n",
    "import mujoco.viewer\n",
    "import mediapy as media\n",
    "\n",
    "import time\n",
    "import serpenoid\n",
    "import serpenoid_gamma"
   ]
  },
  {
   "cell_type": "markdown",
   "metadata": {},
   "source": [
    "* 시뮬레이션 정의 파일 불러오기"
   ]
  },
  {
   "cell_type": "code",
   "execution_count": null,
   "metadata": {},
   "outputs": [],
   "source": [
    "snake = mujoco.MjModel.from_xml_path(\"../../resources/env_snake_v1_freespace.xml\")\n",
    "data = mujoco.MjData(snake)\n",
    "renderer = mujoco.Renderer(snake, 720, 1280)"
   ]
  },
  {
   "cell_type": "markdown",
   "metadata": {},
   "source": [
    "* Gait 궤적 사전 생성하기"
   ]
  },
  {
   "cell_type": "code",
   "execution_count": null,
   "metadata": {},
   "outputs": [],
   "source": [
    "p_c = (45, 45, 154, 154, 55, 55, 0, 0.05) \n",
    "p_m = (45, 45, 154, 154, 55, 55, 0, 0.05) \n",
    "gamma = 0\n",
    "\n",
    "gait = serpenoid_gamma.Gait(tuple(p_c), tuple(p_m), gamma)\n",
    "q = gait.CurveFunction\n",
    "expand_q = np.repeat(q, 10, axis=1)"
   ]
  },
  {
   "cell_type": "markdown",
   "metadata": {},
   "source": [
    "* 궤적 확인"
   ]
  },
  {
   "cell_type": "code",
   "execution_count": null,
   "metadata": {},
   "outputs": [],
   "source": [
    "expand_q.shape"
   ]
  },
  {
   "cell_type": "markdown",
   "metadata": {},
   "source": [
    "* 시뮬레이션 진행 (영상 렌더링)"
   ]
  },
  {
   "cell_type": "code",
   "execution_count": null,
   "metadata": {},
   "outputs": [],
   "source": [
    "frames = []\n",
    "mujoco.mj_forward(snake, data)\n",
    "\n",
    "for i in range(expand_q.shape[1]):\n",
    "    index = np.nonzero(expand_q[:, i])\n",
    "    for idx in index:\n",
    "        data.ctrl[idx] = expand_q[idx, i]\n",
    "\n",
    "    mujoco.mj_step(snake, data)\n",
    "    renderer.update_scene(data)\n",
    "    pixel = renderer.render()\n",
    "\n",
    "    frames.append(pixel)\n",
    "\n",
    "media.show_video(frames, fps=200)"
   ]
  },
  {
   "cell_type": "markdown",
   "metadata": {},
   "source": [
    "* 시뮬레이션 진행 (Passive viewer)"
   ]
  },
  {
   "cell_type": "code",
   "execution_count": null,
   "metadata": {},
   "outputs": [],
   "source": [
    "mujoco.mj_resetData(snake, data)\n",
    "mujoco.mj_forward(snake, data)\n",
    "\n",
    "with mujoco.viewer.launch_passive(snake, data) as viewer:\n",
    "    for i in range(expand_q.shape[1]):\n",
    "        time_step = time.time()\n",
    "        index = np.nonzero(expand_q[:, i])\n",
    "        for idx in index:\n",
    "            data.ctrl[idx] = expand_q[idx, i]\n",
    "\n",
    "        mujoco.mj_step(snake, data)\n",
    "        viewer.sync()\n",
    "\n",
    "        while snake.opt.timestep - (time.time() - time_step) > 0:\n",
    "            time.sleep(0)"
   ]
  }
 ],
 "metadata": {
  "kernelspec": {
   "display_name": "rllib",
   "language": "python",
   "name": "python3"
  },
  "language_info": {
   "codemirror_mode": {
    "name": "ipython",
    "version": 3
   },
   "file_extension": ".py",
   "mimetype": "text/x-python",
   "name": "python",
   "nbconvert_exporter": "python",
   "pygments_lexer": "ipython3",
   "version": "3.10.13"
  }
 },
 "nbformat": 4,
 "nbformat_minor": 2
}
