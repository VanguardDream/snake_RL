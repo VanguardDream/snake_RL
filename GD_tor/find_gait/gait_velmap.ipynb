{
 "cells": [
  {
   "cell_type": "markdown",
   "id": "eb2d9150",
   "metadata": {},
   "source": [
    "Gait 및 필요 패키지 삽입"
   ]
  },
  {
   "cell_type": "code",
   "execution_count": null,
   "id": "714b286b",
   "metadata": {},
   "outputs": [],
   "source": [
    "import mujoco"
   ]
  }
 ],
 "metadata": {
  "language_info": {
   "name": "python"
  }
 },
 "nbformat": 4,
 "nbformat_minor": 5
}
