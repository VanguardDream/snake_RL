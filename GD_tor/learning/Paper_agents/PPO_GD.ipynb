{
 "cells": [
  {
   "cell_type": "markdown",
   "metadata": {},
   "source": [
    "* Ray RLlib 노트북"
   ]
  },
  {
   "cell_type": "markdown",
   "metadata": {},
   "source": [
    "필요 패키지 삽입"
   ]
  },
  {
   "cell_type": "code",
   "execution_count": 1,
   "metadata": {},
   "outputs": [
    {
     "name": "stderr",
     "output_type": "stream",
     "text": [
      "c:\\Users\\doore\\anaconda3\\envs\\gdtor\\Lib\\site-packages\\paramiko\\pkey.py:82: CryptographyDeprecationWarning: TripleDES has been moved to cryptography.hazmat.decrepit.ciphers.algorithms.TripleDES and will be removed from this module in 48.0.0.\n",
      "  \"cipher\": algorithms.TripleDES,\n",
      "c:\\Users\\doore\\anaconda3\\envs\\gdtor\\Lib\\site-packages\\paramiko\\transport.py:219: CryptographyDeprecationWarning: Blowfish has been moved to cryptography.hazmat.decrepit.ciphers.algorithms.Blowfish and will be removed from this module in 45.0.0.\n",
      "  \"class\": algorithms.Blowfish,\n",
      "c:\\Users\\doore\\anaconda3\\envs\\gdtor\\Lib\\site-packages\\paramiko\\transport.py:243: CryptographyDeprecationWarning: TripleDES has been moved to cryptography.hazmat.decrepit.ciphers.algorithms.TripleDES and will be removed from this module in 48.0.0.\n",
      "  \"class\": algorithms.TripleDES,\n"
     ]
    }
   ],
   "source": [
    "import gymnasium as gym\n",
    "import numpy as np\n",
    "import pandas as pd\n",
    "\n",
    "from horcrux_terrain_v1.envs import SandWorld\n",
    "from horcrux_terrain_v1.envs import PlaneWorld\n",
    "\n",
    "import ray\n",
    "from ray.rllib.algorithms.algorithm import Algorithm\n",
    "from ray.rllib.algorithms import ppo\n",
    "from ray.rllib.algorithms.ppo import PPOConfig\n",
    "\n",
    "from ray.tune.registry import register_env\n"
   ]
  },
  {
   "cell_type": "markdown",
   "metadata": {},
   "source": [
    "Ray 실행 (Warning 관련 무시 키워드)"
   ]
  },
  {
   "cell_type": "code",
   "execution_count": 2,
   "metadata": {},
   "outputs": [
    {
     "name": "stderr",
     "output_type": "stream",
     "text": [
      "2024-10-17 02:06:07,257\tINFO worker.py:1777 -- Started a local Ray instance. View the dashboard at \u001b[1m\u001b[32mhttp://127.0.0.1:8265 \u001b[39m\u001b[22m\n"
     ]
    },
    {
     "data": {
      "application/vnd.jupyter.widget-view+json": {
       "model_id": "9f0dbf6dda354500b362836c474ead4f",
       "version_major": 2,
       "version_minor": 0
      },
      "text/html": [
       "<div class=\"lm-Widget p-Widget lm-Panel p-Panel jp-Cell-outputWrapper\">\n",
       "    <div style=\"margin-left: 50px;display: flex;flex-direction: row;align-items: center\">\n",
       "        <div class=\"jp-RenderedHTMLCommon\" style=\"display: flex; flex-direction: row;\">\n",
       "  <svg viewBox=\"0 0 567 224\" fill=\"none\" xmlns=\"http://www.w3.org/2000/svg\" style=\"height: 3em;\">\n",
       "    <g clip-path=\"url(#clip0_4338_178347)\">\n",
       "        <path d=\"M341.29 165.561H355.29L330.13 129.051C345.63 123.991 354.21 112.051 354.21 94.2307C354.21 71.3707 338.72 58.1807 311.88 58.1807H271V165.561H283.27V131.661H311.8C314.25 131.661 316.71 131.501 319.01 131.351L341.25 165.561H341.29ZM283.29 119.851V70.0007H311.82C331.3 70.0007 342.34 78.2907 342.34 94.5507C342.34 111.271 331.34 119.861 311.82 119.861L283.29 119.851ZM451.4 138.411L463.4 165.561H476.74L428.74 58.1807H416L367.83 165.561H380.83L392.83 138.411H451.4ZM446.19 126.601H398L422 72.1407L446.24 126.601H446.19ZM526.11 128.741L566.91 58.1807H554.35L519.99 114.181L485.17 58.1807H472.44L514.01 129.181V165.541H526.13V128.741H526.11Z\" fill=\"var(--jp-ui-font-color0)\"/>\n",
       "        <path d=\"M82.35 104.44C84.0187 97.8827 87.8248 92.0678 93.1671 87.9146C98.5094 83.7614 105.083 81.5067 111.85 81.5067C118.617 81.5067 125.191 83.7614 130.533 87.9146C135.875 92.0678 139.681 97.8827 141.35 104.44H163.75C164.476 101.562 165.622 98.8057 167.15 96.2605L127.45 56.5605C121.071 60.3522 113.526 61.6823 106.235 60.3005C98.9443 58.9187 92.4094 54.9203 87.8602 49.0574C83.3109 43.1946 81.0609 35.8714 81.5332 28.4656C82.0056 21.0599 85.1679 14.0819 90.4252 8.8446C95.6824 3.60726 102.672 0.471508 110.08 0.0272655C117.487 -0.416977 124.802 1.86091 130.647 6.4324C136.493 11.0039 140.467 17.5539 141.821 24.8501C143.175 32.1463 141.816 39.6859 138 46.0505L177.69 85.7505C182.31 82.9877 187.58 81.4995 192.962 81.4375C198.345 81.3755 203.648 82.742 208.33 85.3976C213.012 88.0532 216.907 91.9029 219.616 96.5544C222.326 101.206 223.753 106.492 223.753 111.875C223.753 117.258 222.326 122.545 219.616 127.197C216.907 131.848 213.012 135.698 208.33 138.353C203.648 141.009 198.345 142.375 192.962 142.313C187.58 142.251 182.31 140.763 177.69 138L138 177.7C141.808 184.071 143.155 191.614 141.79 198.91C140.424 206.205 136.44 212.75 130.585 217.313C124.731 221.875 117.412 224.141 110.004 223.683C102.596 223.226 95.6103 220.077 90.3621 214.828C85.1139 209.58 81.9647 202.595 81.5072 195.187C81.0497 187.779 83.3154 180.459 87.878 174.605C92.4405 168.751 98.9853 164.766 106.281 163.401C113.576 162.035 121.119 163.383 127.49 167.19L167.19 127.49C165.664 124.941 164.518 122.182 163.79 119.3H141.39C139.721 125.858 135.915 131.673 130.573 135.826C125.231 139.98 118.657 142.234 111.89 142.234C105.123 142.234 98.5494 139.98 93.2071 135.826C87.8648 131.673 84.0587 125.858 82.39 119.3H60C58.1878 126.495 53.8086 132.78 47.6863 136.971C41.5641 141.163 34.1211 142.972 26.7579 142.059C19.3947 141.146 12.6191 137.574 7.70605 132.014C2.79302 126.454 0.0813599 119.29 0.0813599 111.87C0.0813599 104.451 2.79302 97.2871 7.70605 91.7272C12.6191 86.1673 19.3947 82.5947 26.7579 81.6817C34.1211 80.7686 41.5641 82.5781 47.6863 86.7696C53.8086 90.9611 58.1878 97.2456 60 104.44H82.35ZM100.86 204.32C103.407 206.868 106.759 208.453 110.345 208.806C113.93 209.159 117.527 208.258 120.522 206.256C123.517 204.254 125.725 201.276 126.771 197.828C127.816 194.38 127.633 190.677 126.253 187.349C124.874 184.021 122.383 181.274 119.205 179.577C116.027 177.88 112.359 177.337 108.826 178.042C105.293 178.746 102.113 180.654 99.8291 183.44C97.5451 186.226 96.2979 189.718 96.3 193.32C96.2985 195.364 96.7006 197.388 97.4831 199.275C98.2656 201.163 99.4132 202.877 100.86 204.32ZM204.32 122.88C206.868 120.333 208.453 116.981 208.806 113.396C209.159 109.811 208.258 106.214 206.256 103.219C204.254 100.223 201.275 98.0151 197.827 96.97C194.38 95.9249 190.676 96.1077 187.348 97.4873C184.02 98.8669 181.274 101.358 179.577 104.536C177.879 107.714 177.337 111.382 178.041 114.915C178.746 118.448 180.653 121.627 183.439 123.911C186.226 126.195 189.717 127.443 193.32 127.44C195.364 127.443 197.388 127.042 199.275 126.259C201.163 125.476 202.878 124.328 204.32 122.88ZM122.88 19.4205C120.333 16.8729 116.981 15.2876 113.395 14.9347C109.81 14.5817 106.213 15.483 103.218 17.4849C100.223 19.4868 98.0146 22.4654 96.9696 25.9131C95.9245 29.3608 96.1073 33.0642 97.4869 36.3922C98.8665 39.7202 101.358 42.4668 104.535 44.1639C107.713 45.861 111.381 46.4036 114.914 45.6992C118.447 44.9949 121.627 43.0871 123.911 40.301C126.195 37.515 127.442 34.0231 127.44 30.4205C127.44 28.3772 127.038 26.3539 126.255 24.4664C125.473 22.5788 124.326 20.8642 122.88 19.4205ZM19.42 100.86C16.8725 103.408 15.2872 106.76 14.9342 110.345C14.5813 113.93 15.4826 117.527 17.4844 120.522C19.4863 123.518 22.4649 125.726 25.9127 126.771C29.3604 127.816 33.0638 127.633 36.3918 126.254C39.7198 124.874 42.4664 122.383 44.1635 119.205C45.8606 116.027 46.4032 112.359 45.6988 108.826C44.9944 105.293 43.0866 102.114 40.3006 99.8296C37.5145 97.5455 34.0227 96.2983 30.42 96.3005C26.2938 96.3018 22.337 97.9421 19.42 100.86ZM100.86 100.86C98.3125 103.408 96.7272 106.76 96.3742 110.345C96.0213 113.93 96.9226 117.527 98.9244 120.522C100.926 123.518 103.905 125.726 107.353 126.771C110.8 127.816 114.504 127.633 117.832 126.254C121.16 124.874 123.906 122.383 125.604 119.205C127.301 116.027 127.843 112.359 127.139 108.826C126.434 105.293 124.527 102.114 121.741 99.8296C118.955 97.5455 115.463 96.2983 111.86 96.3005C109.817 96.299 107.793 96.701 105.905 97.4835C104.018 98.2661 102.303 99.4136 100.86 100.86Z\" fill=\"#00AEEF\"/>\n",
       "    </g>\n",
       "    <defs>\n",
       "        <clipPath id=\"clip0_4338_178347\">\n",
       "            <rect width=\"566.93\" height=\"223.75\" fill=\"white\"/>\n",
       "        </clipPath>\n",
       "    </defs>\n",
       "  </svg>\n",
       "</div>\n",
       "\n",
       "        <table class=\"jp-RenderedHTMLCommon\" style=\"border-collapse: collapse;color: var(--jp-ui-font-color1);font-size: var(--jp-ui-font-size1);\">\n",
       "    <tr>\n",
       "        <td style=\"text-align: left\"><b>Python version:</b></td>\n",
       "        <td style=\"text-align: left\"><b>3.12.5</b></td>\n",
       "    </tr>\n",
       "    <tr>\n",
       "        <td style=\"text-align: left\"><b>Ray version:</b></td>\n",
       "        <td style=\"text-align: left\"><b>2.36.1</b></td>\n",
       "    </tr>\n",
       "    <tr>\n",
       "    <td style=\"text-align: left\"><b>Dashboard:</b></td>\n",
       "    <td style=\"text-align: left\"><b><a href=\"http://127.0.0.1:8265\" target=\"_blank\">http://127.0.0.1:8265</a></b></td>\n",
       "</tr>\n",
       "\n",
       "</table>\n",
       "\n",
       "    </div>\n",
       "</div>\n"
      ],
      "text/plain": [
       "RayContext(dashboard_url='127.0.0.1:8265', python_version='3.12.5', ray_version='2.36.1', ray_commit='999f7668b65dbd208817b3671b441fd97fca755c')"
      ]
     },
     "execution_count": 2,
     "metadata": {},
     "output_type": "execute_result"
    }
   ],
   "source": [
    "ray.init(runtime_env={\"env_vars\": {\"PYTHONWARNINGS\": \"ignore::DeprecationWarning\"}})"
   ]
  },
  {
   "cell_type": "markdown",
   "metadata": {},
   "source": [
    "Gym -> Rllib Env 등록"
   ]
  },
  {
   "cell_type": "code",
   "execution_count": 3,
   "metadata": {},
   "outputs": [],
   "source": [
    "env_config = {\n",
    "    \"forward_reward_weight\": 4,\n",
    "    \"side_cost_weight\": 2,\n",
    "    \"unhealthy_max_steps\": 75,\n",
    "    \"healthy_roll_range\": (-45,45),\n",
    "    \"terminating_roll_range\": (-85,85),\n",
    "    \"rotation_norm_cost_weight\": 0.05,\n",
    "    \"termination_reward\": 0,\n",
    "    \"use_friction_chg\": True,\n",
    "}\n",
    "\n",
    "# Sand\n",
    "register_env(\"sand-v1\", lambda config: SandWorld(forward_reward_weight=env_config[\"forward_reward_weight\"], \n",
    "                                                 side_cost_weight=env_config[\"side_cost_weight\"], \n",
    "                                                 unhealthy_max_steps=env_config[\"unhealthy_max_steps\"], \n",
    "                                                 healthy_roll_range=env_config[\"healthy_roll_range\"],\n",
    "                                                 terminating_roll_range=env_config[\"terminating_roll_range\"],\n",
    "                                                 rotation_norm_cost_weight=env_config[\"rotation_norm_cost_weight\"],\n",
    "                                                 termination_reward=env_config[\"termination_reward\"],\n",
    "                                                 use_friction_chg=env_config[\"use_friction_chg\"]))\n",
    "\n",
    "# Plane\n",
    "register_env(\"plane-v1\", lambda config: PlaneWorld(forward_reward_weight=env_config[\"forward_reward_weight\"], \n",
    "                                                 side_cost_weight=env_config[\"side_cost_weight\"], \n",
    "                                                 unhealthy_max_steps=env_config[\"unhealthy_max_steps\"], \n",
    "                                                 healthy_roll_range=env_config[\"healthy_roll_range\"],\n",
    "                                                 terminating_roll_range=env_config[\"terminating_roll_range\"],\n",
    "                                                 rotation_norm_cost_weight=env_config[\"rotation_norm_cost_weight\"],\n",
    "                                                 termination_reward=env_config[\"termination_reward\"],\n",
    "                                                 use_friction_chg=env_config[\"use_friction_chg\"]))\n"
   ]
  },
  {
   "cell_type": "markdown",
   "metadata": {},
   "source": [
    "학습 알고리즘 설정"
   ]
  },
  {
   "cell_type": "code",
   "execution_count": 4,
   "metadata": {},
   "outputs": [
    {
     "name": "stderr",
     "output_type": "stream",
     "text": [
      "2024-10-17 02:06:29,139\tWARNING deprecation.py:50 -- DeprecationWarning: `AlgorithmConfig.resources(num_cpus_per_worker)` has been deprecated. Use `AlgorithmConfig.env_runners(num_cpus_per_env_runner)` instead. This will raise an error in the future!\n",
      "2024-10-17 02:06:29,140\tWARNING deprecation.py:50 -- DeprecationWarning: `AlgorithmConfig.resources(num_gpus_per_worker)` has been deprecated. Use `AlgorithmConfig.env_runners(num_gpus_per_env_runner)` instead. This will raise an error in the future!\n",
      "2024-10-17 02:06:29,140\tWARNING deprecation.py:50 -- DeprecationWarning: `rollouts` has been deprecated. Use `AlgorithmConfig.env_runners(..)` instead. This will raise an error in the future!\n",
      "2024-10-17 02:06:29,140\tWARNING deprecation.py:50 -- DeprecationWarning: `AlgorithmConfig.env_runners(num_rollout_workers)` has been deprecated. Use `AlgorithmConfig.env_runners(num_env_runners)` instead. This will raise an error in the future!\n",
      "c:\\Users\\doore\\anaconda3\\envs\\gdtor\\Lib\\site-packages\\ray\\rllib\\algorithms\\algorithm.py:555: RayDeprecationWarning: This API is deprecated and may be removed in future Ray releases. You could suppress this warning by setting env variable PYTHONWARNINGS=\"ignore::DeprecationWarning\"\n",
      "`UnifiedLogger` will be removed in Ray 2.7.\n",
      "  return UnifiedLogger(config, logdir, loggers=None)\n",
      "c:\\Users\\doore\\anaconda3\\envs\\gdtor\\Lib\\site-packages\\ray\\tune\\logger\\unified.py:53: RayDeprecationWarning: This API is deprecated and may be removed in future Ray releases. You could suppress this warning by setting env variable PYTHONWARNINGS=\"ignore::DeprecationWarning\"\n",
      "The `JsonLogger interface is deprecated in favor of the `ray.tune.json.JsonLoggerCallback` interface and will be removed in Ray 2.7.\n",
      "  self._loggers.append(cls(self.config, self.logdir, self.trial))\n",
      "c:\\Users\\doore\\anaconda3\\envs\\gdtor\\Lib\\site-packages\\ray\\tune\\logger\\unified.py:53: RayDeprecationWarning: This API is deprecated and may be removed in future Ray releases. You could suppress this warning by setting env variable PYTHONWARNINGS=\"ignore::DeprecationWarning\"\n",
      "The `CSVLogger interface is deprecated in favor of the `ray.tune.csv.CSVLoggerCallback` interface and will be removed in Ray 2.7.\n",
      "  self._loggers.append(cls(self.config, self.logdir, self.trial))\n",
      "c:\\Users\\doore\\anaconda3\\envs\\gdtor\\Lib\\site-packages\\ray\\tune\\logger\\unified.py:53: RayDeprecationWarning: This API is deprecated and may be removed in future Ray releases. You could suppress this warning by setting env variable PYTHONWARNINGS=\"ignore::DeprecationWarning\"\n",
      "The `TBXLogger interface is deprecated in favor of the `ray.tune.tensorboardx.TBXLoggerCallback` interface and will be removed in Ray 2.7.\n",
      "  self._loggers.append(cls(self.config, self.logdir, self.trial))\n",
      "\u001b[36m(pid=31268)\u001b[0m c:\\Users\\doore\\anaconda3\\envs\\gdtor\\Lib\\site-packages\\paramiko\\pkey.py:82: CryptographyDeprecationWarning: TripleDES has been moved to cryptography.hazmat.decrepit.ciphers.algorithms.TripleDES and will be removed from this module in 48.0.0.\n",
      "\u001b[36m(pid=31268)\u001b[0m   \"cipher\": algorithms.TripleDES,\n",
      "\u001b[36m(pid=31268)\u001b[0m c:\\Users\\doore\\anaconda3\\envs\\gdtor\\Lib\\site-packages\\paramiko\\transport.py:219: CryptographyDeprecationWarning: Blowfish has been moved to cryptography.hazmat.decrepit.ciphers.algorithms.Blowfish and will be removed from this module in 45.0.0.\n",
      "\u001b[36m(pid=31268)\u001b[0m   \"class\": algorithms.Blowfish,\n",
      "\u001b[36m(pid=31268)\u001b[0m c:\\Users\\doore\\anaconda3\\envs\\gdtor\\Lib\\site-packages\\paramiko\\transport.py:243: CryptographyDeprecationWarning: TripleDES has been moved to cryptography.hazmat.decrepit.ciphers.algorithms.TripleDES and will be removed from this module in 48.0.0.\n",
      "\u001b[36m(pid=31268)\u001b[0m   \"class\": algorithms.TripleDES,\n",
      "\u001b[36m(pid=9760)\u001b[0m c:\\Users\\doore\\anaconda3\\envs\\gdtor\\Lib\\site-packages\\paramiko\\pkey.py:82: CryptographyDeprecationWarning: TripleDES has been moved to cryptography.hazmat.decrepit.ciphers.algorithms.TripleDES and will be removed from this module in 48.0.0.\u001b[32m [repeated 21x across cluster] (Ray deduplicates logs by default. Set RAY_DEDUP_LOGS=0 to disable log deduplication, or see https://docs.ray.io/en/master/ray-observability/user-guides/configure-logging.html#log-deduplication for more options.)\u001b[0m\n",
      "\u001b[36m(pid=9760)\u001b[0m   \"cipher\": algorithms.TripleDES,\u001b[32m [repeated 11x across cluster]\u001b[0m\n",
      "\u001b[36m(pid=34868)\u001b[0m c:\\Users\\doore\\anaconda3\\envs\\gdtor\\Lib\\site-packages\\paramiko\\transport.py:219: CryptographyDeprecationWarning: Blowfish has been moved to cryptography.hazmat.decrepit.ciphers.algorithms.Blowfish and will be removed from this module in 45.0.0.\u001b[32m [repeated 10x across cluster]\u001b[0m\n",
      "\u001b[36m(pid=34868)\u001b[0m   \"class\": algorithms.Blowfish,\u001b[32m [repeated 10x across cluster]\u001b[0m\n",
      "\u001b[36m(pid=34868)\u001b[0m   \"class\": algorithms.TripleDES,\u001b[32m [repeated 10x across cluster]\u001b[0m\n",
      "2024-10-17 02:06:49,537\tINFO trainable.py:161 -- Trainable.setup took 20.363 seconds. If your trainable is slow to initialize, consider setting reuse_actors=True to reduce actor creation overheads.\n",
      "2024-10-17 02:06:49,539\tWARNING util.py:61 -- Install gputil for GPU system monitoring.\n"
     ]
    }
   ],
   "source": [
    "config = PPOConfig()\n",
    "# Activate new API stack. -> 구려서 안씀.\n",
    "config.api_stack(\n",
    "    enable_rl_module_and_learner=False,\n",
    "    enable_env_runner_and_connector_v2=False,\n",
    ")\n",
    "# config.environment(\"sand-v1\")\n",
    "config.environment(\"plane-v1\")\n",
    "config.framework(\"torch\")\n",
    "total_workers = 12\n",
    "config.resources(num_gpus=1,num_cpus_per_worker=1, num_gpus_per_worker= 1/(total_workers+1))\n",
    "config.rollouts(num_rollout_workers=total_workers)\n",
    "config.training(\n",
    "    gamma=0.95, \n",
    "    lr=0.0001, \n",
    "    # kl_coeff=0.3, \n",
    "\n",
    "    # See model catalog for more options.\n",
    "    # https://docs.ray.io/en/latest/rllib/rllib-models.html\n",
    "    model={ \"fcnet_hiddens\": [512, 512, 512, 512, 512],\n",
    "            },\n",
    ")\n",
    "config.evaluation(evaluation_interval=100)\n",
    "\n",
    "# # See model catalog for more options.\n",
    "# # https://docs.ray.io/en/latest/rllib/rllib-models.html\n",
    "# # config.model[\"fcnet_hiddens\"] = [512, 512, 512, 512, 512]\n",
    "# config.model[\"uses_new_env_runners\"] = True\n",
    "# config.model[\"fcnet_hiddens\"] = [1024, 1024, 1024, 1024, 1024]\n",
    "# config.model[\"use_lstm\"] = True\n",
    "# # config.model[\"lstm_cell_size\"] = 2048\n",
    "# config.model[\"lstm_cell_size\"] = 4096\n",
    "# config.model[\"max_seq_len\"] = 200\n",
    "# config.model[\"lstm_use_prev_action\"] = True\n",
    "\n",
    "algo = config.build()\n",
    "\n"
   ]
  },
  {
   "cell_type": "markdown",
   "metadata": {},
   "source": [
    "혹시 이전 학습 결과를 로드할 경우"
   ]
  },
  {
   "cell_type": "code",
   "execution_count": null,
   "metadata": {},
   "outputs": [],
   "source": [
    "algo = Algorithm.from_checkpoint(\"./PPO/GD_v2/1st/PPO_GD_V2_512x5_final\")"
   ]
  },
  {
   "cell_type": "markdown",
   "metadata": {},
   "source": [
    "학습 파라미터 재조정"
   ]
  },
  {
   "cell_type": "code",
   "execution_count": 6,
   "metadata": {},
   "outputs": [],
   "source": [
    "# algo.get_config().training().num_sgd_iter\n",
    "\n",
    "#Env runner 파라미터 보기.\n",
    "# algo.env_runner.config[\"exploration_config\"]\n",
    "# algo.get_config().model\n",
    "\n",
    "# algo.compute_single_action()\n",
    "# algo.get_policy()"
   ]
  },
  {
   "cell_type": "markdown",
   "metadata": {},
   "source": [
    "학습 시작"
   ]
  },
  {
   "cell_type": "code",
   "execution_count": 5,
   "metadata": {},
   "outputs": [
    {
     "name": "stderr",
     "output_type": "stream",
     "text": [
      "2024-10-17 02:08:14,803\tWARNING deprecation.py:50 -- DeprecationWarning: `ray.rllib.execution.train_ops.multi_gpu_train_one_step` has been deprecated. This will raise an error in the future!\n"
     ]
    },
    {
     "name": "stdout",
     "output_type": "stream",
     "text": [
      "000th iteration done\n",
      "Checkpoint saved in directory TrainingResult(checkpoint=Checkpoint(filesystem=local, path=PPO_Friction_chg_v2_512x5_0), metrics={'custom_metrics': {}, 'episode_media': {}, 'info': {'learner': {'default_policy': {'custom_metrics': {}, 'learner_stats': {'cur_kl_coeff': 0.20000000000000004, 'cur_lr': 0.00010000000000000003, 'total_loss': 3.549940444320761, 'policy_loss': -0.18541419129738565, 'vf_loss': 3.7261565261630603, 'vf_explained_var': -0.0012734625929145403, 'kl': 0.045990597233376514, 'entropy': 19.81745474825623, 'entropy_coeff': 0.0}, 'model': {}, 'num_grad_updates_lifetime': 465.5, 'diff_num_grad_updates_vs_sampler_policy': 464.5}}, 'num_env_steps_sampled': 4000, 'num_env_steps_trained': 4000, 'num_agent_steps_sampled': 4000, 'num_agent_steps_trained': 4000}, 'env_runners': {'episode_reward_max': nan, 'episode_reward_min': nan, 'episode_reward_mean': nan, 'episode_len_mean': nan, 'episode_media': {}, 'episodes_timesteps_total': 0, 'policy_reward_min': {}, 'policy_reward_max': {}, 'policy_reward_mean': {}, 'custom_metrics': {}, 'hist_stats': {'episode_reward': [], 'episode_lengths': []}, 'sampler_perf': {}, 'num_faulty_episodes': 0, 'connector_metrics': {}, 'num_episodes': 0, 'episode_return_max': nan, 'episode_return_min': nan, 'episode_return_mean': nan, 'episodes_this_iter': 0}, 'num_healthy_workers': 12, 'num_in_flight_async_sample_reqs': 0, 'num_remote_worker_restarts': 0, 'num_agent_steps_sampled': 4000, 'num_agent_steps_trained': 4000, 'num_env_steps_sampled': 4000, 'num_env_steps_trained': 4000, 'num_env_steps_sampled_this_iter': 4000, 'num_env_steps_trained_this_iter': 4000, 'num_env_steps_sampled_throughput_per_sec': 362.7207280282267, 'num_env_steps_trained_throughput_per_sec': 362.7207280282267, 'timesteps_total': 4000, 'num_env_steps_sampled_lifetime': 4000, 'num_agent_steps_sampled_lifetime': 4000, 'num_steps_trained_this_iter': 4000, 'agent_timesteps_total': 4000, 'timers': {'training_iteration_time_ms': 11027.768, 'restore_workers_time_ms': 0.0, 'training_step_time_ms': 11027.768, 'sample_time_ms': 4973.093, 'load_time_ms': 2.994, 'load_throughput': 1336191.144, 'learn_time_ms': 6028.27, 'learn_throughput': 663.54, 'synch_weights_time_ms': 22.417}, 'counters': {'num_env_steps_sampled': 4000, 'num_env_steps_trained': 4000, 'num_agent_steps_sampled': 4000, 'num_agent_steps_trained': 4000}, 'done': False, 'training_iteration': 1, 'trial_id': 'default', 'date': '2024-10-17_02-08-20', 'timestamp': 1729098500, 'time_this_iter_s': 11.044266700744629, 'time_total_s': 11.044266700744629, 'pid': 40672, 'hostname': 'OMEN-45L', 'node_ip': '127.0.0.1', 'config': {'extra_python_environs_for_driver': {}, 'extra_python_environs_for_worker': {}, 'placement_strategy': 'PACK', 'num_gpus': 1, '_fake_gpus': False, 'num_cpus_for_main_process': 1, 'eager_tracing': True, 'eager_max_retraces': 20, 'tf_session_args': {'intra_op_parallelism_threads': 2, 'inter_op_parallelism_threads': 2, 'gpu_options': {'allow_growth': True}, 'log_device_placement': False, 'device_count': {'CPU': 1}, 'allow_soft_placement': True}, 'local_tf_session_args': {'intra_op_parallelism_threads': 8, 'inter_op_parallelism_threads': 8}, 'torch_compile_learner': False, 'torch_compile_learner_what_to_compile': <TorchCompileWhatToCompile.FORWARD_TRAIN: 'forward_train'>, 'torch_compile_learner_dynamo_backend': 'inductor', 'torch_compile_learner_dynamo_mode': None, 'torch_compile_worker': False, 'torch_compile_worker_dynamo_backend': 'onnxrt', 'torch_compile_worker_dynamo_mode': None, 'torch_ddp_kwargs': {}, 'torch_skip_nan_gradients': False, 'enable_rl_module_and_learner': False, 'enable_env_runner_and_connector_v2': False, 'env': 'plane-v1', 'env_config': {}, 'observation_space': None, 'action_space': None, 'clip_rewards': None, 'normalize_actions': True, 'clip_actions': False, '_is_atari': None, 'disable_env_checking': False, 'env_task_fn': None, 'render_env': False, 'action_mask_key': 'action_mask', 'env_runner_cls': None, 'num_env_runners': 12, 'num_envs_per_env_runner': 1, 'num_cpus_per_env_runner': 1, 'num_gpus_per_env_runner': 0.07692307692307693, 'custom_resources_per_env_runner': {}, 'validate_env_runners_after_construction': True, 'sample_timeout_s': 60.0, '_env_to_module_connector': None, 'add_default_connectors_to_env_to_module_pipeline': True, '_module_to_env_connector': None, 'add_default_connectors_to_module_to_env_pipeline': True, 'episode_lookback_horizon': 1, 'rollout_fragment_length': 'auto', 'batch_mode': 'truncate_episodes', 'compress_observations': False, 'remote_worker_envs': False, 'remote_env_batch_wait_ms': 0, 'enable_tf1_exec_eagerly': False, 'sample_collector': <class 'ray.rllib.evaluation.collectors.simple_list_collector.SimpleListCollector'>, 'preprocessor_pref': 'deepmind', 'observation_filter': 'NoFilter', 'update_worker_filter_stats': True, 'use_worker_filter_stats': True, 'enable_connectors': True, 'sampler_perf_stats_ema_coef': None, 'num_learners': 0, 'num_gpus_per_learner': 0, 'num_cpus_per_learner': 1, 'local_gpu_idx': 0, 'gamma': 0.95, 'lr': 0.0001, 'grad_clip': None, 'grad_clip_by': 'global_norm', 'train_batch_size_per_learner': None, 'train_batch_size': 4000, 'model': {'_disable_preprocessor_api': False, '_disable_action_flattening': False, 'fcnet_hiddens': [512, 512, 512, 512, 512], 'fcnet_activation': 'tanh', 'fcnet_weights_initializer': None, 'fcnet_weights_initializer_config': None, 'fcnet_bias_initializer': None, 'fcnet_bias_initializer_config': None, 'conv_filters': None, 'conv_activation': 'relu', 'conv_kernel_initializer': None, 'conv_kernel_initializer_config': None, 'conv_bias_initializer': None, 'conv_bias_initializer_config': None, 'conv_transpose_kernel_initializer': None, 'conv_transpose_kernel_initializer_config': None, 'conv_transpose_bias_initializer': None, 'conv_transpose_bias_initializer_config': None, 'post_fcnet_hiddens': [], 'post_fcnet_activation': 'relu', 'post_fcnet_weights_initializer': None, 'post_fcnet_weights_initializer_config': None, 'post_fcnet_bias_initializer': None, 'post_fcnet_bias_initializer_config': None, 'free_log_std': False, 'no_final_linear': False, 'vf_share_layers': False, 'use_lstm': False, 'max_seq_len': 20, 'lstm_cell_size': 256, 'lstm_use_prev_action': False, 'lstm_use_prev_reward': False, 'lstm_weights_initializer': None, 'lstm_weights_initializer_config': None, 'lstm_bias_initializer': None, 'lstm_bias_initializer_config': None, '_time_major': False, 'use_attention': False, 'attention_num_transformer_units': 1, 'attention_dim': 64, 'attention_num_heads': 1, 'attention_head_dim': 32, 'attention_memory_inference': 50, 'attention_memory_training': 50, 'attention_position_wise_mlp_dim': 32, 'attention_init_gru_gate_bias': 2.0, 'attention_use_n_prev_actions': 0, 'attention_use_n_prev_rewards': 0, 'framestack': True, 'dim': 84, 'grayscale': False, 'zero_mean': True, 'custom_model': None, 'custom_model_config': {}, 'custom_action_dist': None, 'custom_preprocessor': None, 'encoder_latent_dim': None, 'always_check_shapes': False, 'lstm_use_prev_action_reward': -1, '_use_default_native_models': -1}, '_learner_connector': None, 'add_default_connectors_to_learner_pipeline': True, 'learner_config_dict': {}, 'optimizer': {}, 'max_requests_in_flight_per_sampler_worker': 2, '_learner_class': None, 'explore': True, 'exploration_config': {'type': 'StochasticSampling'}, 'count_steps_by': 'env_steps', 'policy_map_capacity': 100, 'policy_mapping_fn': <function AlgorithmConfig.DEFAULT_POLICY_MAPPING_FN at 0x000001F7BCEDDEE0>, 'policies_to_train': None, 'policy_states_are_swappable': False, 'observation_fn': None, 'input_read_method': 'read_parquet', 'input_read_method_kwargs': {}, 'input_read_schema': {}, 'input_read_episodes': False, 'input_read_sample_batches': False, 'input_filesystem': None, 'input_filesystem_kwargs': {}, 'input_compress_columns': ['obs', 'new_obs'], 'input_spaces_jsonable': True, 'map_batches_kwargs': {}, 'iter_batches_kwargs': {}, 'prelearner_class': None, 'prelearner_module_synch_period': 10, 'dataset_num_iters_per_learner': None, 'input_config': {}, 'actions_in_input_normalized': False, 'postprocess_inputs': False, 'shuffle_buffer_size': 0, 'output': None, 'output_config': {}, 'output_compress_columns': ['obs', 'new_obs'], 'output_max_file_size': 67108864, 'output_max_rows_per_file': None, 'output_write_method': 'write_parquet', 'output_write_method_kwargs': {}, 'output_filesystem': None, 'output_filesystem_kwargs': {}, 'output_write_episodes': True, 'offline_sampling': False, 'evaluation_interval': 100, 'evaluation_duration': 10, 'evaluation_duration_unit': 'episodes', 'evaluation_sample_timeout_s': 120.0, 'evaluation_parallel_to_training': False, 'evaluation_force_reset_envs_before_iteration': True, 'evaluation_config': None, 'off_policy_estimation_methods': {}, 'ope_split_batch_by_episode': True, 'evaluation_num_env_runners': 0, 'in_evaluation': False, 'sync_filters_on_rollout_workers_timeout_s': 10.0, 'keep_per_episode_custom_metrics': False, 'metrics_episode_collection_timeout_s': 60.0, 'metrics_num_episodes_for_smoothing': 100, 'min_time_s_per_iteration': None, 'min_train_timesteps_per_iteration': 0, 'min_sample_timesteps_per_iteration': 0, 'export_native_model_files': False, 'checkpoint_trainable_policies_only': False, 'logger_creator': None, 'logger_config': None, 'log_level': 'WARN', 'log_sys_usage': True, 'fake_sampler': False, 'seed': None, '_run_training_always_in_thread': False, '_evaluation_parallel_to_training_wo_thread': False, 'ignore_env_runner_failures': False, 'recreate_failed_env_runners': False, 'max_num_env_runner_restarts': 1000, 'delay_between_env_runner_restarts_s': 60.0, 'restart_failed_sub_environments': False, 'num_consecutive_env_runner_failures_tolerance': 100, 'env_runner_health_probe_timeout_s': 30, 'env_runner_restore_timeout_s': 1800, '_model_config_dict': {}, '_rl_module_spec': None, '_AlgorithmConfig__prior_exploration_config': None, 'algorithm_config_overrides_per_module': {}, '_per_module_overrides': {}, '_torch_grad_scaler_class': None, '_torch_lr_scheduler_classes': None, '_tf_policy_handles_more_than_one_loss': False, '_disable_preprocessor_api': False, '_disable_action_flattening': False, '_disable_initialize_loss_from_dummy_batch': False, '_dont_auto_sync_env_runner_states': False, 'simple_optimizer': False, 'policy_map_cache': -1, 'worker_cls': -1, 'synchronize_filters': -1, 'enable_async_evaluation': -1, 'custom_async_evaluation_function': -1, '_enable_rl_module_api': -1, 'auto_wrap_old_gym_envs': -1, 'always_attach_evaluation_results': -1, 'replay_sequence_length': None, '_disable_execution_plan_api': -1, 'lr_schedule': None, 'use_critic': True, 'use_gae': True, 'use_kl_loss': True, 'kl_coeff': 0.2, 'kl_target': 0.01, 'sgd_minibatch_size': 128, 'mini_batch_size_per_learner': None, 'num_sgd_iter': 30, 'shuffle_sequences': True, 'vf_loss_coeff': 1.0, 'entropy_coeff': 0.0, 'entropy_coeff_schedule': None, 'clip_param': 0.3, 'vf_clip_param': 10.0, 'vf_share_layers': -1, 'lambda': 1.0, 'input': 'sampler', 'policies': {'default_policy': (None, None, None, None)}, 'callbacks': <class 'ray.rllib.algorithms.callbacks.DefaultCallbacks'>, 'create_env_on_driver': False, 'custom_eval_function': None, 'framework': 'torch'}, 'time_since_restore': 11.044266700744629, 'iterations_since_restore': 1, 'perf': {'cpu_util_percent': 2.005343511450382, 'ram_util_percent': 43.5557251908397}})\n",
      "001th iteration done\n",
      "002th iteration done\n",
      "003th iteration done\n",
      "004th iteration done\n"
     ]
    },
    {
     "name": "stderr",
     "output_type": "stream",
     "text": [
      "2024-10-17 02:09:08,875\tERROR actor_manager.py:523 -- Ray error, taking actor 9 out of service. \u001b[36mray::RolloutWorker.apply()\u001b[39m (pid=31148, ip=127.0.0.1, actor_id=1213bb6ae0743c3430881b4401000000, repr=<ray.rllib.evaluation.rollout_worker.RolloutWorker object at 0x0000015142C71190>)\n",
      "  File \"python\\ray\\_raylet.pyx\", line 1859, in ray._raylet.execute_task\n",
      "  File \"python\\ray\\_raylet.pyx\", line 1800, in ray._raylet.execute_task.function_executor\n",
      "  File \"c:\\Users\\doore\\anaconda3\\envs\\gdtor\\Lib\\site-packages\\ray\\_private\\function_manager.py\", line 691, in actor_method_executor\n",
      "    return method(__ray_actor, *args, **kwargs)\n",
      "           ^^^^^^^^^^^^^^^^^^^^^^^^^^^^^^^^^^^^\n",
      "  File \"c:\\Users\\doore\\anaconda3\\envs\\gdtor\\Lib\\site-packages\\ray\\util\\tracing\\tracing_helper.py\", line 467, in _resume_span\n",
      "    return method(self, *_args, **_kwargs)\n",
      "           ^^^^^^^^^^^^^^^^^^^^^^^^^^^^^^^\n",
      "  File \"c:\\Users\\doore\\anaconda3\\envs\\gdtor\\Lib\\site-packages\\ray\\rllib\\utils\\actor_manager.py\", line 192, in apply\n",
      "    raise e\n",
      "  File \"c:\\Users\\doore\\anaconda3\\envs\\gdtor\\Lib\\site-packages\\ray\\rllib\\utils\\actor_manager.py\", line 181, in apply\n",
      "    return func(self, *args, **kwargs)\n",
      "           ^^^^^^^^^^^^^^^^^^^^^^^^^^^\n",
      "  File \"c:\\Users\\doore\\anaconda3\\envs\\gdtor\\Lib\\site-packages\\ray\\rllib\\execution\\rollout_ops.py\", line 102, in <lambda>\n",
      "    (lambda w: w.sample(**random_action_kwargs))\n",
      "               ^^^^^^^^^^^^^^^^^^^^^^^^^^^^^^^^\n",
      "  File \"c:\\Users\\doore\\anaconda3\\envs\\gdtor\\Lib\\site-packages\\ray\\util\\tracing\\tracing_helper.py\", line 467, in _resume_span\n",
      "    return method(self, *_args, **_kwargs)\n",
      "           ^^^^^^^^^^^^^^^^^^^^^^^^^^^^^^^\n",
      "  File \"c:\\Users\\doore\\anaconda3\\envs\\gdtor\\Lib\\site-packages\\ray\\rllib\\evaluation\\rollout_worker.py\", line 678, in sample\n",
      "    batches = [self.input_reader.next()]\n",
      "               ^^^^^^^^^^^^^^^^^^^^^^^^\n",
      "  File \"c:\\Users\\doore\\anaconda3\\envs\\gdtor\\Lib\\site-packages\\ray\\rllib\\evaluation\\sampler.py\", line 91, in next\n",
      "    batches = [self.get_data()]\n",
      "               ^^^^^^^^^^^^^^^\n",
      "  File \"c:\\Users\\doore\\anaconda3\\envs\\gdtor\\Lib\\site-packages\\ray\\rllib\\evaluation\\sampler.py\", line 273, in get_data\n",
      "    item = next(self._env_runner)\n",
      "           ^^^^^^^^^^^^^^^^^^^^^^\n",
      "  File \"c:\\Users\\doore\\anaconda3\\envs\\gdtor\\Lib\\site-packages\\ray\\rllib\\evaluation\\env_runner_v2.py\", line 348, in run\n",
      "    outputs = self.step()\n",
      "              ^^^^^^^^^^^\n",
      "  File \"c:\\Users\\doore\\anaconda3\\envs\\gdtor\\Lib\\site-packages\\ray\\rllib\\evaluation\\env_runner_v2.py\", line 404, in step\n",
      "    self._base_env.send_actions(actions_to_send)\n",
      "  File \"c:\\Users\\doore\\anaconda3\\envs\\gdtor\\Lib\\site-packages\\ray\\rllib\\env\\vector_env.py\", line 462, in send_actions\n",
      "    ) = self.vector_env.vector_step(action_vector)\n",
      "        ^^^^^^^^^^^^^^^^^^^^^^^^^^^^^^^^^^^^^^^^^^\n",
      "  File \"c:\\Users\\doore\\anaconda3\\envs\\gdtor\\Lib\\site-packages\\ray\\rllib\\env\\vector_env.py\", line 358, in vector_step\n",
      "    raise e\n",
      "  File \"c:\\Users\\doore\\anaconda3\\envs\\gdtor\\Lib\\site-packages\\ray\\rllib\\env\\vector_env.py\", line 351, in vector_step\n",
      "    results = self.envs[i].step(actions[i])\n",
      "              ^^^^^^^^^^^^^^^^^^^^^^^^^^^^^\n",
      "  File \"c:\\users\\doore\\project\\snake_rl\\gd_tor\\learning\\horcrux_terrain_v1\\horcrux_terrain_v1\\envs\\plane_v1.py\", line 291, in step\n",
      "    reward = reward + terminated_forward\n",
      "                      ^^^^^^^^^^^^^^^^^^\n",
      "UnboundLocalError: cannot access local variable 'terminated_forward' where it is not associated with a value\n"
     ]
    },
    {
     "ename": "RayTaskError(UnboundLocalError)",
     "evalue": "\u001b[36mray::RolloutWorker.apply()\u001b[39m (pid=31148, ip=127.0.0.1, actor_id=1213bb6ae0743c3430881b4401000000, repr=<ray.rllib.evaluation.rollout_worker.RolloutWorker object at 0x0000015142C71190>)\n  File \"python\\ray\\_raylet.pyx\", line 1859, in ray._raylet.execute_task\n  File \"python\\ray\\_raylet.pyx\", line 1800, in ray._raylet.execute_task.function_executor\n  File \"c:\\Users\\doore\\anaconda3\\envs\\gdtor\\Lib\\site-packages\\ray\\_private\\function_manager.py\", line 691, in actor_method_executor\n    return method(__ray_actor, *args, **kwargs)\n           ^^^^^^^^^^^^^^^^^^^^^^^^^^^^^^^^^^^^\n  File \"c:\\Users\\doore\\anaconda3\\envs\\gdtor\\Lib\\site-packages\\ray\\util\\tracing\\tracing_helper.py\", line 467, in _resume_span\n    return method(self, *_args, **_kwargs)\n           ^^^^^^^^^^^^^^^^^^^^^^^^^^^^^^^\n  File \"c:\\Users\\doore\\anaconda3\\envs\\gdtor\\Lib\\site-packages\\ray\\rllib\\utils\\actor_manager.py\", line 192, in apply\n    raise e\n  File \"c:\\Users\\doore\\anaconda3\\envs\\gdtor\\Lib\\site-packages\\ray\\rllib\\utils\\actor_manager.py\", line 181, in apply\n    return func(self, *args, **kwargs)\n           ^^^^^^^^^^^^^^^^^^^^^^^^^^^\n  File \"c:\\Users\\doore\\anaconda3\\envs\\gdtor\\Lib\\site-packages\\ray\\rllib\\execution\\rollout_ops.py\", line 102, in <lambda>\n    (lambda w: w.sample(**random_action_kwargs))\n               ^^^^^^^^^^^^^^^^^^^^^^^^^^^^^^^^\n  File \"c:\\Users\\doore\\anaconda3\\envs\\gdtor\\Lib\\site-packages\\ray\\util\\tracing\\tracing_helper.py\", line 467, in _resume_span\n    return method(self, *_args, **_kwargs)\n           ^^^^^^^^^^^^^^^^^^^^^^^^^^^^^^^\n  File \"c:\\Users\\doore\\anaconda3\\envs\\gdtor\\Lib\\site-packages\\ray\\rllib\\evaluation\\rollout_worker.py\", line 678, in sample\n    batches = [self.input_reader.next()]\n               ^^^^^^^^^^^^^^^^^^^^^^^^\n  File \"c:\\Users\\doore\\anaconda3\\envs\\gdtor\\Lib\\site-packages\\ray\\rllib\\evaluation\\sampler.py\", line 91, in next\n    batches = [self.get_data()]\n               ^^^^^^^^^^^^^^^\n  File \"c:\\Users\\doore\\anaconda3\\envs\\gdtor\\Lib\\site-packages\\ray\\rllib\\evaluation\\sampler.py\", line 273, in get_data\n    item = next(self._env_runner)\n           ^^^^^^^^^^^^^^^^^^^^^^\n  File \"c:\\Users\\doore\\anaconda3\\envs\\gdtor\\Lib\\site-packages\\ray\\rllib\\evaluation\\env_runner_v2.py\", line 348, in run\n    outputs = self.step()\n              ^^^^^^^^^^^\n  File \"c:\\Users\\doore\\anaconda3\\envs\\gdtor\\Lib\\site-packages\\ray\\rllib\\evaluation\\env_runner_v2.py\", line 404, in step\n    self._base_env.send_actions(actions_to_send)\n  File \"c:\\Users\\doore\\anaconda3\\envs\\gdtor\\Lib\\site-packages\\ray\\rllib\\env\\vector_env.py\", line 462, in send_actions\n    ) = self.vector_env.vector_step(action_vector)\n        ^^^^^^^^^^^^^^^^^^^^^^^^^^^^^^^^^^^^^^^^^^\n  File \"c:\\Users\\doore\\anaconda3\\envs\\gdtor\\Lib\\site-packages\\ray\\rllib\\env\\vector_env.py\", line 358, in vector_step\n    raise e\n  File \"c:\\Users\\doore\\anaconda3\\envs\\gdtor\\Lib\\site-packages\\ray\\rllib\\env\\vector_env.py\", line 351, in vector_step\n    results = self.envs[i].step(actions[i])\n              ^^^^^^^^^^^^^^^^^^^^^^^^^^^^^\n  File \"c:\\users\\doore\\project\\snake_rl\\gd_tor\\learning\\horcrux_terrain_v1\\horcrux_terrain_v1\\envs\\plane_v1.py\", line 291, in step\n    reward = reward + terminated_forward\n                      ^^^^^^^^^^^^^^^^^^\nUnboundLocalError: cannot access local variable 'terminated_forward' where it is not associated with a value",
     "output_type": "error",
     "traceback": [
      "\u001b[1;31m---------------------------------------------------------------------------\u001b[0m",
      "\u001b[1;31mRayTaskError(UnboundLocalError)\u001b[0m           Traceback (most recent call last)",
      "Cell \u001b[1;32mIn[5], line 8\u001b[0m\n\u001b[0;32m      5\u001b[0m save_name \u001b[38;5;241m=\u001b[39m \u001b[38;5;124m\"\u001b[39m\u001b[38;5;124mPPO_Friction_chg_v2_512x5\u001b[39m\u001b[38;5;124m\"\u001b[39m\n\u001b[0;32m      7\u001b[0m \u001b[38;5;28;01mfor\u001b[39;00m i \u001b[38;5;129;01min\u001b[39;00m \u001b[38;5;28mrange\u001b[39m(n_iter):\n\u001b[1;32m----> 8\u001b[0m     result \u001b[38;5;241m=\u001b[39m algo\u001b[38;5;241m.\u001b[39mtrain()\n\u001b[0;32m      9\u001b[0m     \u001b[38;5;28mprint\u001b[39m(\u001b[38;5;124mf\u001b[39m\u001b[38;5;124m\"\u001b[39m\u001b[38;5;132;01m{\u001b[39;00mi\u001b[38;5;132;01m:\u001b[39;00m\u001b[38;5;124m03d\u001b[39m\u001b[38;5;132;01m}\u001b[39;00m\u001b[38;5;124mth iteration done\u001b[39m\u001b[38;5;124m\"\u001b[39m)\n\u001b[0;32m     10\u001b[0m     \u001b[38;5;66;03m# result.pop(\"config\")\u001b[39;00m\n\u001b[0;32m     11\u001b[0m     \u001b[38;5;66;03m# pprint(result)\u001b[39;00m\n",
      "File \u001b[1;32mc:\\Users\\doore\\anaconda3\\envs\\gdtor\\Lib\\site-packages\\ray\\tune\\trainable\\trainable.py:331\u001b[0m, in \u001b[0;36mTrainable.train\u001b[1;34m(self)\u001b[0m\n\u001b[0;32m    329\u001b[0m \u001b[38;5;28;01mexcept\u001b[39;00m \u001b[38;5;167;01mException\u001b[39;00m \u001b[38;5;28;01mas\u001b[39;00m e:\n\u001b[0;32m    330\u001b[0m     skipped \u001b[38;5;241m=\u001b[39m skip_exceptions(e)\n\u001b[1;32m--> 331\u001b[0m     \u001b[38;5;28;01mraise\u001b[39;00m skipped \u001b[38;5;28;01mfrom\u001b[39;00m \u001b[38;5;21;01mexception_cause\u001b[39;00m(skipped)\n\u001b[0;32m    333\u001b[0m \u001b[38;5;28;01massert\u001b[39;00m \u001b[38;5;28misinstance\u001b[39m(result, \u001b[38;5;28mdict\u001b[39m), \u001b[38;5;124m\"\u001b[39m\u001b[38;5;124mstep() needs to return a dict.\u001b[39m\u001b[38;5;124m\"\u001b[39m\n\u001b[0;32m    335\u001b[0m \u001b[38;5;66;03m# We do not modify internal state nor update this result if duplicate.\u001b[39;00m\n",
      "File \u001b[1;32mc:\\Users\\doore\\anaconda3\\envs\\gdtor\\Lib\\site-packages\\ray\\tune\\trainable\\trainable.py:328\u001b[0m, in \u001b[0;36mTrainable.train\u001b[1;34m(self)\u001b[0m\n\u001b[0;32m    326\u001b[0m start \u001b[38;5;241m=\u001b[39m time\u001b[38;5;241m.\u001b[39mtime()\n\u001b[0;32m    327\u001b[0m \u001b[38;5;28;01mtry\u001b[39;00m:\n\u001b[1;32m--> 328\u001b[0m     result \u001b[38;5;241m=\u001b[39m \u001b[38;5;28mself\u001b[39m\u001b[38;5;241m.\u001b[39mstep()\n\u001b[0;32m    329\u001b[0m \u001b[38;5;28;01mexcept\u001b[39;00m \u001b[38;5;167;01mException\u001b[39;00m \u001b[38;5;28;01mas\u001b[39;00m e:\n\u001b[0;32m    330\u001b[0m     skipped \u001b[38;5;241m=\u001b[39m skip_exceptions(e)\n",
      "File \u001b[1;32mc:\\Users\\doore\\anaconda3\\envs\\gdtor\\Lib\\site-packages\\ray\\rllib\\algorithms\\algorithm.py:949\u001b[0m, in \u001b[0;36mAlgorithm.step\u001b[1;34m(self)\u001b[0m\n\u001b[0;32m    939\u001b[0m     (\n\u001b[0;32m    940\u001b[0m         train_results,\n\u001b[0;32m    941\u001b[0m         eval_results,\n\u001b[0;32m    942\u001b[0m         train_iter_ctx,\n\u001b[0;32m    943\u001b[0m     ) \u001b[38;5;241m=\u001b[39m \u001b[38;5;28mself\u001b[39m\u001b[38;5;241m.\u001b[39m_run_one_training_iteration_and_evaluation_in_parallel()\n\u001b[0;32m    945\u001b[0m \u001b[38;5;66;03m# - No evaluation necessary, just run the next training iteration.\u001b[39;00m\n\u001b[0;32m    946\u001b[0m \u001b[38;5;66;03m# - We have to evaluate in this training iteration, but no parallelism ->\u001b[39;00m\n\u001b[0;32m    947\u001b[0m \u001b[38;5;66;03m#   evaluate after the training iteration is entirely done.\u001b[39;00m\n\u001b[0;32m    948\u001b[0m \u001b[38;5;28;01melse\u001b[39;00m:\n\u001b[1;32m--> 949\u001b[0m     train_results, train_iter_ctx \u001b[38;5;241m=\u001b[39m \u001b[38;5;28mself\u001b[39m\u001b[38;5;241m.\u001b[39m_run_one_training_iteration()\n\u001b[0;32m    951\u001b[0m \u001b[38;5;66;03m# Sequential: Train (already done above), then evaluate.\u001b[39;00m\n\u001b[0;32m    952\u001b[0m \u001b[38;5;28;01mif\u001b[39;00m evaluate_this_iter \u001b[38;5;129;01mand\u001b[39;00m \u001b[38;5;129;01mnot\u001b[39;00m \u001b[38;5;28mself\u001b[39m\u001b[38;5;241m.\u001b[39mconfig\u001b[38;5;241m.\u001b[39mevaluation_parallel_to_training:\n",
      "File \u001b[1;32mc:\\Users\\doore\\anaconda3\\envs\\gdtor\\Lib\\site-packages\\ray\\rllib\\algorithms\\algorithm.py:3598\u001b[0m, in \u001b[0;36mAlgorithm._run_one_training_iteration\u001b[1;34m(self)\u001b[0m\n\u001b[0;32m   3594\u001b[0m \u001b[38;5;66;03m# Try to train one step.\u001b[39;00m\n\u001b[0;32m   3595\u001b[0m \u001b[38;5;28;01mwith\u001b[39;00m \u001b[38;5;28mself\u001b[39m\u001b[38;5;241m.\u001b[39m_timers[TRAINING_STEP_TIMER]:\n\u001b[0;32m   3596\u001b[0m     \u001b[38;5;66;03m# TODO (sven): Should we reduce the different\u001b[39;00m\n\u001b[0;32m   3597\u001b[0m     \u001b[38;5;66;03m#  `training_step_results` over time with MetricsLogger.\u001b[39;00m\n\u001b[1;32m-> 3598\u001b[0m     training_step_results \u001b[38;5;241m=\u001b[39m \u001b[38;5;28mself\u001b[39m\u001b[38;5;241m.\u001b[39mtraining_step()\n\u001b[0;32m   3600\u001b[0m \u001b[38;5;28;01mif\u001b[39;00m training_step_results:\n\u001b[0;32m   3601\u001b[0m     results \u001b[38;5;241m=\u001b[39m training_step_results\n",
      "File \u001b[1;32mc:\\Users\\doore\\anaconda3\\envs\\gdtor\\Lib\\site-packages\\ray\\rllib\\algorithms\\ppo\\ppo.py:442\u001b[0m, in \u001b[0;36mPPO.training_step\u001b[1;34m(self)\u001b[0m\n\u001b[0;32m    438\u001b[0m     \u001b[38;5;28;01mreturn\u001b[39;00m \u001b[38;5;28mself\u001b[39m\u001b[38;5;241m.\u001b[39m_training_step_new_api_stack()\n\u001b[0;32m    439\u001b[0m \u001b[38;5;66;03m# Old and hybrid API stacks (Policy, RolloutWorker, Connector, maybe RLModule,\u001b[39;00m\n\u001b[0;32m    440\u001b[0m \u001b[38;5;66;03m# maybe Learner).\u001b[39;00m\n\u001b[0;32m    441\u001b[0m \u001b[38;5;28;01melse\u001b[39;00m:\n\u001b[1;32m--> 442\u001b[0m     \u001b[38;5;28;01mreturn\u001b[39;00m \u001b[38;5;28mself\u001b[39m\u001b[38;5;241m.\u001b[39m_training_step_old_and_hybrid_api_stacks()\n",
      "File \u001b[1;32mc:\\Users\\doore\\anaconda3\\envs\\gdtor\\Lib\\site-packages\\ray\\rllib\\algorithms\\ppo\\ppo.py:555\u001b[0m, in \u001b[0;36mPPO._training_step_old_and_hybrid_api_stacks\u001b[1;34m(self)\u001b[0m\n\u001b[0;32m    549\u001b[0m     train_batch \u001b[38;5;241m=\u001b[39m synchronous_parallel_sample(\n\u001b[0;32m    550\u001b[0m         worker_set\u001b[38;5;241m=\u001b[39m\u001b[38;5;28mself\u001b[39m\u001b[38;5;241m.\u001b[39menv_runner_group,\n\u001b[0;32m    551\u001b[0m         max_agent_steps\u001b[38;5;241m=\u001b[39m\u001b[38;5;28mself\u001b[39m\u001b[38;5;241m.\u001b[39mconfig\u001b[38;5;241m.\u001b[39mtotal_train_batch_size,\n\u001b[0;32m    552\u001b[0m         sample_timeout_s\u001b[38;5;241m=\u001b[39m\u001b[38;5;28mself\u001b[39m\u001b[38;5;241m.\u001b[39mconfig\u001b[38;5;241m.\u001b[39msample_timeout_s,\n\u001b[0;32m    553\u001b[0m     )\n\u001b[0;32m    554\u001b[0m \u001b[38;5;28;01melse\u001b[39;00m:\n\u001b[1;32m--> 555\u001b[0m     train_batch \u001b[38;5;241m=\u001b[39m synchronous_parallel_sample(\n\u001b[0;32m    556\u001b[0m         worker_set\u001b[38;5;241m=\u001b[39m\u001b[38;5;28mself\u001b[39m\u001b[38;5;241m.\u001b[39menv_runner_group,\n\u001b[0;32m    557\u001b[0m         max_env_steps\u001b[38;5;241m=\u001b[39m\u001b[38;5;28mself\u001b[39m\u001b[38;5;241m.\u001b[39mconfig\u001b[38;5;241m.\u001b[39mtotal_train_batch_size,\n\u001b[0;32m    558\u001b[0m         sample_timeout_s\u001b[38;5;241m=\u001b[39m\u001b[38;5;28mself\u001b[39m\u001b[38;5;241m.\u001b[39mconfig\u001b[38;5;241m.\u001b[39msample_timeout_s,\n\u001b[0;32m    559\u001b[0m     )\n\u001b[0;32m    560\u001b[0m \u001b[38;5;66;03m# Return early if all our workers failed.\u001b[39;00m\n\u001b[0;32m    561\u001b[0m \u001b[38;5;28;01mif\u001b[39;00m \u001b[38;5;129;01mnot\u001b[39;00m train_batch:\n",
      "File \u001b[1;32mc:\\Users\\doore\\anaconda3\\envs\\gdtor\\Lib\\site-packages\\ray\\rllib\\execution\\rollout_ops.py:100\u001b[0m, in \u001b[0;36msynchronous_parallel_sample\u001b[1;34m(worker_set, max_agent_steps, max_env_steps, concat, sample_timeout_s, random_actions, _uses_new_env_runners, _return_metrics)\u001b[0m\n\u001b[0;32m     97\u001b[0m         stats_dicts \u001b[38;5;241m=\u001b[39m [worker_set\u001b[38;5;241m.\u001b[39mlocal_env_runner\u001b[38;5;241m.\u001b[39mget_metrics()]\n\u001b[0;32m     98\u001b[0m \u001b[38;5;66;03m# Loop over remote workers' `sample()` method in parallel.\u001b[39;00m\n\u001b[0;32m     99\u001b[0m \u001b[38;5;28;01melse\u001b[39;00m:\n\u001b[1;32m--> 100\u001b[0m     sampled_data \u001b[38;5;241m=\u001b[39m worker_set\u001b[38;5;241m.\u001b[39mforeach_worker(\n\u001b[0;32m    101\u001b[0m         (\n\u001b[0;32m    102\u001b[0m             (\u001b[38;5;28;01mlambda\u001b[39;00m w: w\u001b[38;5;241m.\u001b[39msample(\u001b[38;5;241m*\u001b[39m\u001b[38;5;241m*\u001b[39mrandom_action_kwargs))\n\u001b[0;32m    103\u001b[0m             \u001b[38;5;28;01mif\u001b[39;00m \u001b[38;5;129;01mnot\u001b[39;00m _return_metrics\n\u001b[0;32m    104\u001b[0m             \u001b[38;5;28;01melse\u001b[39;00m (\u001b[38;5;28;01mlambda\u001b[39;00m w: (w\u001b[38;5;241m.\u001b[39msample(\u001b[38;5;241m*\u001b[39m\u001b[38;5;241m*\u001b[39mrandom_action_kwargs), w\u001b[38;5;241m.\u001b[39mget_metrics()))\n\u001b[0;32m    105\u001b[0m         ),\n\u001b[0;32m    106\u001b[0m         local_env_runner\u001b[38;5;241m=\u001b[39m\u001b[38;5;28;01mFalse\u001b[39;00m,\n\u001b[0;32m    107\u001b[0m         timeout_seconds\u001b[38;5;241m=\u001b[39msample_timeout_s,\n\u001b[0;32m    108\u001b[0m     )\n\u001b[0;32m    109\u001b[0m     \u001b[38;5;66;03m# Nothing was returned (maybe all workers are stalling) or no healthy\u001b[39;00m\n\u001b[0;32m    110\u001b[0m     \u001b[38;5;66;03m# remote workers left: Break.\u001b[39;00m\n\u001b[0;32m    111\u001b[0m     \u001b[38;5;66;03m# There is no point staying in this loop, since we will not be able to\u001b[39;00m\n\u001b[0;32m    112\u001b[0m     \u001b[38;5;66;03m# get any new samples if we don't have any healthy remote workers left.\u001b[39;00m\n\u001b[0;32m    113\u001b[0m     \u001b[38;5;28;01mif\u001b[39;00m \u001b[38;5;129;01mnot\u001b[39;00m sampled_data \u001b[38;5;129;01mor\u001b[39;00m worker_set\u001b[38;5;241m.\u001b[39mnum_healthy_remote_workers() \u001b[38;5;241m<\u001b[39m\u001b[38;5;241m=\u001b[39m \u001b[38;5;241m0\u001b[39m:\n",
      "File \u001b[1;32mc:\\Users\\doore\\anaconda3\\envs\\gdtor\\Lib\\site-packages\\ray\\rllib\\env\\env_runner_group.py:900\u001b[0m, in \u001b[0;36mEnvRunnerGroup.foreach_worker\u001b[1;34m(self, func, local_env_runner, healthy_only, remote_worker_ids, timeout_seconds, return_obj_refs, mark_healthy, local_worker)\u001b[0m\n\u001b[0;32m    889\u001b[0m     \u001b[38;5;28;01mreturn\u001b[39;00m local_result\n\u001b[0;32m    891\u001b[0m remote_results \u001b[38;5;241m=\u001b[39m \u001b[38;5;28mself\u001b[39m\u001b[38;5;241m.\u001b[39m_worker_manager\u001b[38;5;241m.\u001b[39mforeach_actor(\n\u001b[0;32m    892\u001b[0m     func,\n\u001b[0;32m    893\u001b[0m     healthy_only\u001b[38;5;241m=\u001b[39mhealthy_only,\n\u001b[1;32m   (...)\u001b[0m\n\u001b[0;32m    897\u001b[0m     mark_healthy\u001b[38;5;241m=\u001b[39mmark_healthy,\n\u001b[0;32m    898\u001b[0m )\n\u001b[1;32m--> 900\u001b[0m _handle_remote_call_result_errors(\n\u001b[0;32m    901\u001b[0m     remote_results, \u001b[38;5;28mself\u001b[39m\u001b[38;5;241m.\u001b[39m_ignore_env_runner_failures\n\u001b[0;32m    902\u001b[0m )\n\u001b[0;32m    904\u001b[0m \u001b[38;5;66;03m# With application errors handled, return good results.\u001b[39;00m\n\u001b[0;32m    905\u001b[0m remote_results \u001b[38;5;241m=\u001b[39m [r\u001b[38;5;241m.\u001b[39mget() \u001b[38;5;28;01mfor\u001b[39;00m r \u001b[38;5;129;01min\u001b[39;00m remote_results\u001b[38;5;241m.\u001b[39mignore_errors()]\n",
      "File \u001b[1;32mc:\\Users\\doore\\anaconda3\\envs\\gdtor\\Lib\\site-packages\\ray\\rllib\\env\\env_runner_group.py:1254\u001b[0m, in \u001b[0;36m_handle_remote_call_result_errors\u001b[1;34m(results, ignore_env_runner_failures)\u001b[0m\n\u001b[0;32m   1252\u001b[0m     logger\u001b[38;5;241m.\u001b[39mexception(r\u001b[38;5;241m.\u001b[39mget())\n\u001b[0;32m   1253\u001b[0m \u001b[38;5;28;01melse\u001b[39;00m:\n\u001b[1;32m-> 1254\u001b[0m     \u001b[38;5;28;01mraise\u001b[39;00m r\u001b[38;5;241m.\u001b[39mget()\n",
      "\u001b[1;31mRayTaskError(UnboundLocalError)\u001b[0m: \u001b[36mray::RolloutWorker.apply()\u001b[39m (pid=31148, ip=127.0.0.1, actor_id=1213bb6ae0743c3430881b4401000000, repr=<ray.rllib.evaluation.rollout_worker.RolloutWorker object at 0x0000015142C71190>)\n  File \"python\\ray\\_raylet.pyx\", line 1859, in ray._raylet.execute_task\n  File \"python\\ray\\_raylet.pyx\", line 1800, in ray._raylet.execute_task.function_executor\n  File \"c:\\Users\\doore\\anaconda3\\envs\\gdtor\\Lib\\site-packages\\ray\\_private\\function_manager.py\", line 691, in actor_method_executor\n    return method(__ray_actor, *args, **kwargs)\n           ^^^^^^^^^^^^^^^^^^^^^^^^^^^^^^^^^^^^\n  File \"c:\\Users\\doore\\anaconda3\\envs\\gdtor\\Lib\\site-packages\\ray\\util\\tracing\\tracing_helper.py\", line 467, in _resume_span\n    return method(self, *_args, **_kwargs)\n           ^^^^^^^^^^^^^^^^^^^^^^^^^^^^^^^\n  File \"c:\\Users\\doore\\anaconda3\\envs\\gdtor\\Lib\\site-packages\\ray\\rllib\\utils\\actor_manager.py\", line 192, in apply\n    raise e\n  File \"c:\\Users\\doore\\anaconda3\\envs\\gdtor\\Lib\\site-packages\\ray\\rllib\\utils\\actor_manager.py\", line 181, in apply\n    return func(self, *args, **kwargs)\n           ^^^^^^^^^^^^^^^^^^^^^^^^^^^\n  File \"c:\\Users\\doore\\anaconda3\\envs\\gdtor\\Lib\\site-packages\\ray\\rllib\\execution\\rollout_ops.py\", line 102, in <lambda>\n    (lambda w: w.sample(**random_action_kwargs))\n               ^^^^^^^^^^^^^^^^^^^^^^^^^^^^^^^^\n  File \"c:\\Users\\doore\\anaconda3\\envs\\gdtor\\Lib\\site-packages\\ray\\util\\tracing\\tracing_helper.py\", line 467, in _resume_span\n    return method(self, *_args, **_kwargs)\n           ^^^^^^^^^^^^^^^^^^^^^^^^^^^^^^^\n  File \"c:\\Users\\doore\\anaconda3\\envs\\gdtor\\Lib\\site-packages\\ray\\rllib\\evaluation\\rollout_worker.py\", line 678, in sample\n    batches = [self.input_reader.next()]\n               ^^^^^^^^^^^^^^^^^^^^^^^^\n  File \"c:\\Users\\doore\\anaconda3\\envs\\gdtor\\Lib\\site-packages\\ray\\rllib\\evaluation\\sampler.py\", line 91, in next\n    batches = [self.get_data()]\n               ^^^^^^^^^^^^^^^\n  File \"c:\\Users\\doore\\anaconda3\\envs\\gdtor\\Lib\\site-packages\\ray\\rllib\\evaluation\\sampler.py\", line 273, in get_data\n    item = next(self._env_runner)\n           ^^^^^^^^^^^^^^^^^^^^^^\n  File \"c:\\Users\\doore\\anaconda3\\envs\\gdtor\\Lib\\site-packages\\ray\\rllib\\evaluation\\env_runner_v2.py\", line 348, in run\n    outputs = self.step()\n              ^^^^^^^^^^^\n  File \"c:\\Users\\doore\\anaconda3\\envs\\gdtor\\Lib\\site-packages\\ray\\rllib\\evaluation\\env_runner_v2.py\", line 404, in step\n    self._base_env.send_actions(actions_to_send)\n  File \"c:\\Users\\doore\\anaconda3\\envs\\gdtor\\Lib\\site-packages\\ray\\rllib\\env\\vector_env.py\", line 462, in send_actions\n    ) = self.vector_env.vector_step(action_vector)\n        ^^^^^^^^^^^^^^^^^^^^^^^^^^^^^^^^^^^^^^^^^^\n  File \"c:\\Users\\doore\\anaconda3\\envs\\gdtor\\Lib\\site-packages\\ray\\rllib\\env\\vector_env.py\", line 358, in vector_step\n    raise e\n  File \"c:\\Users\\doore\\anaconda3\\envs\\gdtor\\Lib\\site-packages\\ray\\rllib\\env\\vector_env.py\", line 351, in vector_step\n    results = self.envs[i].step(actions[i])\n              ^^^^^^^^^^^^^^^^^^^^^^^^^^^^^\n  File \"c:\\users\\doore\\project\\snake_rl\\gd_tor\\learning\\horcrux_terrain_v1\\horcrux_terrain_v1\\envs\\plane_v1.py\", line 291, in step\n    reward = reward + terminated_forward\n                      ^^^^^^^^^^^^^^^^^^\nUnboundLocalError: cannot access local variable 'terminated_forward' where it is not associated with a value"
     ]
    }
   ],
   "source": [
    "from pprint import pprint\n",
    "\n",
    "n_iter = 6000\n",
    "save_iter = 0\n",
    "save_name = \"PPO_Friction_chg_v2_512x5\"\n",
    "\n",
    "for i in range(n_iter):\n",
    "    result = algo.train()\n",
    "    print(f\"{i:03d}th iteration done\")\n",
    "    # result.pop(\"config\")\n",
    "    # pprint(result)\n",
    "\n",
    "    if i%500 == 0:\n",
    "        checkpoint_dir = algo.save(save_name+\"_\"+str(save_iter))\n",
    "        print(f\"Checkpoint saved in directory {checkpoint_dir}\")\n",
    "        save_iter += 1\n",
    "\n",
    "algo.save(save_name+str(\"_final\"))"
   ]
  },
  {
   "cell_type": "markdown",
   "metadata": {},
   "source": [
    "환경에서 학습된 Policy 테스트하기 (RL Module 사용)"
   ]
  },
  {
   "cell_type": "code",
   "execution_count": null,
   "metadata": {},
   "outputs": [],
   "source": [
    "from ray.rllib.core.rl_module import RLModule\n",
    "import pathlib\n",
    "import torch\n",
    "import numpy as np\n",
    "import gymnasium as gym\n",
    "from horcrux_terrain_v1.envs import SandWorld\n",
    "import time\n",
    "\n",
    "algo = Algorithm.from_checkpoint(\"./ModelV2_512x5_11\")\n"
   ]
  },
  {
   "cell_type": "code",
   "execution_count": null,
   "metadata": {},
   "outputs": [],
   "source": [
    "# env = gym.make(\"horcrux_terrain_v1/plane-v1\", \n",
    "#                terminate_when_unhealthy = False, \n",
    "#                render_mode = \"human\", \n",
    "#             #    render_camera_name = 'ceiling', \n",
    "#                use_gait = True,\n",
    "#                gait_params = (30,30,40,40,0),\n",
    "#                **env_config,\n",
    "#                ) \n",
    "\n",
    "# obs, info = env.reset()\n",
    "\n",
    "# algo.get_policy().action_connectors"
   ]
  },
  {
   "cell_type": "code",
   "execution_count": null,
   "metadata": {},
   "outputs": [],
   "source": [
    "# env = gym.make(\"horcrux_terrain_v1/sand-v1\", \n",
    "#                terminate_when_unhealthy = False, \n",
    "#                render_mode = \"human\", \n",
    "#             #    render_camera_name = 'ceiling', \n",
    "#                use_gait = True,\n",
    "#                gait_params = (30,30,40,40,0),\n",
    "#                **env_config,\n",
    "#                ) \n",
    "\n",
    "env = gym.make(\"horcrux_terrain_v1/plane-v1\", \n",
    "               terminate_when_unhealthy = False, \n",
    "               render_mode = \"human\", \n",
    "            #    render_camera_name = 'ceiling', \n",
    "               use_gait = True,\n",
    "               gait_params = (30,30,40,40,0),\n",
    "               **env_config,\n",
    "               ) \n",
    "\n",
    "for j in range(5):\n",
    "   episode_return = 0\n",
    "   terminated = truncated = False\n",
    "\n",
    "   obs, info = env.reset()\n",
    "\n",
    "\n",
    "   for i in range(6000):\n",
    "      action = algo.compute_single_action(obs, explore=False)\n",
    "      \n",
    "      obs, reward, terminated, truncated, info = env.step(action)\n",
    "      \n",
    "      prev_a = action\n",
    "\n",
    "      if terminated:\n",
    "         print(\"terminated\")\n",
    "\n",
    "      episode_return += reward\n",
    "\n",
    "   print(f\"Reached episode return of {episode_return}.\")\n",
    "\n",
    "env.close()"
   ]
  },
  {
   "cell_type": "markdown",
   "metadata": {},
   "source": [
    "환경에서 학습된 Policy 테스트하기 (PPO 알고리즘 사용)"
   ]
  },
  {
   "cell_type": "code",
   "execution_count": null,
   "metadata": {},
   "outputs": [],
   "source": [
    "import pathlib\n",
    "import torch\n",
    "import numpy as np\n",
    "import gymnasium as gym\n",
    "from horcrux_terrain_v1.envs import SandWorld\n",
    "from ray.rllib.algorithms.algorithm import Algorithm\n",
    "import time\n",
    "\n",
    "env = gym.make(\"horcrux_terrain_v1/plane-v1\", \n",
    "               terminate_when_unhealthy = False, \n",
    "               render_mode = \"human\", \n",
    "            #    render_camera_name = 'ceiling', \n",
    "               use_gait = True,\n",
    "               gait_params = (30,30,40,40,0),\n",
    "               **env_config,\n",
    "               ) \n",
    "\n",
    "for j in range(10):\n",
    "   episode_return = 0\n",
    "   terminated = truncated = False\n",
    "\n",
    "   obs, info = env.reset()\n",
    "\n",
    "   init_state = state = [np.zeros([4096], np.float32) for _ in range(200)]\n",
    "   prev_action = np.zeros((14), np.float32)\n",
    "   for i in range(1000):\n",
    "\n",
    "      a, init_state = algo.compute_single_action(observation= obs, state=init_state, prev_action=prev_action,policy_id=\"default_policy\")\n",
    "      \n",
    "      obs, reward, terminated, truncated, info = env.step(action)\n",
    "\n",
    "      prev_action = a\n",
    "      if terminated:\n",
    "         print(\"terminated\")\n",
    "\n",
    "      episode_return += reward\n",
    "\n",
    "   print(f\"Reached episode return of {episode_return}.\")\n",
    "\n",
    "env.close()"
   ]
  }
 ],
 "metadata": {
  "kernelspec": {
   "display_name": "gdtor",
   "language": "python",
   "name": "python3"
  },
  "language_info": {
   "codemirror_mode": {
    "name": "ipython",
    "version": 3
   },
   "file_extension": ".py",
   "mimetype": "text/x-python",
   "name": "python",
   "nbconvert_exporter": "python",
   "pygments_lexer": "ipython3",
   "version": "3.12.5"
  }
 },
 "nbformat": 4,
 "nbformat_minor": 4
}
