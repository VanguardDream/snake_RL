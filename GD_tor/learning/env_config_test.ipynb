{
 "cells": [
  {
   "cell_type": "markdown",
   "metadata": {},
   "source": [
    "* Ray RLlib 노트북"
   ]
  },
  {
   "cell_type": "markdown",
   "metadata": {},
   "source": [
    "필요 패키지 삽입"
   ]
  },
  {
   "cell_type": "code",
   "execution_count": null,
   "metadata": {},
   "outputs": [],
   "source": [
    "import gymnasium as gym\n",
    "import numpy as np\n",
    "import pandas as pd\n",
    "\n",
    "from horcrux_terrain_v1.envs import SandWorld\n",
    "\n",
    "import ray\n",
    "from ray.rllib.algorithms import ppo\n",
    "from ray.rllib.algorithms.ppo import PPOConfig\n",
    "\n",
    "from ray.tune.registry import register_env\n"
   ]
  },
  {
   "cell_type": "markdown",
   "metadata": {},
   "source": [
    "Ray 실행 (Warning 관련 무시 키워드)"
   ]
  },
  {
   "cell_type": "code",
   "execution_count": null,
   "metadata": {},
   "outputs": [],
   "source": [
    "ray.init(runtime_env={\"env_vars\": {\"PYTHONWARNINGS\": \"ignore::DeprecationWarning\"}})"
   ]
  },
  {
   "cell_type": "markdown",
   "metadata": {},
   "source": [
    "Gym -> Rllib Env 등록"
   ]
  },
  {
   "cell_type": "code",
   "execution_count": 3,
   "metadata": {},
   "outputs": [],
   "source": [
    "env_config = {\n",
    "    \"forward_reward_weight\": 4,\n",
    "    \"side_cost_weight\": 0.2,\n",
    "    \"unhealthy_max_steps\": 75,\n",
    "    \"healthy_roll_range\": (-70,70),\n",
    "    \"rotation_norm_cost_weight\": 0.1,\n",
    "}\n",
    "\n",
    "register_env(\"sand-v1\", lambda config: SandWorld(forward_reward_weight=env_config[\"forward_reward_weight\"], \n",
    "                                                 side_cost_weight=env_config[\"side_cost_weight\"], \n",
    "                                                 unhealthy_max_steps=env_config[\"unhealthy_max_steps\"], \n",
    "                                                 healthy_roll_range=env_config[\"healthy_roll_range\"],\n",
    "                                                 rotation_norm_cost_weight=env_config[\"rotation_norm_cost_weight\"]))"
   ]
  },
  {
   "cell_type": "markdown",
   "metadata": {},
   "source": [
    "학습 알고리즘 설정"
   ]
  },
  {
   "cell_type": "code",
   "execution_count": null,
   "metadata": {},
   "outputs": [],
   "source": [
    "config = PPOConfig()\n",
    "# Activate new API stack.\n",
    "config.api_stack(\n",
    "    enable_rl_module_and_learner=True,\n",
    "    enable_env_runner_and_connector_v2=True,\n",
    ")\n",
    "config.environment(\"sand-v1\")\n",
    "config.framework(\"torch\")\n",
    "config.resources(num_gpus=1, num_cpus_for_main_process=12)\n",
    "config.env_runners(num_env_runners=12)\n",
    "config.training(\n",
    "    gamma=0.9, \n",
    "    lr=0.0001, \n",
    "    # kl_coeff=0.3, \n",
    "    train_batch_size_per_learner=96000,              \n",
    "    sgd_minibatch_size=32768, \n",
    ")\n",
    "config.evaluation(evaluation_interval=100)\n",
    "\n",
    "# See model catalog for more options.\n",
    "# https://docs.ray.io/en/latest/rllib/rllib-models.html\n",
    "# config.model[\"fcnet_hiddens\"] = [512, 512, 512, 512, 512]\n",
    "config.model[\"fcnet_hiddens\"] = [1024, 1024, 1024, 1024, 1024]\n",
    "config.model[\"use_lstm\"] = True\n",
    "# config.model[\"lstm_cell_size\"] = 2048\n",
    "config.model[\"lstm_cell_size\"] = 4096\n",
    "\n",
    "algo = config.build()\n"
   ]
  },
  {
   "cell_type": "markdown",
   "metadata": {},
   "source": [
    "학습 시작"
   ]
  },
  {
   "cell_type": "code",
   "execution_count": null,
   "metadata": {},
   "outputs": [],
   "source": [
    "from pprint import pprint\n",
    "\n",
    "n_iter = 150\n",
    "save_iter = 0\n",
    "save_name = \"1024x5_4096_inf\"\n",
    "\n",
    "for i in range(n_iter):\n",
    "    result = algo.train()\n",
    "    print(f\"{i:03d}th iteration done\")\n",
    "    result.pop(\"config\")\n",
    "    pprint(result)\n",
    "\n",
    "    if i%60 == 0:\n",
    "        checkpoint_dir = algo.save(save_name+\"_\"+str(save_iter))\n",
    "        print(f\"Checkpoint saved in directory {checkpoint_dir}\")\n",
    "        save_iter += 1\n",
    "\n",
    "algo.save(save_name+str(\"_final\"))"
   ]
  },
  {
   "cell_type": "markdown",
   "metadata": {},
   "source": [
    "환경에서 학습된 Policy 테스트하기"
   ]
  },
  {
   "cell_type": "code",
   "execution_count": 6,
   "metadata": {},
   "outputs": [],
   "source": [
    "from ray.rllib.core.rl_module import RLModule\n",
    "import pathlib\n",
    "import torch\n",
    "import numpy as np\n",
    "import gymnasium as gym\n",
    "from horcrux_terrain_v1.envs import SandWorld\n",
    "\n",
    "rl_module = RLModule.from_checkpoint(\n",
    "    pathlib.Path(\"./1024x5_4096_inf_final\") / \"learner_group\" / \"learner\" / \"rl_module\"\n",
    ")[\"default_policy\"]"
   ]
  },
  {
   "cell_type": "code",
   "execution_count": null,
   "metadata": {},
   "outputs": [],
   "source": [
    "env = gym.make(\"horcrux_terrain_v1/sand-v1\", \n",
    "               terminate_when_unhealthy = False, \n",
    "               render_mode = \"human\", \n",
    "            #    render_camera_name = 'ceiling', \n",
    "               use_gait = True,\n",
    "               gait_params = (30,30,40,40,0),\n",
    "               **env_config,\n",
    "               ) \n",
    "\n",
    "\n",
    "episode_return = 0\n",
    "terminated = truncated = False\n",
    "\n",
    "obs, info = env.reset()\n",
    "\n",
    "torch_obs_batch = torch.from_numpy(np.array([obs]))\n",
    "\n",
    "for i in range(6000):\n",
    "   torch_obs_batch = torch.from_numpy(np.array([obs]))\n",
    "   action_logits = rl_module.forward_inference({\"obs\": torch_obs_batch})[\n",
    "      \"action_dist_inputs\"\n",
    "    ]\n",
    "   \n",
    "   action = torch.argmax(action_logits[0]).numpy()\n",
    "   obs, reward, terminated, truncated, info = env.step(action)\n",
    "\n",
    "   episode_return += reward\n",
    "\n",
    "print(f\"Reached episode return of {episode_return}.\")\n",
    "\n",
    "env.close()"
   ]
  }
 ],
 "metadata": {
  "kernelspec": {
   "display_name": "rllib",
   "language": "python",
   "name": "python3"
  },
  "language_info": {
   "codemirror_mode": {
    "name": "ipython",
    "version": 3
   },
   "file_extension": ".py",
   "mimetype": "text/x-python",
   "name": "python",
   "nbconvert_exporter": "python",
   "pygments_lexer": "ipython3",
   "version": "3.12.5"
  }
 },
 "nbformat": 4,
 "nbformat_minor": 4
}
