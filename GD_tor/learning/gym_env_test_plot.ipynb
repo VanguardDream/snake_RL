{
 "cells": [
  {
   "cell_type": "markdown",
   "metadata": {},
   "source": [
    "* Mujoco 실행 및 변수 확인용"
   ]
  },
  {
   "cell_type": "markdown",
   "metadata": {},
   "source": [
    "필요 패키지 삽입"
   ]
  },
  {
   "cell_type": "code",
   "execution_count": null,
   "metadata": {},
   "outputs": [],
   "source": [
    "import horcrux_terrain_v1\n",
    "import gymnasium as gym\n",
    "import numpy as np\n",
    "import pandas as pd\n",
    "\n",
    "import os\n",
    "import pathlib\n",
    "import time\n",
    "import mediapy as media\n",
    "\n",
    "import matplotlib.pyplot as plt\n",
    "\n",
    "from gymnasium.utils.save_video import save_video"
   ]
  },
  {
   "cell_type": "markdown",
   "metadata": {},
   "source": [
    "ENV 생성"
   ]
  },
  {
   "cell_type": "code",
   "execution_count": null,
   "metadata": {},
   "outputs": [],
   "source": [
    "env = gym.make(\"horcrux_terrain_v1/climb-v1\", \n",
    "                terminate_when_unhealthy = False, \n",
    "                # render_mode = \"rgb_array\", \n",
    "                render_mode = \"human\", \n",
    "                # render_camera_name = 'ceiling', \n",
    "                use_gait = True,\n",
    "                gait_params = (0,0,55,55,90),\n",
    "                rotation_norm_cost_weight = 1,) \n",
    "\n",
    "_ = env.reset()\n",
    "t_now = time.time()\n",
    "\n",
    "for j in range(3):\n",
    "    com_x = np.empty((0,1))\n",
    "    com_x2 = np.empty((0,1))\n",
    "    com_y = np.empty((0,1))\n",
    "    com_y2 = np.empty((0,1))\n",
    "    com_z = np.empty((0,1))\n",
    "    com_z2 = np.empty((0,1))\n",
    "    for i in range(80):\n",
    "        # while (time.time() - t_now) < 0.1:\n",
    "            # pass  \n",
    "        t_now = time.time()\n",
    "\n",
    "        random = np.ones(14) * 1.0\n",
    "\n",
    "        obs, rew, terminated, _, info = env.step(random)\n",
    "\n",
    "        com_x = np.vstack((com_x, info['init_com'][0]))\n",
    "        com_y = np.vstack((com_y, info['init_com'][1]))\n",
    "        com_z = np.vstack((com_z, info['init_com'][2]))\n",
    "\n",
    "        com_x2 = np.vstack((com_x2, info['com_pos'][0]))\n",
    "        com_y2 = np.vstack((com_y2, info['com_pos'][1]))\n",
    "        com_z2 = np.vstack((com_z2, info['com_pos'][2]))\n",
    "\n",
    "        if terminated:\n",
    "            env.reset()\n",
    "            print(\"terminated\")\n",
    "        \n",
    "        pixels = env.render()\n",
    "        # print(info[\"reward_straightness\"])\n",
    "\n",
    "    env.reset()\n",
    "\n",
    "env.close()"
   ]
  },
  {
   "cell_type": "markdown",
   "metadata": {},
   "source": [
    "데이터 플롯"
   ]
  },
  {
   "cell_type": "code",
   "execution_count": null,
   "metadata": {},
   "outputs": [],
   "source": [
    "\n",
    "indices = np.arange(len(com_x))\n",
    "\n",
    "plt.figure()\n",
    "plt.plot(indices, com_x, label='Vector a', marker='o')\n",
    "plt.plot(indices, com_y, label='Vector b', marker='o')\n",
    "plt.plot(indices, com_z, label='Vector c', marker='o')\n",
    "\n",
    "# 라벨과 제목 추가\n",
    "plt.xlabel('Step')\n",
    "plt.ylabel('Value')\n",
    "plt.title('Three Column Vectors')\n",
    "plt.legend([\"x\", \"y\", \"z\"])\n",
    "plt.grid(True)\n",
    "\n",
    "# 플롯 보여주기\n",
    "plt.show()\n"
   ]
  },
  {
   "cell_type": "code",
   "execution_count": null,
   "metadata": {},
   "outputs": [],
   "source": [
    "np.mean(com_x)"
   ]
  },
  {
   "cell_type": "code",
   "execution_count": null,
   "metadata": {},
   "outputs": [],
   "source": [
    "\n",
    "indices = np.arange(len(com_x))\n",
    "\n",
    "plt.figure()\n",
    "plt.plot(indices, com_x2, label='Vector a', marker='o')\n",
    "plt.plot(indices, com_y2, label='Vector b', marker='o')\n",
    "plt.plot(indices, com_z2, label='Vector c', marker='o')\n",
    "\n",
    "# 라벨과 제목 추가\n",
    "plt.xlabel('Step')\n",
    "plt.ylabel('Value')\n",
    "plt.title('Three Column Vectors')\n",
    "plt.legend([\"x\", \"y\", \"z\"])\n",
    "plt.grid(True)\n",
    "\n",
    "# 플롯 보여주기\n",
    "plt.show()"
   ]
  }
 ],
 "metadata": {
  "kernelspec": {
   "display_name": "gdtor",
   "language": "python",
   "name": "python3"
  },
  "language_info": {
   "codemirror_mode": {
    "name": "ipython",
    "version": 3
   },
   "file_extension": ".py",
   "mimetype": "text/x-python",
   "name": "python",
   "nbconvert_exporter": "python",
   "pygments_lexer": "ipython3",
   "version": "3.12.5"
  }
 },
 "nbformat": 4,
 "nbformat_minor": 2
}
