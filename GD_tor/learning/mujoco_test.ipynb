{
 "cells": [
  {
   "cell_type": "markdown",
   "metadata": {},
   "source": [
    "* Mujoco 실행 및 변수 확인용"
   ]
  },
  {
   "cell_type": "markdown",
   "metadata": {},
   "source": [
    "필요 패키지 삽입"
   ]
  },
  {
   "cell_type": "code",
   "execution_count": 1,
   "metadata": {},
   "outputs": [],
   "source": [
    "import numpy as np\n",
    "import mujoco\n",
    "import os\n",
    "import pathlib\n",
    "import mediapy as media"
   ]
  },
  {
   "cell_type": "code",
   "execution_count": 2,
   "metadata": {},
   "outputs": [],
   "source": [
    "__location__ = os.getcwd()\n",
    "__location__ = pathlib.Path(__location__)\n",
    "__model_location__ = __location__.joinpath('horcrux_terrain_v1').joinpath('horcrux_terrain_v1').joinpath('resources')\n",
    "__model_path__ = os.path.join(__model_location__,'horcrux_plane_obstacle.xml')\n",
    "\n",
    "model = mujoco.MjModel.from_xml_path(__model_path__)\n",
    "data = mujoco.MjData(model)\n",
    "\n",
    "mujoco.mj_forward(model, data)"
   ]
  },
  {
   "cell_type": "code",
   "execution_count": 6,
   "metadata": {},
   "outputs": [],
   "source": [
    "# data.geom('pvc_pipe').xpos = [3.5, 0, 1]\n",
    "# data.geom('pvc_pipe').xpos\n",
    "\n",
    "color_r = [1.0, 0.4, 0.4, 0.7]\n",
    "color_b = [0.4, 0.4, 1.0, 0.7]\n",
    "obstacle_binary = [np.random.randint(0, 2) for _ in range(8)]\n",
    "\n",
    "for i, binary in enumerate(obstacle_binary):\n",
    "    if binary:\n",
    "        model.geom(f\"pvc_pipe{i+1}\").rgba = color_r\n",
    "        model.geom(f\"pvc_pipe{i+1}\").pos[2] = 0.025\n",
    "    else:\n",
    "        model.geom(f\"pvc_pipe{i+1}\").rgba = color_b\n",
    "        model.geom(f\"pvc_pipe{i+1}\").pos[2] = 0.75"
   ]
  },
  {
   "cell_type": "code",
   "execution_count": 9,
   "metadata": {},
   "outputs": [],
   "source": [
    "# mujoco.mj_forward(model, data)\n",
    "mujoco.mj_step(model, data)"
   ]
  },
  {
   "cell_type": "code",
   "execution_count": null,
   "metadata": {},
   "outputs": [],
   "source": [
    "# model.geom('floor').friction = [0.5, 0.1, 0.01]\n",
    "model.geom('floor').friction"
   ]
  },
  {
   "cell_type": "code",
   "execution_count": null,
   "metadata": {},
   "outputs": [],
   "source": [
    "with mujoco.Renderer(model) as renderer:\n",
    "  renderer.update_scene(data, camera=\"ceiling\")\n",
    "  media.show_image(renderer.render())"
   ]
  },
  {
   "cell_type": "code",
   "execution_count": 84,
   "metadata": {},
   "outputs": [],
   "source": [
    "model.geom('pvc_pipe1').pos[2] = 0.025"
   ]
  },
  {
   "cell_type": "code",
   "execution_count": null,
   "metadata": {},
   "outputs": [],
   "source": [
    "xpos_low = -19\n",
    "xpos_high = 19\n",
    "\n",
    "x_xpos = np.random.uniform(low=xpos_low, high=xpos_high)\n",
    "y_xpos = np.random.uniform(low=xpos_low, high=xpos_high)\n",
    "\n",
    "data.qpos\n"
   ]
  }
 ],
 "metadata": {
  "kernelspec": {
   "display_name": "gdtor",
   "language": "python",
   "name": "python3"
  },
  "language_info": {
   "codemirror_mode": {
    "name": "ipython",
    "version": 3
   },
   "file_extension": ".py",
   "mimetype": "text/x-python",
   "name": "python",
   "nbconvert_exporter": "python",
   "pygments_lexer": "ipython3",
   "version": "3.12.5"
  }
 },
 "nbformat": 4,
 "nbformat_minor": 2
}
