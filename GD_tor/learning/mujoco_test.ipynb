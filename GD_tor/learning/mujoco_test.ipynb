{
 "cells": [
  {
   "cell_type": "markdown",
   "metadata": {},
   "source": [
    "* Mujoco 실행 및 변수 확인용"
   ]
  },
  {
   "cell_type": "markdown",
   "metadata": {},
   "source": [
    "필요 패키지 삽입"
   ]
  },
  {
   "cell_type": "code",
   "execution_count": 3,
   "metadata": {},
   "outputs": [],
   "source": [
    "import numpy as np\n",
    "import mujoco\n",
    "import os\n",
    "import pathlib"
   ]
  },
  {
   "cell_type": "code",
   "execution_count": 17,
   "metadata": {},
   "outputs": [
    {
     "data": {
      "text/plain": [
       "<_MjDataBodyViews\n",
       "  cacc: array([0., 0., 0., 0., 0., 0.])\n",
       "  cfrc_ext: array([0., 0., 0., 0., 0., 0.])\n",
       "  cfrc_int: array([0., 0., 0., 0., 0., 0.])\n",
       "  cinert: array([0., 0., 0., 0., 0., 0., 0., 0., 0., 0.])\n",
       "  crb: array([0., 0., 0., 0., 0., 0., 0., 0., 0., 0.])\n",
       "  cvel: array([0., 0., 0., 0., 0., 0.])\n",
       "  id: 2\n",
       "  name: 'link1'\n",
       "  subtree_angmom: array([0., 0., 0.])\n",
       "  subtree_com: array([0., 0., 0.])\n",
       "  subtree_linvel: array([0., 0., 0.])\n",
       "  xfrc_applied: array([0., 0., 0., 0., 0., 0.])\n",
       "  ximat: array([0., 0., 0., 0., 0., 0., 0., 0., 0.])\n",
       "  xipos: array([0., 0., 0.])\n",
       "  xmat: array([0., 0., 0., 0., 0., 0., 0., 0., 0.])\n",
       "  xpos: array([0., 0., 0.])\n",
       "  xquat: array([0., 0., 0., 0.])\n",
       ">"
      ]
     },
     "execution_count": 17,
     "metadata": {},
     "output_type": "execute_result"
    }
   ],
   "source": [
    "__location__ = os.getcwd()\n",
    "__location__ = pathlib.Path(__location__)\n",
    "__model_location__ = __location__.joinpath('horcrux_terrain_v1').joinpath('horcrux_terrain_v1').joinpath('resources')\n",
    "__model_path__ = os.path.join(__model_location__,'horcrux_plane.xml')\n",
    "\n",
    "model = mujoco.MjModel.from_xml_path(__model_path__)\n",
    "data = mujoco.MjData(model)\n",
    "\n",
    "data.body(2)"
   ]
  }
 ],
 "metadata": {
  "kernelspec": {
   "display_name": "rllib",
   "language": "python",
   "name": "python3"
  },
  "language_info": {
   "codemirror_mode": {
    "name": "ipython",
    "version": 3
   },
   "file_extension": ".py",
   "mimetype": "text/x-python",
   "name": "python",
   "nbconvert_exporter": "python",
   "pygments_lexer": "ipython3",
   "version": "3.10.13"
  }
 },
 "nbformat": 4,
 "nbformat_minor": 2
}
