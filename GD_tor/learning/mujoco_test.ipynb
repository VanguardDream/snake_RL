{
 "cells": [
  {
   "cell_type": "markdown",
   "metadata": {},
   "source": [
    "* Mujoco 실행 및 변수 확인용"
   ]
  },
  {
   "cell_type": "markdown",
   "metadata": {},
   "source": [
    "필요 패키지 삽입"
   ]
  },
  {
   "cell_type": "code",
   "execution_count": 6,
   "metadata": {},
   "outputs": [],
   "source": [
    "import numpy as np\n",
    "import mujoco\n",
    "import os\n",
    "import pathlib"
   ]
  },
  {
   "cell_type": "code",
   "execution_count": 7,
   "metadata": {},
   "outputs": [
    {
     "data": {
      "text/plain": [
       "<_MjDataBodyViews\n",
       "  cacc: array([ 1.79064546e-14,  1.49365125e-11,  2.80506683e-14, -1.14185007e-14,\n",
       "       -1.21763998e-14,  7.06634751e-12])\n",
       "  cfrc_ext: array([0., 0., 0., 0., 0., 0.])\n",
       "  cfrc_int: array([-8.04646794e-17, -1.18540511e-13, -4.49453224e-17, -4.09852845e-16,\n",
       "       -2.72384295e-16,  7.43681703e-13])\n",
       "  cinert: array([ 7.92511031e-03,  4.44827387e+00,  4.44640703e+00, -3.80324863e-03,\n",
       "       -1.43897409e-02, -1.81225341e-04,  9.22649393e+00,  7.88526502e-03,\n",
       "        3.09994353e-02,  1.91650000e+01])\n",
       "  crb: array([ 1.21080730e-01,  2.52976068e+01,  2.53088549e+01,  3.94651689e-03,\n",
       "       -9.25692032e-03,  2.15919414e-03,  1.77635684e-15, -2.60208521e-17,\n",
       "        2.55385990e-14,  2.87475000e+02])\n",
       "  cvel: array([0., 0., 0., 0., 0., 0.])\n",
       "  id: 2\n",
       "  name: 'link1'\n",
       "  subtree_angmom: array([0., 0., 0.])\n",
       "  subtree_com: array([-4.64684957e-01,  3.13333616e-04,  2.09930415e+00])\n",
       "  subtree_linvel: array([0., 0., 0.])\n",
       "  xfrc_applied: array([0., 0., 0., 0., 0., 0.])\n",
       "  ximat: array([ 0.98757446,  0.03396945, -0.15343649, -0.02091528,  0.99608374,\n",
       "        0.08590538,  0.15575375, -0.08162879,  0.98441735])\n",
       "  xipos: array([1.67391982e-02, 7.24774525e-04, 2.10092165e+00])\n",
       "  xmat: array([1., 0., 0., 0., 1., 0., 0., 0., 1.])\n",
       "  xpos: array([0. , 0. , 2.1])\n",
       "  xquat: array([1., 0., 0., 0.])\n",
       ">"
      ]
     },
     "execution_count": 7,
     "metadata": {},
     "output_type": "execute_result"
    }
   ],
   "source": [
    "__location__ = os.getcwd()\n",
    "__location__ = pathlib.Path(__location__)\n",
    "__model_location__ = __location__.joinpath('horcrux_terrain_svd').joinpath('horcrux_terrain_svd').joinpath('resources')\n",
    "__model_path__ = os.path.join(__model_location__,'horcrux_sand.xml')\n",
    "\n",
    "model = mujoco.MjModel.from_xml_path(__model_path__)\n",
    "data = mujoco.MjData(model)\n",
    "\n",
    "mujoco.mj_forward(model, data)\n",
    "\n",
    "data.body(2)\n"
   ]
  },
  {
   "cell_type": "code",
   "execution_count": 8,
   "metadata": {},
   "outputs": [
    {
     "data": {
      "text/plain": [
       "(21,)"
      ]
     },
     "execution_count": 8,
     "metadata": {},
     "output_type": "execute_result"
    }
   ],
   "source": [
    "data.qpos.shape"
   ]
  },
  {
   "cell_type": "code",
   "execution_count": 9,
   "metadata": {},
   "outputs": [
    {
     "data": {
      "text/plain": [
       "array([0. , 0. , 2.1, 1. , 0. , 0. , 0. , 0. , 0. , 0. , 0. , 0. , 0. ,\n",
       "       0. , 0. , 0. , 0. , 0. , 0. , 0. , 0. ])"
      ]
     },
     "execution_count": 9,
     "metadata": {},
     "output_type": "execute_result"
    }
   ],
   "source": [
    "xpos_low = -19\n",
    "xpos_high = 19\n",
    "\n",
    "x_xpos = np.random.uniform(low=xpos_low, high=xpos_high)\n",
    "y_xpos = np.random.uniform(low=xpos_low, high=xpos_high)\n",
    "\n",
    "data.qpos\n",
    "\n",
    "\n"
   ]
  }
 ],
 "metadata": {
  "kernelspec": {
   "display_name": "rllib",
   "language": "python",
   "name": "python3"
  },
  "language_info": {
   "codemirror_mode": {
    "name": "ipython",
    "version": 3
   },
   "file_extension": ".py",
   "mimetype": "text/x-python",
   "name": "python",
   "nbconvert_exporter": "python",
   "pygments_lexer": "ipython3",
   "version": "3.12.5"
  }
 },
 "nbformat": 4,
 "nbformat_minor": 2
}
