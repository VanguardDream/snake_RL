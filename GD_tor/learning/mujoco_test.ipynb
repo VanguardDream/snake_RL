{
 "cells": [
  {
   "cell_type": "markdown",
   "metadata": {},
   "source": [
    "* Mujoco 실행 및 변수 확인용"
   ]
  },
  {
   "cell_type": "markdown",
   "metadata": {},
   "source": [
    "필요 패키지 삽입"
   ]
  },
  {
   "cell_type": "code",
   "execution_count": 1,
   "metadata": {},
   "outputs": [],
   "source": [
    "import numpy as np\n",
    "import mujoco\n",
    "import os\n",
    "import pathlib\n",
    "import mediapy as media"
   ]
  },
  {
   "cell_type": "code",
   "execution_count": 2,
   "metadata": {},
   "outputs": [],
   "source": [
    "__location__ = os.getcwd()\n",
    "__location__ = pathlib.Path(__location__)\n",
    "__model_location__ = __location__.joinpath('horcrux_terrain_v1').joinpath('horcrux_terrain_v1').joinpath('resources')\n",
    "__model_path__ = os.path.join(__model_location__,'horcrux_plane_obstacle.xml')\n",
    "\n",
    "model = mujoco.MjModel.from_xml_path(__model_path__)\n",
    "data = mujoco.MjData(model)\n",
    "\n",
    "mujoco.mj_forward(model, data)"
   ]
  },
  {
   "cell_type": "code",
   "execution_count": 6,
   "metadata": {},
   "outputs": [],
   "source": [
    "# data.geom('pvc_pipe').xpos = [3.5, 0, 1]\n",
    "# data.geom('pvc_pipe').xpos\n",
    "\n",
    "color_r = [1.0, 0.4, 0.4, 0.7]\n",
    "color_b = [0.4, 0.4, 1.0, 0.7]\n",
    "obstacle_binary = [np.random.randint(0, 2) for _ in range(8)]\n",
    "\n",
    "for i, binary in enumerate(obstacle_binary):\n",
    "    if binary:\n",
    "        model.geom(f\"pvc_pipe{i+1}\").rgba = color_r\n",
    "        model.geom(f\"pvc_pipe{i+1}\").pos[2] = 0.025\n",
    "    else:\n",
    "        model.geom(f\"pvc_pipe{i+1}\").rgba = color_b\n",
    "        model.geom(f\"pvc_pipe{i+1}\").pos[2] = 0.75"
   ]
  },
  {
   "cell_type": "code",
   "execution_count": 7,
   "metadata": {},
   "outputs": [],
   "source": [
    "# mujoco.mj_forward(model, data)\n",
    "mujoco.mj_step(model, data)"
   ]
  },
  {
   "cell_type": "code",
   "execution_count": 8,
   "metadata": {},
   "outputs": [
    {
     "data": {
      "text/html": [
       "<table class=\"show_images\" style=\"border-spacing:0px;\"><tr><td style=\"padding:1px;\"><img width=\"320\" height=\"240\" style=\"image-rendering:auto; object-fit:cover;\" src=\"data:image/png;base64,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\"/></td></tr></table>"
      ],
      "text/plain": [
       "<IPython.core.display.HTML object>"
      ]
     },
     "metadata": {},
     "output_type": "display_data"
    }
   ],
   "source": [
    "with mujoco.Renderer(model) as renderer:\n",
    "  renderer.update_scene(data, camera=\"ceiling\")\n",
    "  media.show_image(renderer.render())"
   ]
  },
  {
   "cell_type": "code",
   "execution_count": 84,
   "metadata": {},
   "outputs": [],
   "source": [
    "model.geom('pvc_pipe1').pos[2] = 0.025"
   ]
  },
  {
   "cell_type": "code",
   "execution_count": null,
   "metadata": {},
   "outputs": [],
   "source": [
    "xpos_low = -19\n",
    "xpos_high = 19\n",
    "\n",
    "x_xpos = np.random.uniform(low=xpos_low, high=xpos_high)\n",
    "y_xpos = np.random.uniform(low=xpos_low, high=xpos_high)\n",
    "\n",
    "data.qpos\n"
   ]
  }
 ],
 "metadata": {
  "kernelspec": {
   "display_name": "gdtor",
   "language": "python",
   "name": "python3"
  },
  "language_info": {
   "codemirror_mode": {
    "name": "ipython",
    "version": 3
   },
   "file_extension": ".py",
   "mimetype": "text/x-python",
   "name": "python",
   "nbconvert_exporter": "python",
   "pygments_lexer": "ipython3",
   "version": "3.12.5"
  }
 },
 "nbformat": 4,
 "nbformat_minor": 2
}
