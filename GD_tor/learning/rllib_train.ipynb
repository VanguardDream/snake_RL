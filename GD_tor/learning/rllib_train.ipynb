{
 "cells": [
  {
   "cell_type": "markdown",
   "metadata": {},
   "source": [
    "* Ray RLlib 노트북"
   ]
  },
  {
   "cell_type": "markdown",
   "metadata": {},
   "source": [
    "필요 패키지 삽입"
   ]
  },
  {
   "cell_type": "code",
   "execution_count": null,
   "metadata": {},
   "outputs": [
    {
     "name": "stdout",
     "output_type": "stream",
     "text": [
      "WARNING:tensorflow:From c:\\Users\\doore\\anaconda3\\envs\\rllib\\lib\\site-packages\\ray\\rllib\\utils\\framework.py:130: The name tf.logging.set_verbosity is deprecated. Please use tf.compat.v1.logging.set_verbosity instead.\n",
      "\n"
     ]
    }
   ],
   "source": [
    "import gymnasium as gym\n",
    "import numpy as np\n",
    "import pandas as pd\n",
    "\n",
    "from horcrux_terrain_v1.envs import SandWorld\n",
    "from horcrux_terrain_v1.envs import PlaneJoyWorld\n",
    "\n",
    "import ray\n",
    "from ray.rllib.algorithms import ppo\n",
    "from ray.rllib.algorithms.ppo import PPOConfig\n",
    "\n",
    "from ray.tune.registry import register_env\n"
   ]
  },
  {
   "cell_type": "markdown",
   "metadata": {},
   "source": [
    "Gym -> Rllib Env 등록"
   ]
  },
  {
   "cell_type": "code",
   "execution_count": null,
   "metadata": {},
   "outputs": [],
   "source": [
    "register_env(\"plane-v2\", lambda config: PlaneJoyWorld())"
   ]
  },
  {
   "cell_type": "markdown",
   "metadata": {},
   "source": [
    "학습 알고리즘 설정"
   ]
  },
  {
   "cell_type": "code",
   "execution_count": null,
   "metadata": {},
   "outputs": [],
   "source": [
    "config = PPOConfig()\n",
    "# Activate new API stack.\n",
    "config.api_stack(\n",
    "    enable_rl_module_and_learner=True,\n",
    "    enable_env_runner_and_connector_v2=True,\n",
    ")\n",
    "config.environment(\"sand-v1\")\n",
    "config.framework(\"torch\")\n",
    "config.resources(num_gpus=1, num_cpus_for_main_process=16)\n",
    "config.env_runners(num_env_runners=16)\n",
    "config.training(\n",
    "    gamma=0.99, \n",
    "    lr=0.0001, \n",
    "    # kl_coeff=0.3, \n",
    "    train_batch_size_per_learner=32768,              \n",
    "    sgd_minibatch_size=16384, \n",
    ")\n",
    "\n",
    "# See model catalog for more options.\n",
    "# https://docs.ray.io/en/latest/rllib/rllib-models.html\n",
    "config.model[\"fcnet_hiddens\"] = [512, 512, 512, 512, 512]\n",
    "config.model[\"use_lstm\"] = True\n",
    "config.model[\"lstm_cell_size\"] = 2048\n",
    "\n",
    "algo = config.build()\n"
   ]
  },
  {
   "cell_type": "markdown",
   "metadata": {},
   "source": [
    "학습 시작"
   ]
  },
  {
   "cell_type": "code",
   "execution_count": null,
   "metadata": {},
   "outputs": [],
   "source": [
    "n_iter = 2500\n",
    "\n",
    "for i in range(n_iter):\n",
    "    result = algo.train()\n",
    "    print(f\"{i:03d}th iteration done\")\n",
    "\n",
    "algo.save(\"512x5_2048_lstm-3\")"
   ]
  },
  {
   "cell_type": "markdown",
   "metadata": {},
   "source": [
    "다시 로드하기"
   ]
  },
  {
   "cell_type": "code",
   "execution_count": null,
   "metadata": {},
   "outputs": [],
   "source": [
    "algo.restore(\"512x5_2048_lstm-2\")"
   ]
  }
 ],
 "metadata": {
  "kernelspec": {
   "display_name": "rllib",
   "language": "python",
   "name": "python3"
  },
  "language_info": {
   "codemirror_mode": {
    "name": "ipython",
    "version": 3
   },
   "file_extension": ".py",
   "mimetype": "text/x-python",
   "name": "python",
   "nbconvert_exporter": "python",
   "pygments_lexer": "ipython3",
   "version": "3.10.13"
  }
 },
 "nbformat": 4,
 "nbformat_minor": 2
}
