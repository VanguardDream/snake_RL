{
 "cells": [
  {
   "cell_type": "markdown",
   "metadata": {},
   "source": [
    "20240726 접촉 Stiffness 시뮬레이션 비교"
   ]
  },
  {
   "cell_type": "markdown",
   "metadata": {},
   "source": [
    "* 필요 패키지 사용"
   ]
  },
  {
   "cell_type": "code",
   "execution_count": 183,
   "metadata": {},
   "outputs": [],
   "source": [
    "import numpy as np\n",
    "import mujoco\n",
    "import mujoco.viewer\n",
    "import mediapy as media\n",
    "\n",
    "import time\n",
    "import serpenoid\n",
    "import serpenoid_gamma\n",
    "\n",
    "from scipy.signal import find_peaks"
   ]
  },
  {
   "cell_type": "markdown",
   "metadata": {},
   "source": [
    "* 시뮬레이션 정의 파일 불러오기"
   ]
  },
  {
   "cell_type": "code",
   "execution_count": 184,
   "metadata": {},
   "outputs": [],
   "source": [
    "debris = mujoco.MjModel.from_xml_path(\"./contact_testing_fsensor.xml\")\n",
    "data = mujoco.MjData(debris)\n",
    "renderer = mujoco.Renderer(debris, 720, 1280)\n"
   ]
  },
  {
   "cell_type": "markdown",
   "metadata": {},
   "source": [
    "* f스트링 타입으로 변수화"
   ]
  },
  {
   "cell_type": "code",
   "execution_count": 185,
   "metadata": {},
   "outputs": [],
   "source": [
    "def varying_xml(val:list):\n",
    "    txt_xml = f\"\"\"\n",
    " <mujoco model=\"contact testing\">\n",
    "    <option timestep=\"0.00093750\"/>\n",
    "    <size memory=\"10M\"/>\n",
    "\n",
    "    <asset>\n",
    "        <texture type=\"skybox\" builtin=\"gradient\" width=\"512\" height=\"512\" rgb1=\".4 .6 .8\" rgb2=\"0 0 0\"/>\n",
    "        <texture name=\"texgeom\" type=\"cube\" builtin=\"flat\" mark=\"cross\" width=\"128\" height=\"128\"\n",
    "                 rgb1=\"0.6 0.6 0.6\" rgb2=\"0.6 0.6 0.6\" markrgb=\"1 1 1\"/>\n",
    "        <texture name=\"texplane\" type=\"2d\" builtin=\"checker\" rgb1=\".4 .4 .4\" rgb2=\".6 .6 .6\"\n",
    "                 width=\"512\" height=\"512\"/>\n",
    "        <material name=\"MatPlane\" reflectance=\"0.0\" texture=\"texplane\" texrepeat=\"1 1\" texuniform=\"true\"\n",
    "                  rgba=\".7 .7 .7 1\"/>\n",
    "        <material name=\"capsule\" texture=\"texgeom\" texuniform=\"true\" rgba=\".4 .9 .6 1\" />\n",
    "        <material name=\"ellipsoid\" texture=\"texgeom\" texuniform=\"true\" rgba=\".4 .6 .9 1\" />\n",
    "        <material name=\"box\" texture=\"texgeom\" texuniform=\"true\" rgba=\".4 .9 .9 1\" />\n",
    "        <material name=\"cylinder\" texture=\"texgeom\" texuniform=\"true\" rgba=\".8 .6 .8 1\" />\n",
    "        <material name=\"sphere\" texture=\"texgeom\" texuniform=\"true\" rgba=\".9 .1 .1 1\" />\n",
    "\n",
    "        <mesh name=\"link_collision\" file=\"./assets/dummy_contact_testing.STL\"/>\n",
    "    </asset>\n",
    "\n",
    "    <default>\n",
    "        <default class=\"collision-mesh\">\n",
    "            <geom type=\"mesh\" mesh=\"link_collision\" mass=\"0.250\" condim=\"4\" rgba=\"0.5 0.5 0.5 0.4\" priority=\"1\" friction=\"0.7 0.015 0.001\" euler=\"90 90 0\"/>\n",
    "        </default>\n",
    "    </default>\n",
    "\n",
    "    <visual>\n",
    "        <map force=\"0.1\" zfar=\"30\"/>\n",
    "        <rgba haze=\"0.15 0.25 0.35 1\"/>\n",
    "        <quality shadowsize=\"4096\"/>\n",
    "        <global offwidth=\"1280\" offheight=\"1280\"/>\n",
    "    </visual>\n",
    "\n",
    "<worldbody>\n",
    "    <!-- solimp default : \"0.9 0.95 0.001 0.5 2\" // solref default : \"0.02 1\" -->\n",
    "    <geom name=\"floor\" type=\"plane\" size=\"3 3 .5\" priority=\"2\" friction=\"0.55 0.015 0.001\" solimp=\"{val[0]} {val[1]} {val[2]} {val[3]} {val[4]}\" solref=\"{val[5]} {val[6]}\" material=\"MatPlane\"/>\n",
    "\n",
    "    <body name=\"debris\" pos=\"0 0 0.43655\" euler=\"0 0 0\"> \n",
    "        <freejoint name=\"root\"/>\n",
    "        <geom class=\"collision-mesh\"/> \n",
    "        <body>\n",
    "            <geom name=\"sensor_body\" type=\"cylinder\" size=\"0.009 0.00075\" pos=\"0.02 -0.00338 -0.0362\" mass=\"0\" priority=\"1\" friction=\"0.7 0.015 0.001\"/>\n",
    "            <site name=\"sensor\" type=\"cylinder\" size=\"0.009 0.00075\" pos=\"0.02 -0.00338 -0.0362\"/>\n",
    "        </body>\n",
    "    </body>\n",
    "</worldbody>\n",
    "\n",
    "<sensor>\n",
    "    <force name=\"force\" site=\"sensor\"/>\n",
    "</sensor>\n",
    "\n",
    "</mujoco>\n",
    "    \"\"\"\n",
    "    return txt_xml"
   ]
  },
  {
   "cell_type": "markdown",
   "metadata": {},
   "source": [
    "* 특성 최적화"
   ]
  },
  {
   "cell_type": "markdown",
   "metadata": {},
   "source": [
    "** 최적화 함수 구현"
   ]
  },
  {
   "cell_type": "code",
   "execution_count": 186,
   "metadata": {},
   "outputs": [],
   "source": [
    "import matplotlib.pyplot as plt\n",
    "\n",
    "\n",
    "\n",
    "def opt_J(terrain_x0):\n",
    "    ###\n",
    "    # Optimize the terrain parameters\n",
    "    # Sand\n",
    "    COR_ref = 0.1776\n",
    "    MAX_force_ref = 36.0513\n",
    "    deform_ref = 0.0298\n",
    "    ###\n",
    "\n",
    "    contact_force = []\n",
    "    debris_pos = []\n",
    "\n",
    "    opt_env = mujoco.MjModel.from_xml_string(varying_xml(terrain_x0))\n",
    "    opt_data = mujoco.MjData(opt_env)\n",
    "\n",
    "    t_step = opt_env.opt.timestep\n",
    "    stepspersecond = int(1/t_step)\n",
    "    mujoco.mj_resetData(opt_env, opt_data)\n",
    "    mujoco.mj_forward(opt_env, opt_data)\n",
    "\n",
    "    for i in range(2*stepspersecond):\n",
    "        contact_force.append(opt_data.sensordata[2])\n",
    "        debris_pos.append(opt_data.body(\"debris\").xpos[2])\n",
    "        mujoco.mj_step(opt_env, opt_data)\n",
    "\n",
    "    initial_heght = debris_pos[0]\n",
    "    debris_pos = debris_pos - debris_pos[0]\n",
    "\n",
    "    pos_peak, _ = find_peaks(debris_pos, prominence=0.00001)\n",
    "    peak_len = len(pos_peak)\n",
    "\n",
    "    # plt.plot(debris_pos[0:4000])\n",
    "    # plt.plot(contact_force)\n",
    "\n",
    "    if peak_len > 0:\n",
    "        COR = np.sqrt((initial_heght + debris_pos[pos_peak[0]])/(initial_heght))\n",
    "    else:\n",
    "        COR = 0.1\n",
    "\n",
    "    steady_gnd = np.mean(debris_pos[-30::])\n",
    "\n",
    "    peak_force = -np.min(contact_force)\n",
    "    deform = -(0.4 + steady_gnd)\n",
    "\n",
    "    return (COR - COR_ref)**2 + (peak_force - MAX_force_ref)**2 + (deform - deform_ref)**2\n"
   ]
  },
  {
   "cell_type": "code",
   "execution_count": 194,
   "metadata": {},
   "outputs": [
    {
     "name": "stdout",
     "output_type": "stream",
     "text": [
      "       message: Maximum number of function evaluations has been exceeded.\n",
      "       success: False\n",
      "        status: 1\n",
      "           fun: 0.00602178129754748\n",
      "             x: [ 4.399e-01  7.041e-01  7.370e-04  4.159e-01  1.112e+00\n",
      "                  5.016e-02  4.491e+00]\n",
      "           nit: 887\n",
      "          nfev: 1400\n",
      " final_simplex: (array([[ 4.399e-01,  7.041e-01, ...,  5.016e-02,\n",
      "                         4.491e+00],\n",
      "                       [ 4.398e-01,  7.040e-01, ...,  5.016e-02,\n",
      "                         4.491e+00],\n",
      "                       ...,\n",
      "                       [ 4.399e-01,  7.041e-01, ...,  5.016e-02,\n",
      "                         4.491e+00],\n",
      "                       [ 4.396e-01,  7.040e-01, ...,  5.016e-02,\n",
      "                         4.492e+00]]), array([ 6.022e-03,  6.022e-03,  6.022e-03,  6.022e-03,\n",
      "                        6.022e-03,  6.022e-03,  6.022e-03,  6.022e-03]))\n"
     ]
    },
    {
     "name": "stderr",
     "output_type": "stream",
     "text": [
      "C:\\Users\\doore\\AppData\\Local\\Temp\\ipykernel_35768\\1852953987.py:9: RuntimeWarning: Maximum number of function evaluations has been exceeded.\n",
      "  res = minimize(opt_J,\n"
     ]
    }
   ],
   "source": [
    "x0 = [0.9, 0.95, 0.001, 0.5, 2, 0.02, 1]\n",
    "x_min = (0.4,  0.4, 0.0001, 0.1, 1, 0.005, 0.5)\n",
    "x_max = (0.99, 0.99,   100, 0.9, 5,   100, 10)\n",
    "\n",
    "\n",
    "from scipy.optimize import minimize, rosen, rosen_der, Bounds\n",
    "\n",
    "bnds = Bounds(x_min, x_max)\n",
    "res = minimize(opt_J, \n",
    "               x0, \n",
    "               method='Nelder-Mead', \n",
    "               options={'xatol': 0.5, 'fatol': 1, 'disp': True},\n",
    "               bounds=bnds\n",
    "               )\n",
    "\n",
    "print(res)"
   ]
  },
  {
   "cell_type": "code",
   "execution_count": null,
   "metadata": {},
   "outputs": [],
   "source": [
    "plt.plot(debris_pos[0:4000])"
   ]
  },
  {
   "cell_type": "markdown",
   "metadata": {},
   "source": [
    "* 시뮬레이션 진행 (영상 렌더링)"
   ]
  },
  {
   "cell_type": "code",
   "execution_count": 195,
   "metadata": {},
   "outputs": [],
   "source": [
    "t_step = debris.opt.timestep\n",
    "stepspersecond = int(1/t_step)\n",
    "\n",
    "frames = []\n",
    "contact_force = []\n",
    "debris_pos = []\n",
    "\n",
    "mujoco.mj_resetData(debris, data)\n",
    "\n",
    "mujoco.mj_forward(debris, data)\n",
    "\n",
    "for i in range(2*stepspersecond):\n",
    "    mujoco.mj_step(debris, data)\n",
    "    renderer.update_scene(data)\n",
    "    pixel = renderer.render()\n",
    "\n",
    "    frames.append(pixel)\n",
    "    contact_force.append(data.sensordata[2])\n",
    "    debris_pos.append(data.body(\"debris\").xpos[2])\n",
    "\n",
    "# media.show_video(frames, fps=stepspersecond)"
   ]
  },
  {
   "cell_type": "code",
   "execution_count": 196,
   "metadata": {},
   "outputs": [
    {
     "data": {
      "text/plain": [
       "[<matplotlib.lines.Line2D at 0x2273d398790>]"
      ]
     },
     "execution_count": 196,
     "metadata": {},
     "output_type": "execute_result"
    },
    {
     "data": {
      "image/png": "[encoded data removed]",
      "text/plain": [
       "<Figure size 640x480 with 1 Axes>"
      ]
     },
     "metadata": {},
     "output_type": "display_data"
    }
   ],
   "source": [
    "import matplotlib.pyplot as plt\n",
    "\n",
    "\n",
    "plt.plot(contact_force[0:650])"
   ]
  },
  {
   "cell_type": "code",
   "execution_count": null,
   "metadata": {},
   "outputs": [],
   "source": [
    "plt.plot(debris_pos[0:4000])"
   ]
  }
 ],
 "metadata": {
  "kernelspec": {
   "display_name": "rllib",
   "language": "python",
   "name": "python3"
  },
  "language_info": {
   "codemirror_mode": {
    "name": "ipython",
    "version": 3
   },
   "file_extension": ".py",
   "mimetype": "text/x-python",
   "name": "python",
   "nbconvert_exporter": "python",
   "pygments_lexer": "ipython3",
   "version": "3.10.13"
  }
 },
 "nbformat": 4,
 "nbformat_minor": 2
}
