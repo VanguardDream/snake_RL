{
 "cells": [
  {
   "cell_type": "markdown",
   "metadata": {},
   "source": [
    "20240726 접촉 Stiffness 시뮬레이션 비교"
   ]
  },
  {
   "cell_type": "markdown",
   "metadata": {},
   "source": [
    "* 필요 패키지 사용"
   ]
  },
  {
   "cell_type": "code",
   "execution_count": 1,
   "metadata": {},
   "outputs": [],
   "source": [
    "import numpy as np\n",
    "import mujoco\n",
    "import mujoco.viewer\n",
    "import mediapy as media\n",
    "\n",
    "import time\n",
    "import serpenoid\n",
    "import serpenoid_gamma\n",
    "\n",
    "from scipy.signal import find_peaks"
   ]
  },
  {
   "cell_type": "markdown",
   "metadata": {},
   "source": [
    "* 시뮬레이션 정의 파일 불러오기"
   ]
  },
  {
   "cell_type": "code",
   "execution_count": 2,
   "metadata": {},
   "outputs": [],
   "source": [
    "debris = mujoco.MjModel.from_xml_path(\"./contact_testing_fsensor.xml\")\n",
    "data = mujoco.MjData(debris)\n",
    "renderer = mujoco.Renderer(debris, 720, 1280)\n"
   ]
  },
  {
   "cell_type": "markdown",
   "metadata": {},
   "source": [
    "* f스트링 타입으로 변수화"
   ]
  },
  {
   "cell_type": "code",
   "execution_count": 3,
   "metadata": {},
   "outputs": [],
   "source": [
    "def varying_xml(val:list):\n",
    "    txt_xml = f\"\"\"\n",
    " <mujoco model=\"contact testing\">\n",
    "    <option timestep=\"0.00093750\"/>\n",
    "    <size memory=\"10M\"/>\n",
    "\n",
    "    <asset>\n",
    "        <texture type=\"skybox\" builtin=\"gradient\" width=\"512\" height=\"512\" rgb1=\".4 .6 .8\" rgb2=\"0 0 0\"/>\n",
    "        <texture name=\"texgeom\" type=\"cube\" builtin=\"flat\" mark=\"cross\" width=\"128\" height=\"128\"\n",
    "                 rgb1=\"0.6 0.6 0.6\" rgb2=\"0.6 0.6 0.6\" markrgb=\"1 1 1\"/>\n",
    "        <texture name=\"texplane\" type=\"2d\" builtin=\"checker\" rgb1=\".4 .4 .4\" rgb2=\".6 .6 .6\"\n",
    "                 width=\"512\" height=\"512\"/>\n",
    "        <material name=\"MatPlane\" reflectance=\"0.0\" texture=\"texplane\" texrepeat=\"1 1\" texuniform=\"true\"\n",
    "                  rgba=\".7 .7 .7 1\"/>\n",
    "        <material name=\"capsule\" texture=\"texgeom\" texuniform=\"true\" rgba=\".4 .9 .6 1\" />\n",
    "        <material name=\"ellipsoid\" texture=\"texgeom\" texuniform=\"true\" rgba=\".4 .6 .9 1\" />\n",
    "        <material name=\"box\" texture=\"texgeom\" texuniform=\"true\" rgba=\".4 .9 .9 1\" />\n",
    "        <material name=\"cylinder\" texture=\"texgeom\" texuniform=\"true\" rgba=\".8 .6 .8 1\" />\n",
    "        <material name=\"sphere\" texture=\"texgeom\" texuniform=\"true\" rgba=\".9 .1 .1 1\" />\n",
    "\n",
    "        <mesh name=\"link_collision\" file=\"./assets/dummy_contact_testing.STL\"/>\n",
    "    </asset>\n",
    "\n",
    "    <default>\n",
    "        <default class=\"collision-mesh\">\n",
    "            <geom type=\"mesh\" mesh=\"link_collision\" mass=\"0.250\" condim=\"4\" rgba=\"0.5 0.5 0.5 0.4\" priority=\"1\" friction=\"0.7 0.015 0.001\" euler=\"90 90 0\"/>\n",
    "        </default>\n",
    "    </default>\n",
    "\n",
    "    <visual>\n",
    "        <map force=\"0.1\" zfar=\"30\"/>\n",
    "        <rgba haze=\"0.15 0.25 0.35 1\"/>\n",
    "        <quality shadowsize=\"4096\"/>\n",
    "        <global offwidth=\"1280\" offheight=\"1280\"/>\n",
    "    </visual>\n",
    "\n",
    "<worldbody>\n",
    "    <!-- solimp default : \"0.9 0.95 0.001 0.5 2\" // solref default : \"0.02 1\" -->\n",
    "    <geom name=\"floor\" type=\"plane\" size=\"3 3 .5\" priority=\"2\" friction=\"0.55 0.015 0.001\" solimp=\"{val[0]} {val[1]} {val[2]} {val[3]} {val[4]}\" solref=\"{val[5]} {val[6]}\" material=\"MatPlane\"/>\n",
    "\n",
    "    <body name=\"debris\" pos=\"0 0 0.43655\" euler=\"0 0 0\"> \n",
    "        <freejoint name=\"root\"/>\n",
    "        <geom class=\"collision-mesh\"/> \n",
    "        <body>\n",
    "            <geom name=\"sensor_body\" type=\"cylinder\" size=\"0.009 0.00075\" pos=\"0.02 -0.00338 -0.0362\" mass=\"0\" priority=\"1\" friction=\"0.7 0.015 0.001\"/>\n",
    "            <site name=\"sensor\" type=\"cylinder\" size=\"0.009 0.00075\" pos=\"0.02 -0.00338 -0.0362\"/>\n",
    "        </body>\n",
    "    </body>\n",
    "</worldbody>\n",
    "\n",
    "<sensor>\n",
    "    <force name=\"force\" site=\"sensor\"/>\n",
    "</sensor>\n",
    "\n",
    "</mujoco>\n",
    "    \"\"\"\n",
    "    return txt_xml"
   ]
  },
  {
   "cell_type": "markdown",
   "metadata": {},
   "source": [
    "* 특성 최적화"
   ]
  },
  {
   "cell_type": "markdown",
   "metadata": {},
   "source": [
    "** 최적화 함수 구현"
   ]
  },
  {
   "cell_type": "code",
   "execution_count": 4,
   "metadata": {},
   "outputs": [],
   "source": [
    "import matplotlib.pyplot as plt\n",
    "\n",
    "\n",
    "\n",
    "def opt_J(terrain_x0):\n",
    "    ###\n",
    "    # Optimize the terrain parameters\n",
    "    # Sand\n",
    "    COR_ref = 0.1776\n",
    "    MAX_force_ref = 36.0513\n",
    "    deform_ref = 0.0298\n",
    "    contact_duration = 15\n",
    "    # Grass\n",
    "    # COR_ref = 0.5478\n",
    "    # MAX_force_ref = 61.4248\n",
    "    # deform_ref = 0.0198\n",
    "    ###\n",
    "\n",
    "    contact_force = []\n",
    "    debris_pos = []\n",
    "\n",
    "    opt_env = mujoco.MjModel.from_xml_string(varying_xml(terrain_x0))\n",
    "    opt_data = mujoco.MjData(opt_env)\n",
    "\n",
    "    t_step = opt_env.opt.timestep\n",
    "    stepspersecond = int(1/t_step)\n",
    "    mujoco.mj_resetData(opt_env, opt_data)\n",
    "    mujoco.mj_forward(opt_env, opt_data)\n",
    "\n",
    "    for i in range(10*stepspersecond):\n",
    "        contact_force.append(opt_data.sensordata[2])\n",
    "        debris_pos.append(opt_data.body(\"debris\").xpos[2])\n",
    "        mujoco.mj_step(opt_env, opt_data)\n",
    "\n",
    "    initial_heght = debris_pos[0]\n",
    "    debris_pos = debris_pos - debris_pos[0]\n",
    "\n",
    "    pos_peak, _ = find_peaks(debris_pos, prominence=0.00001)\n",
    "    peak_len = len(pos_peak)\n",
    "\n",
    "    # plt.plot(debris_pos[0:4000])\n",
    "    # plt.plot(contact_force)\n",
    "\n",
    "    if peak_len > 0:\n",
    "        COR = np.sqrt((initial_heght + debris_pos[pos_peak[0]])/(initial_heght))\n",
    "    else:\n",
    "        COR = 0.1\n",
    "\n",
    "    # 충돌 시간 관련\n",
    "    idx_peak_force = np.argmin(contact_force)\n",
    "\n",
    "    before_contact = np.linspace(0, -1 * MAX_force_ref, int((contact_duration+1)/2))\n",
    "    after_contact = np.linspace(-1 * MAX_force_ref, 0, int((contact_duration+1)/2))\n",
    "\n",
    "    ref_plot = np.zeros(650)\n",
    "    ref_plot[(idx_peak_force - (int((contact_duration+1)/2))) + 1 : idx_peak_force + 1] = before_contact\n",
    "    ref_plot[idx_peak_force:(idx_peak_force + (int((contact_duration+1)/2)))] = after_contact\n",
    "\n",
    "    rmse = np.square(np.subtract(contact_force[idx_peak_force - int((contact_duration+1)/2) + 1:idx_peak_force + int((contact_duration+1)/2)], ref_plot[idx_peak_force - int((contact_duration+1)/2) + 1:idx_peak_force + int((contact_duration+1)/2)])).mean()\n",
    "\n",
    "    steady_gnd = np.mean(debris_pos[-3000::])\n",
    "\n",
    "    peak_force = -np.min(contact_force)\n",
    "    deform = -(0.4 + steady_gnd)\n",
    "\n",
    "    return ((100 *(COR - COR_ref))**2) + 0.1 * ((peak_force - MAX_force_ref)**2) + ((100 *(deform - deform_ref))**2 + rmse)\n"
   ]
  },
  {
   "cell_type": "code",
   "execution_count": 6,
   "metadata": {},
   "outputs": [
    {
     "name": "stdout",
     "output_type": "stream",
     "text": [
      "Optimization terminated successfully.\n",
      "         Current function value: 265.735064\n",
      "         Iterations: 196\n",
      "         Function evaluations: 428\n",
      "       message: Optimization terminated successfully.\n",
      "       success: True\n",
      "        status: 0\n",
      "           fun: 265.7350640015765\n",
      "             x: [ 4.005e-01  6.011e-01  1.954e-03  5.386e-01  1.000e+00\n",
      "                  5.336e-02  2.242e+00]\n",
      "           nit: 196\n",
      "          nfev: 428\n",
      " final_simplex: (array([[ 4.005e-01,  6.011e-01, ...,  5.336e-02,\n",
      "                         2.242e+00],\n",
      "                       [ 4.005e-01,  6.011e-01, ...,  5.336e-02,\n",
      "                         2.242e+00],\n",
      "                       ...,\n",
      "                       [ 4.005e-01,  6.011e-01, ...,  5.336e-02,\n",
      "                         2.242e+00],\n",
      "                       [ 4.005e-01,  6.011e-01, ...,  5.336e-02,\n",
      "                         2.242e+00]]), array([ 2.657e+02,  2.657e+02,  2.657e+02,  2.657e+02,\n",
      "                        2.657e+02,  2.657e+02,  2.657e+02,  2.657e+02]))\n"
     ]
    }
   ],
   "source": [
    "x0 = [0.9, 0.95, 0.001, 0.5, 1, 0.02, 1]\n",
    "x_min = (0.4,  0.4, 0.0001, 0.1, 1, 0.005, 0.01)\n",
    "x_max = (0.99, 0.99,   100, 0.9, 1,   100, 10)\n",
    "\n",
    "\n",
    "from scipy.optimize import minimize, rosen, rosen_der, Bounds\n",
    "\n",
    "bnds = Bounds(x_min, x_max)\n",
    "res = minimize(opt_J, \n",
    "               x0, \n",
    "               method='nelder-mead', \n",
    "               options={'xatol': 0.1, 'fatol': 0.1, 'disp': True},\n",
    "               bounds=bnds\n",
    "               )\n",
    "\n",
    "print(res)"
   ]
  },
  {
   "cell_type": "code",
   "execution_count": 6,
   "metadata": {},
   "outputs": [
    {
     "ename": "NameError",
     "evalue": "name 'debris_pos' is not defined",
     "output_type": "error",
     "traceback": [
      "\u001b[1;31m---------------------------------------------------------------------------\u001b[0m",
      "\u001b[1;31mNameError\u001b[0m                                 Traceback (most recent call last)",
      "Cell \u001b[1;32mIn[6], line 1\u001b[0m\n\u001b[1;32m----> 1\u001b[0m plt\u001b[38;5;241m.\u001b[39mplot(\u001b[43mdebris_pos\u001b[49m[\u001b[38;5;241m0\u001b[39m:\u001b[38;5;241m4000\u001b[39m])\n",
      "\u001b[1;31mNameError\u001b[0m: name 'debris_pos' is not defined"
     ]
    }
   ],
   "source": [
    "plt.plot(debris_pos[0:4000])"
   ]
  },
  {
   "cell_type": "markdown",
   "metadata": {},
   "source": [
    "* 시뮬레이션 진행 (영상 렌더링)"
   ]
  },
  {
   "cell_type": "code",
   "execution_count": 17,
   "metadata": {},
   "outputs": [
    {
     "name": "stdout",
     "output_type": "stream",
     "text": [
      "0.1 74.85590259101754 -0.037903828211659885\n",
      "[]\n",
      "[364]\n",
      "[]\n"
     ]
    }
   ],
   "source": [
    "debris = mujoco.MjModel.from_xml_path(\"./contact_testing_fsensor.xml\")\n",
    "data = mujoco.MjData(debris)\n",
    "renderer = mujoco.Renderer(debris, 720, 1280)\n",
    "\n",
    "t_step = debris.opt.timestep\n",
    "stepspersecond = int(1/t_step)\n",
    "\n",
    "frames = []\n",
    "contact_force = []\n",
    "debris_pos = []\n",
    "\n",
    "mujoco.mj_resetData(debris, data)\n",
    "\n",
    "mujoco.mj_forward(debris, data)\n",
    "\n",
    "for i in range(2*stepspersecond):\n",
    "    mujoco.mj_step(debris, data)\n",
    "    renderer.update_scene(data)\n",
    "    pixel = renderer.render()\n",
    "\n",
    "    frames.append(pixel)\n",
    "    contact_force.append(data.sensordata[2])\n",
    "    debris_pos.append(data.body(\"debris\").xpos[2])\n",
    "\n",
    "initial_heght = debris_pos[0]\n",
    "debris_pos = debris_pos - debris_pos[0]\n",
    "\n",
    "pos_peak, _ = find_peaks(debris_pos, prominence=0.00001)\n",
    "peak_len = len(pos_peak)\n",
    "\n",
    "damp_peak, _ = find_peaks(contact_force, prominence=0.00001)\n",
    "damp_peak_m, _ = find_peaks(-1*contact_force)\n",
    "damp_peak_len = len(damp_peak)\n",
    "# plt.plot(debris_pos[0:4000])\n",
    "# plt.plot(contact_force)\n",
    "\n",
    "if peak_len > 0:\n",
    "    COR = np.sqrt((initial_heght + debris_pos[pos_peak[0]])/(initial_heght))\n",
    "else:\n",
    "    COR = 0.1\n",
    "\n",
    "steady_gnd = np.mean(debris_pos[-3000::])\n",
    "\n",
    "peak_force = -np.min(contact_force)\n",
    "deform = -(0.4 + steady_gnd)\n",
    "\n",
    "\n",
    "print(COR, peak_force, deform)\n",
    "print(pos_peak)\n",
    "print(damp_peak)\n",
    "print(damp_peak_m)\n",
    "\n",
    "# media.show_video(frames, fps=stepspersecond)"
   ]
  },
  {
   "cell_type": "code",
   "execution_count": 18,
   "metadata": {},
   "outputs": [
    {
     "data": {
      "image/png": "[encoded data removed]",
      "text/plain": [
       "<Figure size 640x480 with 1 Axes>"
      ]
     },
     "metadata": {},
     "output_type": "display_data"
    }
   ],
   "source": [
    "import matplotlib.pyplot as plt\n",
    "\n",
    "plt.plot(contact_force[0:650])\n",
    "for i in range(len(damp_peak)):\n",
    "    plt.axvline(x=damp_peak[i], color='r', linestyle='--')\n",
    "\n",
    "plt.show()"
   ]
  },
  {
   "cell_type": "code",
   "execution_count": 16,
   "metadata": {},
   "outputs": [
    {
     "data": {
      "image/png": "[encoded data removed]",
      "text/plain": [
       "<Figure size 640x480 with 1 Axes>"
      ]
     },
     "metadata": {},
     "output_type": "display_data"
    }
   ],
   "source": [
    "plt.plot(debris_pos[0:4000])\n",
    "\n",
    "for i in range(len(pos_peak)):\n",
    "    plt.axvline(x=pos_peak[i], color='r', linestyle='--')\n",
    "\n",
    "plt.show()"
   ]
  }
 ],
 "metadata": {
  "kernelspec": {
   "display_name": "rllib",
   "language": "python",
   "name": "python3"
  },
  "language_info": {
   "codemirror_mode": {
    "name": "ipython",
    "version": 3
   },
   "file_extension": ".py",
   "mimetype": "text/x-python",
   "name": "python",
   "nbconvert_exporter": "python",
   "pygments_lexer": "ipython3",
   "version": "3.10.13"
  }
 },
 "nbformat": 4,
 "nbformat_minor": 2
}
