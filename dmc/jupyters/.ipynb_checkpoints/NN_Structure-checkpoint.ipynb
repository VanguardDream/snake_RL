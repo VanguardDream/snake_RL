{
 "cells": [
  {
   "cell_type": "markdown",
   "id": "42f5ec43-0d9f-4f4b-8d05-5f41f867b5e5",
   "metadata": {},
   "source": [
    "필요 패키지 삽입입"
   ]
  },
  {
   "cell_type": "code",
   "execution_count": null,
   "id": "2533db45-ee48-4115-b1f2-e4ee87a9d7d9",
   "metadata": {},
   "outputs": [],
   "source": [
    "from dm_control import mujoco #dm_control mujoco wrapper\n",
    "\n",
    "# Access to enums and MuJoCo library functions.\n",
    "from dm_control.mujoco.wrapper.mjbindings import enums\n",
    "from dm_control.mujoco.wrapper.mjbindings import mjlib\n",
    "\n",
    "# Graphics-related\n",
    "import matplotlib\n",
    "import matplotlib.animation as animation\n",
    "import matplotlib.pyplot as plt\n",
    "from IPython.display import HTML\n",
    "import PIL.Image #image ploting\n",
    "\n",
    "# General\n",
    "import copy\n",
    "import os\n",
    "import itertools\n",
    "from IPython.display import clear_output\n",
    "import numpy as np\n",
    "\n"
   ]
  }
 ],
 "metadata": {
  "kernelspec": {
   "display_name": "Python 3 (ipykernel)",
   "language": "python",
   "name": "python3"
  },
  "language_info": {
   "codemirror_mode": {
    "name": "ipython",
    "version": 3
   },
   "file_extension": ".py",
   "mimetype": "text/x-python",
   "name": "python",
   "nbconvert_exporter": "python",
   "pygments_lexer": "ipython3",
   "version": "3.9.16"
  }
 },
 "nbformat": 4,
 "nbformat_minor": 5
}
