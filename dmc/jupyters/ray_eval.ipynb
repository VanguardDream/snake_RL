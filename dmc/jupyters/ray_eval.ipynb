{
 "cells": [
  {
   "attachments": {},
   "cell_type": "markdown",
   "metadata": {},
   "source": [
    "Import packages"
   ]
  },
  {
   "cell_type": "code",
   "execution_count": 1,
   "metadata": {},
   "outputs": [
    {
     "name": "stderr",
     "output_type": "stream",
     "text": [
      "c:\\Users\\doore\\anaconda3\\envs\\rllib\\lib\\site-packages\\tqdm\\auto.py:22: TqdmWarning: IProgress not found. Please update jupyter and ipywidgets. See https://ipywidgets.readthedocs.io/en/stable/user_install.html\n",
      "  from .autonotebook import tqdm as notebook_tqdm\n"
     ]
    }
   ],
   "source": [
    "import sys, os\n",
    "import pathlib\n",
    "__location__ = os.getcwd()\n",
    "__location__ = pathlib.Path(__location__)\n",
    "\n",
    "sys.path.append('C:\\\\Users\\\\doore\\\\project\\\\snake_RL\\\\dmc\\\\domains')\n",
    "import snake\n",
    "import snake_v2\n",
    "import snake_v3\n",
    "\n",
    "# from snake.envs.SnakeEnv import SnakeEnv # for ray env register\n",
    "# from snake_v2.envs.SnakeEnv import SnakeEnv # for ray env register\n",
    "from snake_v3.envs.SnakeEnv import SnakeEnv # for ray env register\n",
    "import gymnasium as gym\n",
    "import ray\n",
    "\n",
    "# import rl 알고리즘\n",
    "from ray.rllib.algorithms.ppo import PPOConfig \n",
    "from ray.rllib.algorithms.algorithm_config import AlgorithmConfig\n",
    "from ray.rllib.policy.policy import Policy\n",
    "\n",
    "from ray.tune.registry import register_env\n",
    "from ray.tune.logger import pretty_print\n",
    "\n",
    "import numpy as np"
   ]
  },
  {
   "attachments": {},
   "cell_type": "markdown",
   "metadata": {},
   "source": [
    "Make Snake Env"
   ]
  },
  {
   "cell_type": "code",
   "execution_count": 4,
   "metadata": {},
   "outputs": [
    {
     "name": "stderr",
     "output_type": "stream",
     "text": [
      "\u001b[2m\u001b[36m(RolloutWorker pid=27448)\u001b[0m 2023-03-13 13:56:31,583\tWARNING env.py:156 -- Your env doesn't have a .spec.max_episode_steps attribute. Your horizon will default to infinity, and your environment will not be reset.\n",
      "\u001b[2m\u001b[36m(RolloutWorker pid=27448)\u001b[0m 2023-03-13 13:56:31,583\tWARNING env.py:166 -- Your env reset() method appears to take 'seed' or 'return_info' arguments. Note that these are not yet supported in RLlib. Seeding will take place using 'env.seed()' and the info dict will not be returned from reset.\n",
      "2023-03-13 13:56:35,798\tWARNING util.py:67 -- Install gputil for GPU system monitoring.\n"
     ]
    }
   ],
   "source": [
    "# env = gym.make('snake/SnakeEnv-v1', render_mode=\"human\")\n",
    "env1 = gym.make('snake/SnakeEnv-v1')\n",
    "env2 = gym.make('snake/SnakeEnv-v2')\n",
    "env3 = gym.make('snake/SnakeEnv-v3')\n",
    "\n",
    "# register_env(\"snake\", lambda config: SnakeEnv)\n",
    "# register_env(\"snake-v2\", lambda config: snake_v2.envs.SnakeEnv)\n",
    "register_env(\"snake-v3\", lambda config: SnakeEnv())\n",
    "\n",
    "# algo1 = (\n",
    "#     PPOConfig()\n",
    "#     .rollouts(num_rollout_workers=4,)\n",
    "#     .resources(num_gpus=1)\n",
    "#     .environment(env=\"snake\")\n",
    "#     .framework('torch')\n",
    "#     .training(gamma=0.9, lr=0.001)\n",
    "#     .build()\n",
    "# )\n",
    "\n",
    "# algo2 = (\n",
    "#     PPOConfig()\n",
    "#     .rollouts(num_rollout_workers=4,)\n",
    "#     .resources(num_gpus=1)\n",
    "#     .environment(env=\"snake-v2\")\n",
    "#     .framework('torch')\n",
    "#     .training(gamma=0.9, lr=0.001)\n",
    "#     .build()\n",
    "# )\n",
    "\n",
    "algo3 = (\n",
    "    PPOConfig()\n",
    "    .rollouts(num_rollout_workers=4,)\n",
    "    .resources(num_gpus=1)\n",
    "    .environment(env=\"snake-v3\")\n",
    "    .framework('torch')\n",
    "    .training(gamma=0.9, lr=0.001)\n",
    "    .build()\n",
    ")"
   ]
  },
  {
   "cell_type": "code",
   "execution_count": 5,
   "metadata": {},
   "outputs": [
    {
     "data": {
      "text/plain": [
       "'C:\\\\Users\\\\doore/ray_results\\\\PPO_snake-v3_2023-03-13_13-56-26n_3e_shp\\\\checkpoint_000000'"
      ]
     },
     "execution_count": 5,
     "metadata": {},
     "output_type": "execute_result"
    }
   ],
   "source": [
    "algo3.save()"
   ]
  },
  {
   "cell_type": "code",
   "execution_count": 10,
   "metadata": {},
   "outputs": [],
   "source": [
    "from ray.rllib.models import ModelCatalog\n",
    "from ray.rllib.models.modelv2 import ModelV2\n",
    "from ray.rllib.models.preprocessors import get_preprocessor\n",
    "from ray.rllib.models.torch.torch_modelv2 import TorchModelV2\n",
    "from ray.rllib.models.torch.recurrent_net import RecurrentNetwork as TorchRNN\n",
    "from ray.rllib.models.tf.recurrent_net import RecurrentNetwork\n",
    "from ray.rllib.utils.annotations import override\n",
    "from ray.rllib.utils.framework import try_import_tf, try_import_torch\n",
    "\n",
    "policy = Policy.from_checkpoint('C:/Users/doore/ray_results/PPO_snake_v1_18obs_2/checkpoint_004421')"
   ]
  },
  {
   "cell_type": "code",
   "execution_count": 11,
   "metadata": {},
   "outputs": [
    {
     "data": {
      "text/plain": [
       "<bound method Module.get_parameter of FullyConnectedNetwork(\n",
       "  (_logits): SlimFC(\n",
       "    (_model): Sequential(\n",
       "      (0): Linear(in_features=256, out_features=28, bias=True)\n",
       "    )\n",
       "  )\n",
       "  (_hidden_layers): Sequential(\n",
       "    (0): SlimFC(\n",
       "      (_model): Sequential(\n",
       "        (0): Linear(in_features=18, out_features=256, bias=True)\n",
       "        (1): Tanh()\n",
       "      )\n",
       "    )\n",
       "    (1): SlimFC(\n",
       "      (_model): Sequential(\n",
       "        (0): Linear(in_features=256, out_features=256, bias=True)\n",
       "        (1): Tanh()\n",
       "      )\n",
       "    )\n",
       "  )\n",
       "  (_value_branch_separate): Sequential(\n",
       "    (0): SlimFC(\n",
       "      (_model): Sequential(\n",
       "        (0): Linear(in_features=18, out_features=256, bias=True)\n",
       "        (1): Tanh()\n",
       "      )\n",
       "    )\n",
       "    (1): SlimFC(\n",
       "      (_model): Sequential(\n",
       "        (0): Linear(in_features=256, out_features=256, bias=True)\n",
       "        (1): Tanh()\n",
       "      )\n",
       "    )\n",
       "  )\n",
       "  (_value_branch): SlimFC(\n",
       "    (_model): Sequential(\n",
       "      (0): Linear(in_features=256, out_features=1, bias=True)\n",
       "    )\n",
       "  )\n",
       ")>"
      ]
     },
     "execution_count": 11,
     "metadata": {},
     "output_type": "execute_result"
    }
   ],
   "source": [
    "policy['default_policy'].model.get_parameter"
   ]
  },
  {
   "attachments": {},
   "cell_type": "markdown",
   "metadata": {},
   "source": [
    "Load pre-learned policy"
   ]
  },
  {
   "cell_type": "code",
   "execution_count": null,
   "metadata": {},
   "outputs": [],
   "source": [
    "from ray.rllib.models import ModelCatalog\n",
    "from ray.rllib.models.modelv2 import ModelV2\n",
    "from ray.rllib.models.preprocessors import get_preprocessor\n",
    "from ray.rllib.models.torch.torch_modelv2 import TorchModelV2\n",
    "from ray.rllib.models.torch.recurrent_net import RecurrentNetwork as TorchRNN\n",
    "from ray.rllib.models.tf.recurrent_net import RecurrentNetwork\n",
    "from ray.rllib.utils.annotations import override\n",
    "from ray.rllib.utils.framework import try_import_tf, try_import_torch\n",
    "\n",
    "# policy = Policy.from_checkpoint('C:/Users/doore/ray_results/PPO_snake_2023-03-09_21-45-50djfsrxig/checkpoint_003426')\n",
    "\n",
    "\n",
    "torch, nn = try_import_torch()\n",
    "class RNNModel(TorchRNN, nn.Module):\n",
    "\n",
    "    def __init__(\n",
    "        self,\n",
    "        obs_space,\n",
    "        action_space,\n",
    "        num_outputs,\n",
    "        model_config,\n",
    "        name,\n",
    "        fc_size=64,\n",
    "        lstm_state_size=256,\n",
    "    ):\n",
    "        nn.Module.__init__(self)\n",
    "        super().__init__(obs_space, action_space, num_outputs, model_config, name)\n",
    "\n",
    "        self.obs_size = get_preprocessor(obs_space)(obs_space).size\n",
    "        self.fc_size = fc_size\n",
    "        self.lstm_state_size = lstm_state_size\n",
    "\n",
    "        # Build the Module from fc + LSTM + 2xfc (action + value outs).\n",
    "        self.fc1 = nn.Linear(self.obs_size, self.fc_size)\n",
    "        self.lstm = nn.LSTM(self.fc_size, self.lstm_state_size, batch_first=True)\n",
    "        self.action_branch = nn.Linear(self.lstm_state_size, num_outputs)\n",
    "        self.value_branch = nn.Linear(self.lstm_state_size, 1)\n",
    "        # Holds the current \"base\" output (before logits layer).\n",
    "        self._features = None\n",
    "\n",
    "    @override(ModelV2)\n",
    "    def get_initial_state(self):\n",
    "        # TODO: (sven): Get rid of `get_initial_state` once Trajectory\n",
    "        #  View API is supported across all of RLlib.\n",
    "        # Place hidden states on same device as model.\n",
    "        h = [\n",
    "            self.fc1.weight.new(1, self.lstm_state_size).zero_().squeeze(0),\n",
    "            self.fc1.weight.new(1, self.lstm_state_size).zero_().squeeze(0),\n",
    "        ]\n",
    "        return h\n",
    "\n",
    "    @override(ModelV2)\n",
    "    def value_function(self):\n",
    "        assert self._features is not None, \"must call forward() first\"\n",
    "        return torch.reshape(self.value_branch(self._features), [-1])\n",
    "\n",
    "    @override(TorchRNN)\n",
    "    def forward_rnn(self, inputs, state, seq_lens):\n",
    "        \"\"\"Feeds `inputs` (B x T x ..) through the Gru Unit.\n",
    "        Returns the resulting outputs as a sequence (B x T x ...).\n",
    "        Values are stored in self._cur_value in simple (B) shape (where B\n",
    "        contains both the B and T dims!).\n",
    "        Returns:\n",
    "            NN Outputs (B x T x ...) as sequence.\n",
    "            The state batches as a List of two items (c- and h-states).\n",
    "        \"\"\"\n",
    "        x = nn.functional.relu(self.fc1(inputs))\n",
    "        self._features, [h, c] = self.lstm(\n",
    "            x, [torch.unsqueeze(state[0], 0), torch.unsqueeze(state[1], 0)]\n",
    "        )\n",
    "        action_out = self.action_branch(self._features)\n",
    "        return action_out, [torch.squeeze(h, 0), torch.squeeze(c, 0)]\n",
    "\n",
    "ModelCatalog.register_custom_model(\"MyRNN\", RNNModel)\n",
    "rnn_policy = Policy.from_checkpoint('C:\\\\Users\\\\doore\\\\ray_results\\\\PPO_snake_2023-03-11_00-34-28wx7bcj33\\\\checkpoint_000136')"
   ]
  },
  {
   "attachments": {},
   "cell_type": "markdown",
   "metadata": {},
   "source": [
    "Do simulation"
   ]
  },
  {
   "cell_type": "code",
   "execution_count": null,
   "metadata": {},
   "outputs": [],
   "source": [
    "_obs, _ = env.reset()\n",
    "\n",
    "for epi in range(10):\n",
    "    for i in range(400):\n",
    "        _act = policy['default_policy'].compute_single_action(_obs)\n",
    "        _obs, _reward, _, _, _ = env.step(_act[0])\n",
    "    _obs, _ = env.reset()\n",
    "    \n",
    "env.close()"
   ]
  },
  {
   "attachments": {},
   "cell_type": "markdown",
   "metadata": {},
   "source": [
    "Check Model parameters"
   ]
  },
  {
   "cell_type": "code",
   "execution_count": null,
   "metadata": {},
   "outputs": [],
   "source": [
    "from ray.rllib.models.modelv2 import ModelV2\n",
    "\n",
    "print(rnn_policy['default_policy'].model.get_parameter)"
   ]
  }
 ],
 "metadata": {
  "kernelspec": {
   "display_name": "rllib",
   "language": "python",
   "name": "python3"
  },
  "language_info": {
   "codemirror_mode": {
    "name": "ipython",
    "version": 3
   },
   "file_extension": ".py",
   "mimetype": "text/x-python",
   "name": "python",
   "nbconvert_exporter": "python",
   "pygments_lexer": "ipython3",
   "version": "3.9.16"
  },
  "orig_nbformat": 4
 },
 "nbformat": 4,
 "nbformat_minor": 2
}
