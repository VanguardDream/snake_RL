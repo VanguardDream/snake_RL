{
 "cells": [
  {
   "attachments": {},
   "cell_type": "markdown",
   "metadata": {},
   "source": [
    "Import packages"
   ]
  },
  {
   "cell_type": "code",
   "execution_count": 1,
   "metadata": {},
   "outputs": [
    {
     "name": "stderr",
     "output_type": "stream",
     "text": [
      "c:\\Users\\doore\\anaconda3\\envs\\rllib\\lib\\site-packages\\tqdm\\auto.py:22: TqdmWarning: IProgress not found. Please update jupyter and ipywidgets. See https://ipywidgets.readthedocs.io/en/stable/user_install.html\n",
      "  from .autonotebook import tqdm as notebook_tqdm\n"
     ]
    }
   ],
   "source": [
    "# import sys, os\n",
    "# import pathlib\n",
    "# # __location__ = os.getcwd()\n",
    "# # __location__ = pathlib.Path(__location__)\n",
    "\n",
    "# # sys.path.append('C:\\\\Users\\\\doore\\\\project\\\\snake_RL\\\\dmc\\\\domains')\n",
    "# import snake\n",
    "# import snake_v2\n",
    "# import snake_v3\n",
    "\n",
    "\n",
    "# from snake.envs.SnakeEnv import SnakeEnv # for ray env register\n",
    "# from snake_v2.envs.SnakeEnv import SnakeEnv # for ray env register\n",
    "from snake_v3.envs.SnakeEnv import SnakeEnv # for ray env register\n",
    "import gymnasium as gym\n",
    "\n",
    "# import rl 알고리즘\n",
    "from ray.rllib.algorithms.ppo import PPOConfig \n",
    "from ray.rllib.algorithms.algorithm_config import AlgorithmConfig\n",
    "from ray.rllib.policy.policy import Policy\n",
    "\n",
    "from ray.tune.registry import register_env\n",
    "from ray.tune.logger import pretty_print\n",
    "\n",
    "import numpy as np"
   ]
  },
  {
   "attachments": {},
   "cell_type": "markdown",
   "metadata": {},
   "source": [
    "Make Snake Env"
   ]
  },
  {
   "cell_type": "code",
   "execution_count": 2,
   "metadata": {},
   "outputs": [],
   "source": [
    "env = gym.make('snake/SnakeEnv-v3', render_mode=\"human\")\n",
    "\n",
    "register_env(\"snake-v3\", lambda config: SnakeEnv())\n"
   ]
  },
  {
   "attachments": {},
   "cell_type": "markdown",
   "metadata": {},
   "source": [
    "Load pre-learned policy"
   ]
  },
  {
   "cell_type": "code",
   "execution_count": 3,
   "metadata": {},
   "outputs": [],
   "source": [
    "from ray.rllib.models import ModelCatalog\n",
    "from ray.rllib.models.modelv2 import ModelV2\n",
    "from ray.rllib.models.preprocessors import get_preprocessor\n",
    "from ray.rllib.models.torch.torch_modelv2 import TorchModelV2\n",
    "from ray.rllib.models.torch.recurrent_net import RecurrentNetwork as TorchRNN\n",
    "from ray.rllib.models.tf.recurrent_net import RecurrentNetwork\n",
    "from ray.rllib.utils.annotations import override\n",
    "from ray.rllib.utils.framework import try_import_tf, try_import_torch\n",
    "\n",
    "policy = Policy.from_checkpoint('C:/Users/doore/ray_results/PPO_snake-v3_2023-03-15_14-35-41vcm0unve/checkpoint_000581')\n",
    "\n"
   ]
  },
  {
   "cell_type": "code",
   "execution_count": 4,
   "metadata": {},
   "outputs": [
    {
     "name": "stdout",
     "output_type": "stream",
     "text": [
      "0\n",
      "0\n",
      "0\n",
      "0\n",
      "0\n",
      "0\n",
      "0\n",
      "0\n",
      "0\n",
      "0\n",
      "0\n",
      "0\n",
      "0\n",
      "0\n",
      "0\n",
      "0\n",
      "0\n",
      "0\n",
      "0\n",
      "0\n",
      "0\n",
      "0\n",
      "0\n",
      "0\n",
      "0\n",
      "0\n",
      "0\n",
      "0\n",
      "0\n",
      "0\n",
      "0\n",
      "0\n",
      "0\n",
      "0\n",
      "0\n",
      "0\n",
      "0\n",
      "0\n",
      "0\n",
      "0\n",
      "0\n",
      "0\n",
      "0\n",
      "0\n",
      "0\n",
      "0\n",
      "0\n",
      "0\n",
      "0\n",
      "0\n",
      "0\n",
      "0\n",
      "0\n",
      "0\n",
      "0\n",
      "0\n",
      "0\n",
      "0\n",
      "0\n",
      "0\n",
      "0\n",
      "0\n",
      "0\n",
      "0\n",
      "0\n",
      "0\n",
      "0\n",
      "0\n",
      "0\n",
      "0\n",
      "0\n",
      "0\n",
      "0\n",
      "0\n",
      "0\n",
      "0\n",
      "0\n",
      "0\n",
      "0\n",
      "0\n",
      "0\n",
      "0\n",
      "0\n",
      "0\n",
      "0\n",
      "0\n",
      "0\n",
      "0\n",
      "0\n",
      "0\n",
      "0\n",
      "0\n",
      "0\n",
      "0\n",
      "0\n",
      "0\n",
      "0\n",
      "0\n",
      "0\n",
      "0\n"
     ]
    }
   ],
   "source": [
    "## For Recurrent Policy\n",
    "\n",
    "lstm_dim = 32\n",
    "num_lstm_cells = 2\n",
    "initial_state = np.zeros((num_lstm_cells, lstm_dim))\n",
    "\n",
    "_state = initial_state\n",
    "_obs, _ = env.reset()\n",
    "\n",
    "for epi in range(10):\n",
    "    for i in range(10):\n",
    "        _act, _state, _ = policy['default_policy'].compute_single_action(obs=_obs, state=_state)\n",
    "        _obs, _reward, _, _, _dict = env.step(_act[0])\n",
    "        print(_dict['forward_reward'])\n",
    "    _obs, _ = env.reset()\n",
    "env.close()"
   ]
  },
  {
   "cell_type": "code",
   "execution_count": null,
   "metadata": {},
   "outputs": [],
   "source": [
    "policy['default_policy'].model.get_parameter"
   ]
  },
  {
   "attachments": {},
   "cell_type": "markdown",
   "metadata": {},
   "source": [
    "Do simulation"
   ]
  },
  {
   "cell_type": "code",
   "execution_count": null,
   "metadata": {},
   "outputs": [],
   "source": [
    "_obs, _ = env.reset()\n",
    "\n",
    "c_reward = 0\n",
    "for epi in range(10):\n",
    "    for i in range(400):\n",
    "        _act = policy['default_policy'].compute_single_action(_obs)\n",
    "        _obs, _reward, _, _, _ = env.step(_act[0])\n",
    "        c_reward = c_reward + _reward\n",
    "    _obs, _ = env.reset()\n",
    "    print(c_reward)\n",
    "    c_reward = 0\n",
    "    \n",
    "env.close()"
   ]
  }
 ],
 "metadata": {
  "kernelspec": {
   "display_name": "rllib",
   "language": "python",
   "name": "python3"
  },
  "language_info": {
   "codemirror_mode": {
    "name": "ipython",
    "version": 3
   },
   "file_extension": ".py",
   "mimetype": "text/x-python",
   "name": "python",
   "nbconvert_exporter": "python",
   "pygments_lexer": "ipython3",
   "version": "3.9.16"
  },
  "orig_nbformat": 4
 },
 "nbformat": 4,
 "nbformat_minor": 2
}
