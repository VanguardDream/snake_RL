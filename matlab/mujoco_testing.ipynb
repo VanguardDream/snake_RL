{
 "cells": [
  {
   "attachments": {},
   "cell_type": "markdown",
   "metadata": {},
   "source": [
    "패키지 삽입"
   ]
  },
  {
   "cell_type": "code",
   "execution_count": 1,
   "metadata": {},
   "outputs": [],
   "source": [
    "import sys, os\n",
    "import numpy as np\n",
    "import mujoco\n",
    "from mujoco import viewer\n",
    "import mediapy as media\n",
    "import matplotlib.pyplot as plt"
   ]
  },
  {
   "attachments": {},
   "cell_type": "markdown",
   "metadata": {},
   "source": [
    "Gait 객체 정의"
   ]
  },
  {
   "cell_type": "code",
   "execution_count": 2,
   "metadata": {},
   "outputs": [],
   "source": [
    "class snake_gait:\n",
    "    def __init__(self, gait_type: int = 1, start_k: int = 0):\n",
    "        self.k = start_k\n",
    "\n",
    "        if gait_type == 0: #Vertical\n",
    "            self.M = np.array([[1,0,0,0,0,0,0],\n",
    "                                [0,0,0,0,0,0,0],\n",
    "                                [0,1,0,0,0,0,0],\n",
    "                                [0,0,0,0,0,0,0],\n",
    "                                [0,0,1,0,0,0,0],\n",
    "                                [0,0,0,0,0,0,0],\n",
    "                                [0,0,0,1,0,0,0],\n",
    "                                [0,0,0,0,0,0,0],\n",
    "                                [0,0,0,0,1,0,0],\n",
    "                                [0,0,0,0,0,0,0],\n",
    "                                [0,0,0,0,0,1,0],\n",
    "                                [0,0,0,0,0,0,0],\n",
    "                                [0,0,0,0,0,0,1],\n",
    "                                [0,0,0,0,0,0,0]],dtype='int')\n",
    "\n",
    "        elif gait_type == 1: #Serpentine\n",
    "            self.M = np.eye(14)\n",
    "\n",
    "        elif gait_type == 2: #Sidewinding\n",
    "            self.M = np.array([[0,1,0,0,0,0,0,0,0,0,0,0,0,0],\n",
    "                                [1,0,0,0,0,0,0,0,0,0,0,0,0,0],\n",
    "                                [0,0,0,1,0,0,0,0,0,0,0,0,0,0],\n",
    "                                [0,0,1,0,0,0,0,0,0,0,0,0,0,0],\n",
    "                                [0,0,0,0,0,1,0,0,0,0,0,0,0,0],\n",
    "                                [0,0,0,0,1,0,0,0,0,0,0,0,0,0],\n",
    "                                [0,0,0,0,0,0,0,1,0,0,0,0,0,0],\n",
    "                                [0,0,0,0,0,0,1,0,0,0,0,0,0,0],\n",
    "                                [0,0,0,0,0,0,0,0,0,1,0,0,0,0],\n",
    "                                [0,0,0,0,0,0,0,0,1,0,0,0,0,0],\n",
    "                                [0,0,0,0,0,0,0,0,0,0,0,1,0,0],\n",
    "                                [0,0,0,0,0,0,0,0,0,0,1,0,0,0],\n",
    "                                [0,0,0,0,0,0,0,0,0,0,0,0,0,1],\n",
    "                                [0,0,0,0,0,0,0,0,0,0,0,0,1,0]],dtype='int')\n",
    "\n",
    "        else:\n",
    "            self.M = np.ones((14,1))\n",
    "\n",
    "        self.M_cols = self.M.shape[1]\n",
    "\n",
    "        self.k = self.k % self.M_cols\n",
    "\n",
    "    def get_selected_joints(self) -> np.ndarray:\n",
    "        return self.M[:,self.k]\n",
    "\n",
    "    def gait_step(self):\n",
    "        self.k = (self.k + 1) % self.M_cols"
   ]
  },
  {
   "attachments": {},
   "cell_type": "markdown",
   "metadata": {},
   "source": [
    "시뮬레이션 정의 코드 작성"
   ]
  },
  {
   "cell_type": "code",
   "execution_count": 3,
   "metadata": {},
   "outputs": [
    {
     "ename": "RuntimeError",
     "evalue": "Program 'ffmpeg' is not found; perhaps install ffmpeg using 'apt-get install ffmpeg'.",
     "output_type": "error",
     "traceback": [
      "\u001b[1;31m---------------------------------------------------------------------------\u001b[0m",
      "\u001b[1;31mRuntimeError\u001b[0m                              Traceback (most recent call last)",
      "Cell \u001b[1;32mIn[3], line 31\u001b[0m\n\u001b[0;32m     28\u001b[0m     pixels \u001b[39m=\u001b[39m renderer\u001b[39m.\u001b[39mrender()\u001b[39m.\u001b[39mcopy()\n\u001b[0;32m     29\u001b[0m     frames\u001b[39m.\u001b[39mappend(pixels)\n\u001b[1;32m---> 31\u001b[0m media\u001b[39m.\u001b[39;49mshow_video(frames, fps\u001b[39m=\u001b[39;49m\u001b[39m100\u001b[39;49m)\n",
      "File \u001b[1;32mc:\\Users\\doore\\anaconda3\\envs\\rllib\\lib\\site-packages\\mediapy\\__init__.py:1630\u001b[0m, in \u001b[0;36mshow_video\u001b[1;34m(images, title, **kwargs)\u001b[0m\n\u001b[0;32m   1606\u001b[0m \u001b[39mdef\u001b[39;00m \u001b[39mshow_video\u001b[39m(images: Iterable[_NDArray],\n\u001b[0;32m   1607\u001b[0m                \u001b[39m*\u001b[39m,\n\u001b[0;32m   1608\u001b[0m                title: Optional[\u001b[39mstr\u001b[39m] \u001b[39m=\u001b[39m \u001b[39mNone\u001b[39;00m,\n\u001b[0;32m   1609\u001b[0m                \u001b[39m*\u001b[39m\u001b[39m*\u001b[39mkwargs: Any) \u001b[39m-\u001b[39m\u001b[39m>\u001b[39m Optional[\u001b[39mstr\u001b[39m]:\n\u001b[0;32m   1610\u001b[0m \u001b[39m  \u001b[39m\u001b[39m\"\"\"Displays a video in the IPython notebook and optionally saves it to a file.\u001b[39;00m\n\u001b[0;32m   1611\u001b[0m \n\u001b[0;32m   1612\u001b[0m \u001b[39m  See `show_videos`.\u001b[39;00m\n\u001b[1;32m   (...)\u001b[0m\n\u001b[0;32m   1628\u001b[0m \u001b[39m    html string if `return_html` is `True`.\u001b[39;00m\n\u001b[0;32m   1629\u001b[0m \u001b[39m  \"\"\"\u001b[39;00m\n\u001b[1;32m-> 1630\u001b[0m   \u001b[39mreturn\u001b[39;00m show_videos([images], [title], \u001b[39m*\u001b[39m\u001b[39m*\u001b[39mkwargs)\n",
      "File \u001b[1;32mc:\\Users\\doore\\anaconda3\\envs\\rllib\\lib\\site-packages\\mediapy\\__init__.py:1707\u001b[0m, in \u001b[0;36mshow_videos\u001b[1;34m(videos, titles, width, height, downsample, columns, fps, bps, qp, codec, ylabel, html_class, return_html, **kwargs)\u001b[0m\n\u001b[0;32m   1705\u001b[0m   video \u001b[39m=\u001b[39m [resize_image(image, (h, w)) \u001b[39mfor\u001b[39;00m image \u001b[39min\u001b[39;00m video]\n\u001b[0;32m   1706\u001b[0m   first_image \u001b[39m=\u001b[39m video[\u001b[39m0\u001b[39m]\n\u001b[1;32m-> 1707\u001b[0m data \u001b[39m=\u001b[39m compress_video(\n\u001b[0;32m   1708\u001b[0m     video, metadata\u001b[39m=\u001b[39;49mmetadata, fps\u001b[39m=\u001b[39;49mfps, bps\u001b[39m=\u001b[39;49mbps, qp\u001b[39m=\u001b[39;49mqp, codec\u001b[39m=\u001b[39;49mcodec)\n\u001b[0;32m   1709\u001b[0m \u001b[39mif\u001b[39;00m title \u001b[39mand\u001b[39;00m _config\u001b[39m.\u001b[39mshow_save_dir:\n\u001b[0;32m   1710\u001b[0m   suffix \u001b[39m=\u001b[39m _filename_suffix_from_codec(codec)\n",
      "File \u001b[1;32mc:\\Users\\doore\\anaconda3\\envs\\rllib\\lib\\site-packages\\mediapy\\__init__.py:1557\u001b[0m, in \u001b[0;36mcompress_video\u001b[1;34m(images, codec, **kwargs)\u001b[0m\n\u001b[0;32m   1555\u001b[0m \u001b[39mwith\u001b[39;00m tempfile\u001b[39m.\u001b[39mTemporaryDirectory() \u001b[39mas\u001b[39;00m directory_name:\n\u001b[0;32m   1556\u001b[0m   tmp_path \u001b[39m=\u001b[39m pathlib\u001b[39m.\u001b[39mPath(directory_name) \u001b[39m/\u001b[39m \u001b[39mf\u001b[39m\u001b[39m'\u001b[39m\u001b[39mfile\u001b[39m\u001b[39m{\u001b[39;00msuffix\u001b[39m}\u001b[39;00m\u001b[39m'\u001b[39m\n\u001b[1;32m-> 1557\u001b[0m   write_video(tmp_path, images, codec\u001b[39m=\u001b[39mcodec, \u001b[39m*\u001b[39m\u001b[39m*\u001b[39mkwargs)\n\u001b[0;32m   1558\u001b[0m   \u001b[39mreturn\u001b[39;00m tmp_path\u001b[39m.\u001b[39mread_bytes()\n",
      "File \u001b[1;32mc:\\Users\\doore\\anaconda3\\envs\\rllib\\lib\\site-packages\\mediapy\\__init__.py:1526\u001b[0m, in \u001b[0;36mwrite_video\u001b[1;34m(path, images, **kwargs)\u001b[0m\n\u001b[0;32m   1524\u001b[0m   dtype \u001b[39m=\u001b[39m np\u001b[39m.\u001b[39mdtype(np\u001b[39m.\u001b[39muint16)\n\u001b[0;32m   1525\u001b[0m kwargs \u001b[39m=\u001b[39m {\u001b[39m'\u001b[39m\u001b[39mmetadata\u001b[39m\u001b[39m'\u001b[39m: \u001b[39mgetattr\u001b[39m(images, \u001b[39m'\u001b[39m\u001b[39mmetadata\u001b[39m\u001b[39m'\u001b[39m, \u001b[39mNone\u001b[39;00m), \u001b[39m*\u001b[39m\u001b[39m*\u001b[39mkwargs}\n\u001b[1;32m-> 1526\u001b[0m \u001b[39mwith\u001b[39;00m VideoWriter(path, shape\u001b[39m=\u001b[39mshape, dtype\u001b[39m=\u001b[39mdtype, \u001b[39m*\u001b[39m\u001b[39m*\u001b[39mkwargs) \u001b[39mas\u001b[39;00m writer:\n\u001b[0;32m   1527\u001b[0m   \u001b[39mfor\u001b[39;00m image \u001b[39min\u001b[39;00m images:\n\u001b[0;32m   1528\u001b[0m     writer\u001b[39m.\u001b[39madd_image(image)\n",
      "File \u001b[1;32mc:\\Users\\doore\\anaconda3\\envs\\rllib\\lib\\site-packages\\mediapy\\__init__.py:1378\u001b[0m, in \u001b[0;36mVideoWriter.__enter__\u001b[1;34m(self)\u001b[0m\n\u001b[0;32m   1377\u001b[0m \u001b[39mdef\u001b[39;00m \u001b[39m__enter__\u001b[39m(\u001b[39mself\u001b[39m) \u001b[39m-\u001b[39m\u001b[39m>\u001b[39m \u001b[39m'\u001b[39m\u001b[39mVideoWriter\u001b[39m\u001b[39m'\u001b[39m:\n\u001b[1;32m-> 1378\u001b[0m   ffmpeg_path \u001b[39m=\u001b[39m _get_ffmpeg_path()\n\u001b[0;32m   1379\u001b[0m   input_pix_fmt \u001b[39m=\u001b[39m \u001b[39mself\u001b[39m\u001b[39m.\u001b[39m_get_pix_fmt(\u001b[39mself\u001b[39m\u001b[39m.\u001b[39mdtype, \u001b[39mself\u001b[39m\u001b[39m.\u001b[39minput_format)\n\u001b[0;32m   1380\u001b[0m   \u001b[39mtry\u001b[39;00m:\n",
      "File \u001b[1;32mc:\\Users\\doore\\anaconda3\\envs\\rllib\\lib\\site-packages\\mediapy\\__init__.py:1021\u001b[0m, in \u001b[0;36m_get_ffmpeg_path\u001b[1;34m()\u001b[0m\n\u001b[0;32m   1019\u001b[0m path \u001b[39m=\u001b[39m _search_for_ffmpeg_path()\n\u001b[0;32m   1020\u001b[0m \u001b[39mif\u001b[39;00m \u001b[39mnot\u001b[39;00m path:\n\u001b[1;32m-> 1021\u001b[0m   \u001b[39mraise\u001b[39;00m \u001b[39mRuntimeError\u001b[39;00m(\n\u001b[0;32m   1022\u001b[0m       \u001b[39mf\u001b[39m\u001b[39m\"\u001b[39m\u001b[39mProgram \u001b[39m\u001b[39m'\u001b[39m\u001b[39m{\u001b[39;00m_config\u001b[39m.\u001b[39mffmpeg_name_or_path\u001b[39m}\u001b[39;00m\u001b[39m'\u001b[39m\u001b[39m is not found;\u001b[39m\u001b[39m\"\u001b[39m\n\u001b[0;32m   1023\u001b[0m       \u001b[39m\"\u001b[39m\u001b[39m perhaps install ffmpeg using \u001b[39m\u001b[39m'\u001b[39m\u001b[39mapt-get install ffmpeg\u001b[39m\u001b[39m'\u001b[39m\u001b[39m.\u001b[39m\u001b[39m\"\u001b[39m)\n\u001b[0;32m   1024\u001b[0m \u001b[39mreturn\u001b[39;00m path\n",
      "\u001b[1;31mRuntimeError\u001b[0m: Program 'ffmpeg' is not found; perhaps install ffmpeg using 'apt-get install ffmpeg'."
     ]
    }
   ],
   "source": [
    "\n",
    "filename = \".\\\\description\\\\snake_circle.xml\"\n",
    "# dirpath = os.path.realpath(os.path.join(os.getcwd(), os.path.dirname(__file__))) + \"\\\\description\\\\\"\n",
    "\n",
    "path = filename\n",
    "\n",
    "model = mujoco.MjModel.from_xml_path(path)\n",
    "renderer = mujoco.Renderer(model, 480, 480)\n",
    "data = mujoco.MjData(model)\n",
    "\n",
    "mujoco.mj_forward(model, data)\n",
    "renderer.update_scene(data, \"fixed\")\n",
    "\n",
    "gait = snake_gait()\n",
    "frames = []\n",
    "\n",
    "for t in range(1000):\n",
    "    u = gait.get_selected_joints() * (np.random.random((1,1)) - 0.5) * 6\n",
    "    u = u.squeeze()\n",
    "    idx = int(np.nonzero(u)[0])\n",
    "    gait.gait_step()\n",
    "\n",
    "    data.ctrl[idx] = u[idx]\n",
    "\n",
    "    gait.gait_step()\n",
    "    mujoco.mj_step(model,data)\n",
    "\n",
    "    # print(data.body(\"head\"))\n",
    "    pixels = renderer.render().copy()\n",
    "    frames.append(pixels)\n",
    "\n",
    "media.show_video(frames, fps=100)"
   ]
  },
  {
   "attachments": {},
   "cell_type": "markdown",
   "metadata": {},
   "source": [
    "시뮬레이션 시작"
   ]
  }
 ],
 "metadata": {
  "kernelspec": {
   "display_name": "rllib",
   "language": "python",
   "name": "python3"
  },
  "language_info": {
   "codemirror_mode": {
    "name": "ipython",
    "version": 3
   },
   "file_extension": ".py",
   "mimetype": "text/x-python",
   "name": "python",
   "nbconvert_exporter": "python",
   "pygments_lexer": "ipython3",
   "version": "3.9.16 (main, Jan 11 2023, 16:16:36) [MSC v.1916 64 bit (AMD64)]"
  },
  "orig_nbformat": 4,
  "vscode": {
   "interpreter": {
    "hash": "d47bedaa1c91cdd818b14831e10e7cdc4f0653b726a0327bbea2da1503325d29"
   }
  }
 },
 "nbformat": 4,
 "nbformat_minor": 2
}
