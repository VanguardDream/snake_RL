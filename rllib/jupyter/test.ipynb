{
 "cells": [
  {
   "cell_type": "markdown",
   "metadata": {},
   "source": [
    "### 필요 패키지 설치"
   ]
  },
  {
   "cell_type": "code",
   "execution_count": 1,
   "metadata": {},
   "outputs": [],
   "source": [
    "#@title Import packages for plotting and creating graphics\n",
    "import time\n",
    "import itertools\n",
    "import numpy as np\n",
    "from typing import Callable, NamedTuple, Optional, Union, List\n",
    "\n",
    "# Graphics and plotting.\n",
    "# print('Installing mediapy:')\n",
    "# !command -v ffmpeg >/dev/null || (apt update && apt install -y ffmpeg)\n",
    "# !pip install -q mediapy\n",
    "import mediapy as media\n",
    "import matplotlib.pyplot as plt\n",
    "\n",
    "# More legible printing from numpy.\n",
    "np.set_printoptions(precision=3, suppress=True, linewidth=100)"
   ]
  },
  {
   "cell_type": "markdown",
   "metadata": {},
   "source": [
    "### Mujoco 설치 확인하기"
   ]
  },
  {
   "cell_type": "code",
   "execution_count": 2,
   "metadata": {},
   "outputs": [
    {
     "name": "stdout",
     "output_type": "stream",
     "text": [
      "Wed Jan  4 14:58:56 2023       \n",
      "+-----------------------------------------------------------------------------+\n",
      "| NVIDIA-SMI 525.65       Driver Version: 527.56       CUDA Version: 12.0     |\n",
      "|-------------------------------+----------------------+----------------------+\n",
      "| GPU  Name        Persistence-M| Bus-Id        Disp.A | Volatile Uncorr. ECC |\n",
      "| Fan  Temp  Perf  Pwr:Usage/Cap|         Memory-Usage | GPU-Util  Compute M. |\n",
      "|                               |                      |               MIG M. |\n",
      "|===============================+======================+======================|\n",
      "|   0  NVIDIA GeForce ...  On   | 00000000:01:00.0  On |                  N/A |\n",
      "| 30%   40C    P8    22W / 320W |    643MiB / 10240MiB |      7%      Default |\n",
      "|                               |                      |                  N/A |\n",
      "+-------------------------------+----------------------+----------------------+\n",
      "                                                                               \n",
      "+-----------------------------------------------------------------------------+\n",
      "| Processes:                                                                  |\n",
      "|  GPU   GI   CI        PID   Type   Process name                  GPU Memory |\n",
      "|        ID   ID                                                   Usage      |\n",
      "|=============================================================================|\n",
      "|    0   N/A  N/A        23      G   /Xwayland                       N/A      |\n",
      "+-----------------------------------------------------------------------------+\n",
      "Setting environment variable to use GPU rendering:\n",
      "env: MUJOCO_GL=osmesa\n",
      "Checking that the installation succeeded:\n",
      "Installation successful.\n"
     ]
    }
   ],
   "source": [
    "import distutils.util\n",
    "import subprocess\n",
    "if subprocess.run('nvidia-smi').returncode:\n",
    "  raise RuntimeError(\n",
    "      'Cannot communicate with GPU. '\n",
    "      'Make sure you are using a GPU Colab runtime. '\n",
    "      'Go to the Runtime menu and select Choose runtime type.')\n",
    "# Configure MuJoCo to use the EGL rendering backend (requires GPU)\n",
    "print('Setting environment variable to use GPU rendering:')\n",
    "# WSL에서 egl 안되는 것 같음. 대신 glfw, osmesa\n",
    "%env MUJOCO_GL=osmesa\n",
    "\n",
    "import mujoco\n",
    "\n",
    "try:\n",
    "  print('Checking that the installation succeeded:')\n",
    "  import mujoco\n",
    "  mujoco.MjModel.from_xml_string('<mujoco/>')\n",
    "except Exception as e:\n",
    "  raise e from RuntimeError(\n",
    "      'Something went wrong during installation. Check the shell output above '\n",
    "      'for more information.\\n'\n",
    "      'If using a hosted Colab runtime, make sure you enable GPU acceleration '\n",
    "      'by going to the Runtime menu and selecting \"Choose runtime type\".')\n",
    "\n",
    "print('Installation successful.')"
   ]
  },
  {
   "cell_type": "code",
   "execution_count": null,
   "metadata": {},
   "outputs": [],
   "source": []
  },
  {
   "cell_type": "markdown",
   "metadata": {},
   "source": [
    "### Mujoco 기본 문법"
   ]
  },
  {
   "cell_type": "code",
   "execution_count": 3,
   "metadata": {},
   "outputs": [],
   "source": [
    "xml = \"\"\"\n",
    "<mujoco>\n",
    "  <worldbody>\n",
    "    <geom name=\"red_box\" type=\"box\" size=\".2 .2 .2\" rgba=\"1 0 0 1\"/>\n",
    "    <geom name=\"green_sphere\" pos=\".2 .2 .2\" size=\".1\" rgba=\"0 1 0 1\"/>\n",
    "  </worldbody>\n",
    "</mujoco>\n",
    "\"\"\"\n",
    "\n",
    "model = mujoco.MjModel.from_xml_string(xml)"
   ]
  },
  {
   "cell_type": "code",
   "execution_count": 4,
   "metadata": {},
   "outputs": [
    {
     "name": "stdout",
     "output_type": "stream",
     "text": [
      "\"Invalid name ''. Valid names: ['green_sphere', 'red_box']\"\n"
     ]
    }
   ],
   "source": [
    "try:\n",
    "  model.geom()\n",
    "except KeyError as e:\n",
    "  print(e)"
   ]
  },
  {
   "cell_type": "code",
   "execution_count": 5,
   "metadata": {},
   "outputs": [
    {
     "name": "stdout",
     "output_type": "stream",
     "text": [
      "id of \"green_sphere\":  1\n",
      "name of geom 1:  green_sphere\n",
      "name of body 0:  world\n"
     ]
    }
   ],
   "source": [
    "print('id of \"green_sphere\": ', model.geom('green_sphere').id)\n",
    "print('name of geom 1: ', model.geom(1).name)\n",
    "print('name of body 0: ', model.body(0).name)"
   ]
  },
  {
   "cell_type": "code",
   "execution_count": 6,
   "metadata": {},
   "outputs": [],
   "source": [
    "from statistics import mode\n",
    "\n",
    "\n",
    "# xml = \"\"\"\n",
    "# <mujoco>\n",
    "#   <worldbody>\n",
    "#     <geom name=\"red_box\" type=\"box\" size=\".2 .2 .2\" rgba=\"1 0 0 1\"/>\n",
    "#     <geom name=\"green_sphere\" pos=\".2 .2 .2\" size=\".1\" rgba=\"0 1 0 1\"/>\n",
    "#   </worldbody>\n",
    "# </mujoco>\n",
    "# \"\"\"\n",
    "# # Make model and data\n",
    "# model = mujoco.MjModel.from_xml_string(xml)\n",
    "# data = mujoco.MjData(model)\n",
    "\n",
    "# # Make renderer, render and show the pixels\n",
    "# renderer = mujoco.Renderer(model)\n",
    "# media.show_image(renderer.render())"
   ]
  },
  {
   "cell_type": "code",
   "execution_count": 7,
   "metadata": {},
   "outputs": [],
   "source": [
    "# mujoco.mj_forward(model, data)\n",
    "# renderer.update_scene(data)\n",
    "\n",
    "# media.show_image(renderer.render())"
   ]
  },
  {
   "cell_type": "code",
   "execution_count": 8,
   "metadata": {},
   "outputs": [],
   "source": [
    "xml = \"\"\"\n",
    "<mujoco>\n",
    "  <worldbody>\n",
    "    <light name=\"top\" pos=\"0 0 1\"/>\n",
    "    <geom name=\"red_box\" type=\"box\" size=\".2 .2 .2\" rgba=\"1 0 0 1\"/>\n",
    "    <geom name=\"green_sphere\" pos=\".2 .2 .2\" size=\".1\" rgba=\"0 1 0 1\"/>\n",
    "  </worldbody>\n",
    "</mujoco>\n",
    "\"\"\"\n",
    "\n",
    "model = mujoco.MjModel.from_xml_string(xml)\n",
    "data = mujoco.MjData(model)\n",
    "renderer = mujoco.Renderer(model)\n"
   ]
  },
  {
   "cell_type": "code",
   "execution_count": 9,
   "metadata": {},
   "outputs": [
    {
     "data": {
      "text/html": [
       "<table class=\"show_images\" style=\"border-spacing:0px;\"><tr><td style=\"padding:1px;\"><img width=\"320\" height=\"240\" style=\"image-rendering:pixelated; object-fit:cover;\" src=\"data:image/png;base64,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\"/></td></tr></table>"
      ],
      "text/plain": [
       "<IPython.core.display.HTML object>"
      ]
     },
     "metadata": {},
     "output_type": "display_data"
    }
   ],
   "source": [
    "\n",
    "mujoco.mj_forward(model, data)\n",
    "renderer.update_scene(data)\n",
    "\n",
    "media.show_image(renderer.render())"
   ]
  },
  {
   "cell_type": "code",
   "execution_count": 10,
   "metadata": {},
   "outputs": [
    {
     "data": {
      "text/html": [
       "<table class=\"show_videos\" style=\"border-spacing:0px;\"><tr><td style=\"padding:1px;\"><video controls width=\"320\" height=\"240\" style=\"object-fit:cover;\" loop autoplay>\n",
       "      <source src=\"data:video/mp4;base64,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\" type=\"video/mp4\"/>\n",
       "      This browser does not support the video tag.\n",
       "      </video></td></tr></table>"
      ],
      "text/plain": [
       "<IPython.core.display.HTML object>"
      ]
     },
     "metadata": {},
     "output_type": "display_data"
    }
   ],
   "source": [
    "xml = \"\"\"\n",
    "<mujoco>\n",
    "  <worldbody>\n",
    "    <light name=\"top\" pos=\"0 0 1\"/>\n",
    "    <body name=\"box_and_sphere\" euler=\"0 0 -30\">\n",
    "      <joint name=\"swing\" type=\"hinge\" axis=\"1 -1 0\" pos=\"-.2 -.2 -.2\"/>\n",
    "      <geom name=\"red_box\" type=\"box\" size=\".2 .2 .2\" rgba=\"1 0 0 1\"/>\n",
    "      <geom name=\"green_sphere\" pos=\".2 .2 .2\" size=\".1\" rgba=\"0 1 0 1\"/>\n",
    "    </body>\n",
    "  </worldbody>\n",
    "</mujoco>\n",
    "\"\"\"\n",
    "model = mujoco.MjModel.from_xml_string(xml)\n",
    "data = mujoco.MjData(model)\n",
    "renderer = mujoco.Renderer(model)\n",
    "\n",
    "# enable joint visualization option:\n",
    "scene_option = mujoco.MjvOption()\n",
    "scene_option.flags[mujoco.mjtVisFlag.mjVIS_JOINT] = True\n",
    "\n",
    "duration = 3.8  # (seconds)\n",
    "framerate = 60  # (Hz)\n",
    "\n",
    "frames = []\n",
    "mujoco.mj_resetData(model, data)\n",
    "while data.time < duration:\n",
    "  mujoco.mj_step(model, data)\n",
    "  if len(frames) < data.time * framerate:\n",
    "    renderer.update_scene(data, scene_option=scene_option)\n",
    "    pixels = renderer.render().copy()\n",
    "    frames.append(pixels)\n",
    "\n",
    "# Simulate and display video.\n",
    "media.show_video(frames, fps=framerate)"
   ]
  },
  {
   "cell_type": "code",
   "execution_count": null,
   "metadata": {},
   "outputs": [],
   "source": []
  }
 ],
 "metadata": {
  "kernelspec": {
   "display_name": "rllib",
   "language": "python",
   "name": "python3"
  },
  "language_info": {
   "codemirror_mode": {
    "name": "ipython",
    "version": 3
   },
   "file_extension": ".py",
   "mimetype": "text/x-python",
   "name": "python",
   "nbconvert_exporter": "python",
   "pygments_lexer": "ipython3",
   "version": "3.9.15 (main, Nov 24 2022, 14:31:59) \n[GCC 11.2.0]"
  },
  "vscode": {
   "interpreter": {
    "hash": "a5edb5182b7322ff633331f4686a0cd75e880ad80559b0204da9185e3ceb3d29"
   }
  }
 },
 "nbformat": 4,
 "nbformat_minor": 2
}
