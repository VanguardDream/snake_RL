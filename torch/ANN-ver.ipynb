{
 "cells": [
  {
   "cell_type": "markdown",
   "metadata": {},
   "source": [
    "# ANN 버전 정리\n",
    "\n",
    "현재 ANN의 Layer를 조절하는 중입니다. 간단한 노트와 해당 ANN의 코드를 이 노트북에 저장하려합니다."
   ]
  },
  {
   "cell_type": "markdown",
   "metadata": {},
   "source": [
    "### V1 ( ~20220119)\n",
    "Optimizer \\-> RMSProp\n",
    "rl \\-> Default\n",
    "\n",
    "Layer -> 하단 코드 참조"
   ]
  },
  {
   "cell_type": "code",
   "execution_count": null,
   "metadata": {},
   "outputs": [],
   "source": []
  }
 ],
 "metadata": {
  "language_info": {
   "name": "python"
  },
  "orig_nbformat": 4
 },
 "nbformat": 4,
 "nbformat_minor": 2
}
