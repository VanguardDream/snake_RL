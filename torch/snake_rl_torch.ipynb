{
 "cells": [
  {
   "cell_type": "markdown",
   "metadata": {},
   "source": [
    "# Snake-RL (Pytorch)\n",
    "Gait Decomposition을 활용하여 Gait 자체를 학습하는 연구를 이 Jupyter 노트북에 작성을 하려고함. Gait Decomposition은 뱀 로봇의 움직임을 P함수와 M행렬로 분해하여 뱀 로봇의 Gait를 표현하는 방법이며, 이 방법을 통해서 직관적으로 뱀 로봇의 움직임을 표현할 수 있고, 파라미터 튜닝을 진행할 수 있다. 관련 내용은 [Arxiv 논문](https://arxiv.org/abs/2112.02057)을 참조할 것.\n",
    "\n",
    "## Gait Decomposition에 대한 이해\n",
    "Gait Decomposition에 대한 코드는 Gait 클래스에 구현되어 있다. 따라서 Gait 생성 코드를 코드에 import하자."
   ]
  },
  {
   "cell_type": "code",
   "execution_count": null,
   "metadata": {},
   "outputs": [],
   "source": [
    "import numpy as np\n",
    "import math\n",
    "\n",
    "from gait import gait\n",
    "\n",
    "g = gait(1)"
   ]
  },
  {
   "cell_type": "markdown",
   "metadata": {},
   "source": [
    "위 코드에서 삽입된 gait.py코드는 위 논문의 P함수와 M행렬을 객체로 구현한 코드이다.\n",
    "\n",
    "Gait가 잘 생성되는지 확인해보자."
   ]
  },
  {
   "cell_type": "code",
   "execution_count": null,
   "metadata": {},
   "outputs": [],
   "source": [
    "for i in range(0,10):\n",
    "    print(g.generate(i).T)"
   ]
  },
  {
   "cell_type": "markdown",
   "metadata": {},
   "source": [
    "위와 같이 생성된 Gait 데이터를 통해서 모터를 동작시키면 뱀 로봇이 움직이게 된다. Mujoco 시뮬레이터에서 움직이는 것을 그림으로 나타내면 아래 그림과 같다.\n",
    "\n",
    "![fig1](./img/fig1.gif)"
   ]
  },
  {
   "cell_type": "markdown",
   "metadata": {},
   "source": [
    "위 출력 결과와 같이 $i$가 증가하면서 각 모터에 입력되는 입력 신호가 바뀌는 것을 확인할 수 있다. \n",
    "위 결과는 P함수와 M행렬의 행렬 곱에서 대각 원소의 값을 출력한 결과이다. 위와 같은 결과를 모터에 전달하여 뱀 로봇이 움직이도록 만들 수 있다.\n",
    "\n",
    "P함수는 모터의 목표 위치를 계산하는 함수로 주기 함수의 꼴을 갖는다. 주변 환경이 변하지 않는 이상적인 환경에서는 미리 학습된 P함수를 통해서 뱀 로봇을 움직이게 만들 수 있다.\n",
    "하지만, 뱀 로봇이 항상 이상적인 환경에서 동작하지 않기 때문에 학습된 P함수가 최적 값을 내지못할 수도 있다. 우리는 이런 점에서 P함수를 센싱되는 지형의 데이터나 로봇의 상태에 따라서 변경할 수 있는 알고리즘을 구현하고자 한다.\n",
    "\n",
    "이를 위해 P함수의 정의를 명확하게 하고자한다.\n",
    "\n",
    "$$\n",
    "P(t,A,\\phi) \\to \\bar{\\theta}\n",
    "$$\n",
    "\n",
    "위 식을 확인하면 P함수는 시간과 진폭, 위상차를 독립 변수로 갖는 함수이다. 더 상세하게 P함수를 나타내면 다음과 같다.\n",
    "\n",
    "$$\n",
    "\\begin{equation*}\n",
    "    \\bar{\\theta} = \\left( \n",
    "    \\begin{matrix}\n",
    "    i = \\text{odd}\\;, \\theta_i =  A_{\\text{dor.}}\\cdot \\sin(\\frac{2 \\pi}{m}t + \\frac{i}{2} \\cdot \\phi_{\\text{dor.}})\\;\\;\\; \\\\ \\\\\n",
    "    i = \\text{even}\\;, \\theta_i =   A_{\\text{lat.}}\\cdot \\sin(\\frac{2 \\pi}{m}t + \\frac{i-1}{2}\\cdot \\phi_{\\text{lat.}})\\; \\end{matrix} \n",
    "    \\right)\\quad\\quad\n",
    "\\end{equation*}\n",
    "$$ \n",
    "여기에서, $m$은 P함수의 주파수 성분을 나타내기 위한 상수이며, $i$는 모터의 순서를 나타낸다.  우리 시스템에서는 Head 모터가 0번이다. $(i=0, \\text{Head})$\n",
    "\n",
    "이 때 다시 Gait 생성 코드를 보면 순서대로 머리모터부터 홀수 번째 모터들이 순서대로 움직이는 것으로 볼 수 있다. P함수는 t에 따라서 모든 모터에 대한 $\\theta$값이 변경되는데 홀수번째 모터만 동작하는 이유는 우리가 뱀 로봇의 Gait를 정의하기 위해서 모션 행렬 M을 정의했기 때문이다. 모션 행렬 M은 뱀 로봇의 Gait를 구분하기 위한 주요한 파라미터이다. 이 행렬을 통해서 시간 t에서 어떤 모터가 동작할지 정할 수 있다. 현재 우리는 뱀 로봇의 Gait로 3가지 Gait를 정의했다. Inchworm, Serpentine, Sidewind이고 이를 모션 행렬로 표현하면 아래와 같다.\n",
    "\n",
    "### Inchworm gait의 모션 행렬\n",
    "$$\n",
    "\\begin{equation*}\n",
    "    \\mathbb{M_\\text{inch}} = \\begin{bmatrix}\n",
    "1 & 0 & 0 & 0 & 0 & 0 & 0 \\\\\n",
    "0 & 0 & 0 & 0 & 0 & 0 & 0 \\\\\n",
    "0 & 1 & 0 & 0 & 0 & 0 & 0 \\\\\n",
    "\\vdots & \\vdots & \\vdots & \\vdots & \\vdots & \\vdots & \\vdots \\\\\n",
    "0 & 0 & 0 & 0 & 0 & 0 & 1 \\\\\n",
    "0 & 0 & 0 & 0 & 0 & 0 & 0 \\\\\n",
    "\\end{bmatrix} \\end{equation*}\n",
    "$$\n",
    "### Serpentine gait의 모션 행렬\n",
    "$$\n",
    "\\begin{equation}\n",
    "    \\mathbb{M_\\text{ser}} = \\begin{bmatrix}\n",
    "1 & 0 & 0 & \\cdots & 0 & 0\\\\\n",
    "0 & 1 & 0 & \\cdots & 0 & 0\\\\\n",
    "0 & 0 & 1 & \\cdots & 0 & 0\\\\\n",
    "\\vdots & \\vdots & \\vdots & \\ddots & \\vdots & \\vdots \\\\\n",
    " 0 & 0 & 0 & \\cdots & 1 & 0\\\\\n",
    " 0 & 0 & 0 & \\cdots & 0 & 1 \n",
    "\\end{bmatrix} = \\mathbb{I}\n",
    "\\end{equation} \n",
    "$$\n",
    "### Sidewind gait의 모션 행렬\n",
    "$$\n",
    "\\begin{equation}\n",
    "    \\mathbb{M_\\text{side}} = \\begin{bmatrix}\n",
    "0 & 1 & 0 & \\cdots & 0 & 0 \\\\\n",
    "1 & 0 & 0 & \\cdots & 0 & 0 \\\\\n",
    "0 & 0 & 0 & \\cdots & 0 & 0 \\\\\n",
    "0 & 0 & 1 & \\cdots & 0 & 0 \\\\\n",
    "\\vdots & \\vdots & \\vdots & \\ddots & \\vdots & \\vdots \\\\\n",
    "0 & 0 & 0 & \\cdots & 0 & 1\\\\\n",
    "0 & 0 & 0 & \\cdots & 1 & 0\\\\\n",
    "\\end{bmatrix}\n",
    "\\end{equation}\n",
    "$$\n",
    "\n",
    "$\\mathbb{m}$행렬은 k개의 열벡터로 이루어진다. $(\\mathbb{M} = \\{m_1,..m_k\\})$ 여기에서 이 열벡터는 해당 시간에서 움직이는 모터의 인덱스를 표현한다. 따라서 P함수와 M행렬을 내적하면 어떤 모터가 어느 정도 움직이면 되는지를 표현할 수 있다. 여기에서 시스템 모터의 목표 각도 Array를 $\\mathbb{G}$라고 가정하면, 수식으로 다음과 같이 표현할 수 있다.\n",
    "\n",
    "$$\n",
    "\\begin{equation*}\n",
    "\\mathbb{M} = \\left[\n",
    "\\begin{matrix}\n",
    "    \\vert & \\vert &        & \\vert \\\\\n",
    "    m_1   &   m_2 & \\cdots & m_k \\\\\n",
    "    \\vert & \\vert &        & \\vert \\\\\n",
    "\\end{matrix}\n",
    "\\right] \\; , \\, m_k \\in \\mathbb{R}^{14}\\\\\n",
    "\\end{equation*}\n",
    "$$\n",
    "\n",
    "$$\n",
    "\\begin{equation*}\n",
    "    \\mathbb{G}_k = \\bar{\\theta} \\, \\cdot \\, {m_k}^{T}   \\; , \\; \\mathbb{G}_{k} \\in \\mathbb{R}^{14 \\times 14}\n",
    "\\end{equation*}\n",
    "$$\n",
    "\n",
    "이렇게 표현된 Gait는 P함수의 파라미터를 조절하여 튜닝(최적화)시킬 수 있다. 최적화를 진행하기 위해서는 Gait의 성능을 평가할 수 있는 범함수가 필요하다. 우리는 성능 평가를 위한 범함수를 아래와 같이 정의했다.\n",
    "\n",
    "$$\n",
    "\\begin{equation}\n",
    "    U(k,P(k,\\,\\bar{\\theta}),\\mathbb{M}) = {i} \\cdot \\Delta x - {j} \\cdot |\\Delta y| - {l} \\cdot |\\frac{\\Delta y}{\\Delta x}| - m \\cdot {\\int}_{t_{0}}^{t_f} {\\| \\mathbb{G}_{k} \\|}_1 \\,dk \\\\\n",
    "    \\\\\n",
    "\\end{equation}\n",
    "$$\n",
    "\n",
    "위 범함수는 정의된 뱀 로봇이 10초 동안 움직이고 난 뒤의 결과를 통해 Gait 성능을 평가하는 함수이다. $i,j,l$은 성능 지표 이며 이 지표를 변경하면서 어떤 성능을 중점적으로 최적화할 것인지 표현할 수 있다. 위와 같은 범 함수를 활용하여 P함수의 파라미터를 최적화시킬 수 있었다. 하지만 이렇게 최적화된 Gait는 Open-loop로 제어되어, 뱀 로봇의 상태를 피드백받지 않고 모터의 목표값을 생성한다. 따라서 다양한 환경에서 적응하기 어렵다. \n",
    "\n",
    "우리는 이렇게 Decomposed된 Gait 구성 요소를 활용하여 Closed-loop제어를 하기위해서 DNN 네트워크를 활용하고자 한다. \n",
    "\n",
    "제안하는 네트워크 구조는 다음과 같다.\n",
    "\n",
    "\n",
    "\n"
   ]
  },
  {
   "cell_type": "markdown",
   "metadata": {},
   "source": [
    "![fig2](./img/RL-control-block.png)\n",
    "\n",
    "위 그림과 같이 Gait Decomposition을 활용하여 뱀 로봇을 구동시키며 얻은 State, Reward를 통해서 신경망을 학습시키고, Feedback하여 뱀 로봇을 제어할 수 있도록 블록을 구성하였다."
   ]
  },
  {
   "cell_type": "markdown",
   "metadata": {},
   "source": [
    "## State Listener 구현\n",
    "위와 같은 구조로 뱀 로봇을 움직이기 위해서 시뮬레이션 결과를 받아올 수 있는 Listener를 구현해야 했다. 신경망 입력으로는 벡터 $\\bar{x}$가 입력되며 이 벡터의 원소는 아래와 같다.\n",
    "\n",
    "$$\n",
    "\\bar{x} = \\left( \\begin{align*} k \\\\ \\theta \\\\ \\dot{\\theta} \\\\ \\bar{q} \\end{align*}\\right)\n",
    "$$\n",
    "\n",
    "여기서 $k$는 time step을 나타내며, $\\theta$는 관절의 각도, $\\bar{q}$는 머리 링크의 오리엔테이션과 위치를 나타낸다.\n",
    "\n",
    "이와 같은 데이터를 Mujoco 시뮬레이터에서 얻어야한다. Python에서 Mujoco를 import하고 관련된 설정을 진행한다."
   ]
  },
  {
   "cell_type": "code",
   "execution_count": null,
   "metadata": {},
   "outputs": [],
   "source": [
    "import mujoco_py\n",
    "\n",
    "snake = mujoco_py.load_model_from_path(\"../description/mujoco/snake_dgist.xml\")\n",
    "simulator = mujoco_py.MjSim(snake)"
   ]
  },
  {
   "cell_type": "markdown",
   "metadata": {},
   "source": [
    "위와 같은 설정을 통해서 뱀 로봇 정의 파일을 Mujoco가 불러와 시뮬레이션 환경을 구축할 수 있게 되었다.\n",
    "\n",
    "이후 각 Step마다 필요한 정보를 가져오는 함수를 구현하면 아래와 같다."
   ]
  },
  {
   "cell_type": "code",
   "execution_count": null,
   "metadata": {},
   "outputs": [],
   "source": [
    "def stepListener(k) -> np.ndarray:\n",
    "    joint_names = ['joint1','joint2','joint3','joint4','joint5','joint6','joint7','joint8','joint9','joint10','joint11','joint12','joint13','joint14']\n",
    "\n",
    "    theta = np.array([simulator.data.get_joint_qpos(x) for x in joint_names])\n",
    "    dtheta = np.array([simulator.data.get_joint_qvel(x) for x in joint_names])\n",
    "    x = np.array(simulator.data.get_body_xpos('head'))\n",
    "    q = np.array(simulator.data.get_body_xquat('head'))\n",
    "\n",
    "    # print(theta)\n",
    "    # print(dtheta)\n",
    "    # print(q)\n",
    "    state = np.concatenate((np.array([k%14]),theta,dtheta,x,q))\n",
    "\n",
    "    # return np.array([k, theta, dtheta, q],dtype='object')\n",
    "    return state"
   ]
  },
  {
   "cell_type": "markdown",
   "metadata": {},
   "source": [
    "## Reward 계산 함수 구현\n",
    "받아온 State를 통해서 Reward를 계산하는 함수를 구현해야한다. GD 최적화 논문에서는 0초에서 Terminal까지의 변위를 통해 Reward를 계산했지만 여기서는 State간의 Reward를 계산해야한다. 이런 Reward를 계산하기 앞서, 현재 Quaternion형태로 받아오는 방향 정보를 알기 쉬운 Euler 형태로 바꾸는 함수를 구현하자."
   ]
  },
  {
   "cell_type": "code",
   "execution_count": null,
   "metadata": {},
   "outputs": [],
   "source": [
    "def quat2euler(x, y, z, w):\n",
    "        t0 = +2.0 * (w * x + y * z)\n",
    "        t1 = +1.0 - 2.0 * (x * x + y * y)\n",
    "        roll_x = math.atan2(t0, t1)\n",
    "     \n",
    "        t2 = +2.0 * (w * y - z * x)\n",
    "        t2 = +1.0 if t2 > +1.0 else t2\n",
    "        t2 = -1.0 if t2 < -1.0 else t2\n",
    "        pitch_y = math.asin(t2)\n",
    "     \n",
    "        t3 = +2.0 * (w * z + x * y)\n",
    "        t4 = +1.0 - 2.0 * (y * y + z * z)\n",
    "        yaw_z = math.atan2(t3, t4)\n",
    "     \n",
    "        return roll_x, pitch_y, yaw_z # in radians"
   ]
  },
  {
   "cell_type": "markdown",
   "metadata": {},
   "source": [
    "이제 State간의 변위를 이용하여 Reward를 계산하는 함수를 구현하자."
   ]
  },
  {
   "cell_type": "code",
   "execution_count": null,
   "metadata": {},
   "outputs": [],
   "source": [
    "def getReward(k:int,l_s:list, c_s:list)-> float:\n",
    "    o = np.array([0.707, 0, -0.707, 0])\n",
    "    l_s = np.array(l_s)\n",
    "    c_s = np.array(c_s)\n",
    "\n",
    "    s = c_s - l_s\n",
    "    do = c_s[-4:] - o\n",
    "\n",
    "    r,p,y = quat2euler(s[-4],s[-3],s[-2],s[-1])\n",
    "\n",
    "    ro,po,yo = quat2euler(do[-4],do[-3],do[-2],do[-1])\n",
    "\n",
    "    if abs(ro) > math.pi/3:\n",
    "        return -30\n",
    "    \n",
    "    if abs(po) > math.pi/3:\n",
    "        return -30\n",
    "\n",
    "\n",
    "    reward = \\\n",
    "        70 * s[-7] + 10 * (c_s[-7]/ (k+1))\\\n",
    "            - 50 * abs(s[-6]) \\\n",
    "                + (4 / (abs(r) + 1)) \\\n",
    "                    + (8 / (abs(p) + 1)) \\\n",
    "                        + (2 / (abs(y) + 1)) \\\n",
    "                            - 0.1 * yo + 2 / (yo+0.1) \n",
    "\n",
    "    return reward"
   ]
  },
  {
   "cell_type": "markdown",
   "metadata": {},
   "source": [
    "이후 뱀 로봇이 P함수와 M행렬에 따라서 움직일 수 있도록 $\\mathbb{G}$벡터를 계산하는 코드를 구현해야 한다. Gait Decomposition은 Gait 파라미터가 바뀌지 않는 상태에서 연속적으로 뱀 로봇의 움직임을 생성하는 반면에, 신경망을 통해 Feed forward하는 이 시스템의 경우 새롭게 Gait 파라미터를 받아 P함수의 특성을 바꾸는 기능이 추가되어야한다. 이를 코드로 구현하면 아래와 같다."
   ]
  },
  {
   "cell_type": "code",
   "execution_count": null,
   "metadata": {},
   "outputs": [],
   "source": [
    "def genGait(k:int, gait:int, d_amp:float, d_phase:float, d_lam:float,l_amp:float, l_phase:float, l_lam:float, tau:int) -> np.ndarray:\n",
    "    if tau < 1:\n",
    "        tau = 1\n",
    "\n",
    "    g.setParams(gait, d_amp, d_phase, d_lam, l_amp, l_phase, l_lam, tau)\n",
    "    goal_P = g.generate(k)\n",
    "\n",
    "    return goal_P"
   ]
  },
  {
   "cell_type": "markdown",
   "metadata": {},
   "source": [
    "위와 같이 구현한 코드가 시뮬레이터에서 잘 작동하는지 확인해보도록 하자. 아직 신경망이 구현되지 않았으므로 임의의 Gait 파라미터를 생성하기 위해서 Random 패키지를 사용하여 Gait를 생성하기로 한다. 이를 코드로 구현하면 아래와 같다."
   ]
  },
  {
   "cell_type": "code",
   "execution_count": null,
   "metadata": {},
   "outputs": [],
   "source": [
    "import random\n",
    "\n",
    "# viewer = mujoco_py.MjViewer(simulator) #For rendering sim results.\n",
    "\n",
    "# for k in range(0,5000):\n",
    "#     p1 = random.randint(0,900)/10\n",
    "#     p2 = random.randint(0,3600)/10\n",
    "#     p3 = random.randint(-10,10)\n",
    "#     p4 = random.randint(0,900)/10\n",
    "#     p5 = random.randint(0,3600)/10\n",
    "#     p6 = random.randint(-10,10)\n",
    "#     p7 = random.randint(1,4)\n",
    "\n",
    "#     G_k = genGait(k,1,p1,p2,p3,p4,p5,p6,p7)\n",
    "#     motor_idx = np.nonzero(G_k)\n",
    "\n",
    "#     for idx in motor_idx:\n",
    "#                 if not(len(idx) == 0):\n",
    "#                     simulator.data.ctrl[idx] = g.degtorad(G_k[idx])\n",
    "\n",
    "#     simulator.step()\n",
    "#     viewer.render()\n"
   ]
  },
  {
   "cell_type": "markdown",
   "metadata": {},
   "source": [
    "위 코드를 실행시키면 아래와 같은 모양으로 뱀 로봇이 움직이는 것을 확인할 수 있다.\n",
    "![fig2](./img/randomized-movement.gif)"
   ]
  },
  {
   "cell_type": "markdown",
   "metadata": {},
   "source": [
    "## Replay Memory 구현\n",
    "Replay Memory는 학습 속도를 증가시키기 위해서 여러 케이스로 실험을 진행한 결과를 저장할 수 있도록 구현된 Memory이다. 일반적으로 학습에는 병렬 연산이 많이 이루어지므로 데이터를 모아 둔 뒤 한번에 학습하는 것이 더 빠르다고 한다. Replay Memory코드는 [Pytorch 튜토리얼](https://pytorch.org/tutorials/intermediate/reinforcement_q_learning.html)을 참고했다.\n",
    "\n"
   ]
  },
  {
   "cell_type": "code",
   "execution_count": null,
   "metadata": {},
   "outputs": [],
   "source": [
    "from collections import namedtuple, deque\n",
    "\n",
    "Transition = namedtuple('Transition',\n",
    "                        ('state', 'action', 'next_state', 'reward'))\n",
    "\n",
    "\n",
    "class ReplayMemory(object):\n",
    "\n",
    "    def __init__(self, capacity):\n",
    "        self.memory = deque([],maxlen=capacity)\n",
    "\n",
    "    def push(self, *args):\n",
    "        \"\"\"Save a transition\"\"\"\n",
    "        self.memory.append(Transition(*args))\n",
    "\n",
    "    def sample(self, batch_size):\n",
    "        return random.sample(self.memory, batch_size)\n",
    "\n",
    "    def __len__(self):\n",
    "        return len(self.memory)"
   ]
  },
  {
   "cell_type": "markdown",
   "metadata": {},
   "source": [
    "## Q-Network 구현\n",
    "뱀 로봇의 상태 변화를 통해서 적절한 제어 신호를 생성하는 Q Network는 그 신경망 구조에 따라서 학습 속도나 성능이 달라질 수 있다. 우선 간단한 MLP구조의 신경망을 통해서 뱀 로봇의 제어를 진행해보도록 코드를 구현했다.\n",
    "\n",
    "### MLP 기반 네트워크\n",
    "먼저 기본적인 MLP 기반으로 네트워크를 구성하면 아래와 같다."
   ]
  },
  {
   "cell_type": "code",
   "execution_count": null,
   "metadata": {},
   "outputs": [],
   "source": [
    "import torch\n",
    "import torch.nn as nn\n",
    "import torch.optim as optim\n",
    "import torch.nn.functional as F\n",
    "import torchvision.transforms as T\n",
    "\n",
    "device = torch.device(\"cuda\" if torch.cuda.is_available() else \"cpu\")\n",
    "\n",
    "class DQN_MLP(nn.Module):\n",
    "    def __init__(self):\n",
    "        super(DQN_MLP, self).__init__()\n",
    "\n",
    "        self.fc1 = nn.Linear(36,60, bias=True)\n",
    "        self.fc2 = nn.Linear(60,30, bias=True)\n",
    "        self.fc3 = nn.Linear(30,48,bias=True)\n",
    "        self.fc4 = nn.Linear(48,8,bias=True)\n",
    "        self.drop = nn.Dropout(0.15)\n",
    "\n",
    "    def forward(self, x):\n",
    "        x = x.to(device)\n",
    "        # x = torch.tensor(x,device=device)\n",
    "        x = x.float()\n",
    "        \n",
    "        x = F.relu(self.fc1(x))\n",
    "        x = F.dropout(x)\n",
    "        x = F.relu(self.fc2(x))\n",
    "        x = F.dropout(x)\n",
    "        x = F.relu(self.fc3(x))\n",
    "        x = self.fc4(x)\n",
    "\n",
    "        return x\n"
   ]
  },
  {
   "cell_type": "markdown",
   "metadata": {},
   "source": [
    "### RNN 기반으로 네트워크\n",
    "MLP로 네트워크를 구성하여 실험해본 결과 생각보다 Gait 학습이 수렴되는 모습이 보이지 않아 RNN 기반의 네트워크 구성을 진행해보았다.\n"
   ]
  },
  {
   "cell_type": "code",
   "execution_count": 30,
   "metadata": {},
   "outputs": [],
   "source": [
    "import torch\n",
    "import torch.nn as nn\n",
    "import torch.optim as optim\n",
    "import torch.nn.functional as F\n",
    "import torchvision.transforms as T\n",
    "\n",
    "device = torch.device(\"cuda\" if torch.cuda.is_available() else \"cpu\")\n",
    "\n",
    "class DQN_RNN(nn.Module):\n",
    "    def __init__(self):\n",
    "        super(DQN_RNN, self).__init__()\n",
    "\n",
    "        self.lstm1 = nn.LSTM(36,9)\n",
    "\n",
    "    def forward(self, x):\n",
    "        x = x.to(device)\n",
    "        # x = torch.tensor(x,device=device)\n",
    "        x = x.float()\n",
    "        \n",
    "        x = F.relu(self.fc1(x))\n",
    "        x = F.relu(self.fc2(x))\n",
    "        # x = F.dropout(x)\n",
    "        x = F.relu(self.fc3(x))\n",
    "        x = self.fc4(x)\n",
    "\n",
    "        return x\n"
   ]
  },
  {
   "cell_type": "markdown",
   "metadata": {},
   "source": [
    "MLP 기반으로 구성된 Q-Network는 3개의 Layer가 있으며 각 레이어가 선형 결합되도록 구성되었다. 또한 2번 층 이후에 Dropout를 진행한다. "
   ]
  },
  {
   "cell_type": "markdown",
   "metadata": {},
   "source": [
    "## Training 루프 구현 준비\n",
    "뱀 로봇을 움직이게 만들고, 이를 학습시키기 위한 준비가 끝났다. 본격적으로 신경망을 학습시키는 코드를 구현해야한다. 먼저 학습에 필요한 Hyper 파라미터를 조절하는 코드와 액션 벡터를 추출하는 함수 등을 구현한다..\n",
    "\n",
    "### Hyper 파라미터\n",
    "Hyper 파라미터는 단순한 변수로 표현할 수 있다. 이에 해당되는 코드는 아래와 같다."
   ]
  },
  {
   "cell_type": "code",
   "execution_count": null,
   "metadata": {},
   "outputs": [],
   "source": [
    "BATCH_SIZE = 128\n",
    "GAMMA = 0.999\n",
    "EPS_START = 0.9\n",
    "EPS_END = 0.05\n",
    "EPS_DECAY = 200\n",
    "TARGET_UPDATE = 10\n",
    "\n",
    "# n_actions = 14 #number of joints\n",
    "\n",
    "policy_net = DQN_MLP().to(device)\n",
    "target_net = DQN_MLP().to(device)\n",
    "\n",
    "target_net.load_state_dict(policy_net.state_dict())\n",
    "target_net.eval()\n",
    "\n",
    "optimizer = optim.Adam(policy_net.parameters(),lr=0.01)\n",
    "\n",
    "memory = ReplayMemory(100000)\n"
   ]
  },
  {
   "cell_type": "markdown",
   "metadata": {},
   "source": [
    "### Action 추출기 구현\n",
    "\n",
    "구현된 신경망을 통해서 다음 State로 전이되기 위한 Action을 추출하는 코드를 아래와 같이 구현했다."
   ]
  },
  {
   "cell_type": "code",
   "execution_count": null,
   "metadata": {},
   "outputs": [],
   "source": [
    "steps_done = 0\n",
    "\n",
    "def select_action(input):\n",
    "    global steps_done\n",
    "    sample = random.random()\n",
    "    eps_threshold = EPS_END + (EPS_START - EPS_END) * math.exp(-1. * steps_done / EPS_DECAY)\n",
    "\n",
    "    steps_done = steps_done + 1\n",
    "\n",
    "    if sample > eps_threshold:\n",
    "        with torch.no_grad():\n",
    "            return policy_net(input).view(-1)\n",
    "    else:\n",
    "        return torch.tensor([random.randint(-80,80), \n",
    "        random.randint(-360,360), \n",
    "        random.randint(-10,10), \n",
    "        random.randint(-80,80), \n",
    "        random.randint(-360,360), \n",
    "        random.randint(-10,10), \n",
    "        random.randint(1,7), \n",
    "        random.randint(-3000,3000)\n",
    "            ], device=device)"
   ]
  },
  {
   "cell_type": "markdown",
   "metadata": {},
   "source": [
    "### 학습 결과 Plot 함수 구현\n",
    "에피소드 마다 학습되는 결과를 Plot하기 위한 Plotting 함수를 구현하면 아래와 같다."
   ]
  },
  {
   "cell_type": "code",
   "execution_count": null,
   "metadata": {},
   "outputs": [],
   "source": [
    "is_ipython = 'inline' in matplotlib.get_backend()\n",
    "if is_ipython:\n",
    "    from IPython import display\n",
    "\n",
    "episode_durations = []\n",
    "\n",
    "import matplotlib\n",
    "import matplotlib.pyplot as plt\n",
    "\n",
    "def plot_duration():\n",
    "    plt.figure(1)\n",
    "    plt.clf()\n",
    "    duration_t = torch.tensor(episode_durations, dtype=torch.float)\n",
    "\n",
    "    plt.title('Training process...')\n",
    "    plt.xlabel('Episodes')\n",
    "    plt.ylabel('Duration')\n",
    "    plt.plot(duration_t.numpy())\n",
    "\n",
    "    if len(duration_t) >= 100:\n",
    "        means = duration_t.unfold(0,100,1).mean(1).view(-1)\n",
    "        means = torch.cat((torch.zeros(99), means))\n",
    "\n",
    "        plt.plot(means.numpy())\n",
    "\n",
    "    plt.pause(0.01)\n",
    "    \n",
    "    # if is_ipython:\n",
    "    #     display.clear_output(wait=True)\n",
    "    #     display.display(plt.gcf())"
   ]
  },
  {
   "cell_type": "markdown",
   "metadata": {},
   "source": [
    "## Model 불러오기 (옵션)\n",
    "학습된 모델을 이어서 학습시키고 싶으면 모델을 불러와서 다시 학습을 진행하면 된다. 해당 코드는 아래와 같다."
   ]
  },
  {
   "cell_type": "code",
   "execution_count": null,
   "metadata": {},
   "outputs": [],
   "source": [
    "policy_net.load_state_dict(torch.load(\"./weights/policy.pt\"))\n",
    "policy_net.eval()\n",
    "target_net.load_state_dict(torch.load(\"./weights/policy.pt\"))\n",
    "target_net.eval()"
   ]
  },
  {
   "cell_type": "markdown",
   "metadata": {},
   "source": [
    "## Training Loop 구현\n",
    "학습을 위해 필요한 대부분의 블록이 구현되었다. 이제 실제로 학습을 진행하는(Optimizing) 코드를 구현해야한다. 이는 아래와 같다."
   ]
  },
  {
   "cell_type": "code",
   "execution_count": null,
   "metadata": {},
   "outputs": [],
   "source": [
    "def optmize_model():\n",
    "    if len(memory) < BATCH_SIZE:\n",
    "        print('Sim data is too small terminate optimizing...')\n",
    "\n",
    "    transition = memory.sample(BATCH_SIZE)\n",
    "\n",
    "    batch = Transition(*zip(*transition))\n",
    "\n",
    "    non_final_mask = torch.tensor(tuple(map(lambda s: s is not None, batch.next_state)), device=device, dtype=torch.bool)\n",
    "\n",
    "    non_final_next_states = torch.cat([s for s in batch.next_state if s is not None])\n",
    "    non_final_next_states = torch.reshape(non_final_next_states,(BATCH_SIZE,36))\n",
    "\n",
    "    state_batch = torch.cat(batch.state)\n",
    "    state_batch = torch.reshape(state_batch,(BATCH_SIZE,36))\n",
    "    action_batch = torch.cat(batch.action)\n",
    "    action_batch = torch.reshape(action_batch,(BATCH_SIZE,8))\n",
    "    reward_batch = torch.cat(batch.reward)\n",
    "    reward_batch = torch.reshape(reward_batch,(BATCH_SIZE,1))\n",
    "\n",
    "    gather_indices = [7 for i in range(BATCH_SIZE)]\n",
    "    gather_indices = torch.tensor(gather_indices,device=device).unsqueeze(axis=-1)\n",
    "    \n",
    "    state_action_values = policy_net(state_batch)\n",
    "    state_action_values = torch.gather(state_action_values,1,gather_indices)\n",
    "\n",
    "    next_state_values = torch.zeros(BATCH_SIZE, device=device)\n",
    "    next_state_values[non_final_mask] = target_net(non_final_next_states).gather(1,gather_indices).reshape(BATCH_SIZE).detach()\n",
    "\n",
    "    expected_state_action_values = (next_state_values * GAMMA) + reward_batch\n",
    "\n",
    "    criterion = nn.SmoothL1Loss()\n",
    "    loss = criterion(state_action_values,expected_state_action_values.unsqueeze(1))\n",
    "\n",
    "    optimizer.zero_grad()\n",
    "    loss.backward()\n",
    "    for param in policy_net.parameters():\n",
    "        param.grad.data.clamp_(-1,1)\n",
    "    optimizer.step()"
   ]
  },
  {
   "cell_type": "markdown",
   "metadata": {},
   "source": [
    "## Main Loop 구현\n",
    "위 코드들을 이용해서 Sim Data를 획득하고 최적화를 진행하는 코드를 구현하면 아래와 같다."
   ]
  },
  {
   "cell_type": "code",
   "execution_count": null,
   "metadata": {},
   "outputs": [],
   "source": [
    "num_episodes = 100\n",
    "\n",
    "# viewer = mujoco_py.MjViewer(simulator) #For rendering sim results.\n",
    "\n",
    "for i_episode in range(num_episodes):\n",
    "    simulator.reset()\n",
    "    k = 0\n",
    "    last_state = stepListener(k)\n",
    "\n",
    "    simulator.step()\n",
    "\n",
    "    k_range = 500\n",
    "\n",
    "    for k in range(k_range):\n",
    "        action = select_action(torch.from_numpy(last_state))\n",
    "        # action = policy_net(torch.from_numpy(last_state))\n",
    "\n",
    "        gait_param = action.tolist()\n",
    "\n",
    "        G_k = genGait(k,1, gait_param[0], gait_param[1], gait_param[2], gait_param[3], gait_param[4], gait_param[5], gait_param[6])\n",
    "\n",
    "        motor_idx = np.nonzero(G_k)\n",
    "\n",
    "        # print(gait_param)\n",
    "\n",
    "        for idx in motor_idx:\n",
    "                    if not(len(idx) == 0):\n",
    "                        simulator.data.ctrl[idx] = g.degtorad(G_k[idx])\n",
    "\n",
    "        simulator.step()\n",
    "        # viewer.render()\n",
    "\n",
    "        current_state = stepListener(k)\n",
    "        reward = getReward(k,last_state, current_state)\n",
    "        reward = torch.tensor([reward], device=device)\n",
    "        \n",
    "        last_state = current_state\n",
    "\n",
    "        memory.push(torch.from_numpy(last_state), action, torch.from_numpy(current_state), reward)\n",
    "\n",
    "        # if k == k_range -1:\n",
    "        #     memory.push(_,_,None,_)\n",
    "\n",
    "    optmize_model()\n",
    "\n",
    "    # episode_durations.append(k + 1)\n",
    "    # plot_duration()\n",
    "\n",
    "    if i_episode % TARGET_UPDATE == 0:\n",
    "        target_net.load_state_dict(policy_net.state_dict())\n",
    "\n",
    "    # print(i_episode)"
   ]
  },
  {
   "cell_type": "markdown",
   "metadata": {},
   "source": [
    "## 학습된 network 확인하기"
   ]
  },
  {
   "cell_type": "code",
   "execution_count": null,
   "metadata": {},
   "outputs": [],
   "source": [
    "simulator.reset()\n",
    "viewer = mujoco_py.MjViewer(simulator) #For rendering sim results.\n",
    "\n",
    "\n",
    "for k in range(6000):\n",
    "        state = stepListener(k)\n",
    "        # action = select_action(torch.from_numpy(last_state))\n",
    "        action = target_net(torch.from_numpy(state))\n",
    "\n",
    "        gait_param = action.tolist()\n",
    "\n",
    "        G_k = genGait(k,1, gait_param[0], gait_param[1], gait_param[2], gait_param[3], gait_param[4], gait_param[5], gait_param[6])\n",
    "\n",
    "        motor_idx = np.nonzero(G_k)\n",
    "\n",
    "        for idx in motor_idx:\n",
    "                    if not(len(idx) == 0):\n",
    "                        simulator.data.ctrl[idx] = g.degtorad(G_k[idx])\n",
    "\n",
    "        simulator.step()\n",
    "        viewer.render()"
   ]
  },
  {
   "cell_type": "markdown",
   "metadata": {},
   "source": [
    "## 학습 Model 저장하기\n",
    "모델 학습을 처음부터 다시 진행하는 것보다 학습되어진 모델에 이어서 학습하는 것이 더 빠르게 수렴할 수 있으므로 모델을 저장해야한다. Pytorch는 Pickle 기반으로 변수를 파일로 저장한다. 아래 코드로 학습된 Target Net을 저장할 수 있다.\n"
   ]
  },
  {
   "cell_type": "code",
   "execution_count": null,
   "metadata": {},
   "outputs": [],
   "source": [
    "import datetime\n",
    "\n",
    "now = datetime.datetime.now()\n",
    "prefix = now.strftime(\"%Y%m%d%H%m\")\n",
    "\n",
    "torch.save(policy_net.state_dict(),\"./weights/policy\"+prefix+\"V2.pt\")\n",
    "torch.save(target_net.state_dict(),\"./weights/target\"+prefix+\"v2.pt\")\n"
   ]
  },
  {
   "cell_type": "code",
   "execution_count": 33,
   "metadata": {},
   "outputs": [
    {
     "name": "stdout",
     "output_type": "stream",
     "text": [
      "tensor([[[ 3.7782e-01, -2.4460e-01, -1.2974e-01, -5.5549e-01, -1.4163e-01,\n",
      "          -4.0759e-01,  8.7333e-01,  1.8258e-02,  8.9921e-01, -2.6076e-02,\n",
      "          -1.7064e-01, -1.1620e+00, -5.9145e-01, -2.3326e+00,  1.2567e-01,\n",
      "          -6.2578e-01, -9.1430e-01, -1.6592e-01, -1.4350e+00,  8.2340e-01],\n",
      "         [-6.0006e-02,  1.3405e-01, -6.8071e-02, -3.3523e-01,  1.4426e-01,\n",
      "           1.0110e-01,  1.0754e+00,  1.2996e+00,  2.8142e-01, -1.6561e-01,\n",
      "          -4.7490e-01, -1.1012e+00,  1.0470e+00,  7.0926e-02,  2.5047e-01,\n",
      "           1.0375e+00,  1.5166e-01,  7.8132e-01,  2.0982e-01,  7.8714e-01],\n",
      "         [-3.7144e-01,  7.5817e-01,  3.1032e-01, -1.0184e-02,  5.2355e-01,\n",
      "          -2.4508e-02,  8.0960e-01,  3.9247e-01,  9.0987e-02, -2.7074e-01,\n",
      "           7.4020e-01,  9.3223e-01, -2.3639e-01, -5.8657e-02,  2.8476e-01,\n",
      "           2.7552e-01, -7.0817e-01,  4.0613e-02,  4.4798e-02,  1.7372e-02]],\n",
      "\n",
      "        [[ 4.0351e-01, -3.0784e-01, -1.6416e-01, -4.7689e-01, -1.5957e-02,\n",
      "          -2.0556e-01,  5.9950e-01, -4.6979e-02,  6.2636e-01,  1.3305e-01,\n",
      "          -7.5744e-02, -6.8849e-01, -4.4090e-01, -1.7549e+00,  4.2358e-01,\n",
      "          -3.1228e-01, -4.4320e-01, -8.8276e-02, -9.6760e-01,  6.0000e-01],\n",
      "         [-9.8207e-02,  8.1755e-02, -2.9458e-01, -2.3445e-01,  5.5712e-01,\n",
      "           8.2326e-02,  7.5891e-01,  7.7138e-01,  2.6330e-01, -2.8610e-01,\n",
      "          -2.4421e-01, -5.6445e-01,  9.4010e-01, -3.5742e-03,  3.8418e-01,\n",
      "           6.0228e-01,  2.4903e-01,  3.6623e-01,  1.5726e-01,  2.5322e-01],\n",
      "         [-2.9146e-02,  3.1196e-01,  3.4731e-01,  7.6612e-02,  2.0758e-01,\n",
      "           2.3664e-02,  5.6312e-01,  3.3462e-01,  1.5061e-01, -7.4368e-02,\n",
      "           4.8038e-01,  7.0447e-01, -1.3313e-01, -2.3188e-01,  6.6471e-02,\n",
      "           8.0996e-02, -3.7061e-01,  8.3333e-02, -2.1530e-02, -1.1167e-01]],\n",
      "\n",
      "        [[ 4.2290e-01, -3.4234e-02, -1.5769e-01, -3.1954e-01,  1.9675e-01,\n",
      "           4.3225e-02,  4.3461e-01, -1.5330e-02,  4.0028e-01,  2.9835e-01,\n",
      "          -6.4684e-02, -2.6669e-01, -2.5834e-01, -1.2745e+00,  3.4595e-01,\n",
      "          -2.0649e-01, -1.6051e-01, -8.8345e-02, -6.1910e-01,  3.6146e-01],\n",
      "         [-4.7905e-02,  3.2389e-02, -3.3829e-01, -2.1395e-01,  6.2415e-01,\n",
      "           6.1540e-02,  5.8022e-01,  3.2748e-01,  2.1682e-01, -2.8033e-01,\n",
      "          -1.1911e-01, -3.0630e-01,  8.1575e-01, -3.5014e-02,  3.3128e-01,\n",
      "           3.6863e-01,  2.2278e-01,  8.4043e-02,  1.7799e-01,  3.9220e-02],\n",
      "         [ 2.6741e-02,  1.6300e-01,  2.8524e-01,  2.0517e-01,  1.4465e-01,\n",
      "           1.1617e-01,  2.7970e-01,  2.2433e-01,  2.0967e-01, -4.3530e-03,\n",
      "           3.1085e-01,  5.2720e-01, -8.6367e-02, -3.0119e-01,  2.3966e-02,\n",
      "           1.5276e-01, -9.5559e-02,  1.5588e-01,  3.8617e-02, -1.1664e-01]],\n",
      "\n",
      "        [[ 3.3691e-01,  8.0010e-03, -4.2088e-02, -9.9824e-02,  2.2615e-01,\n",
      "           1.1517e-01,  3.1085e-01, -5.3716e-04,  2.3528e-01,  2.7135e-01,\n",
      "           5.6907e-03, -9.5398e-02, -7.8169e-02, -8.6814e-01,  2.9930e-01,\n",
      "           4.6946e-02,  9.6032e-02,  1.3690e-02, -3.2594e-01,  1.9827e-01],\n",
      "         [-9.3216e-03,  5.3697e-02, -2.6959e-01, -1.5797e-01,  5.5964e-01,\n",
      "           3.6963e-02,  4.3462e-01,  9.9397e-02,  2.5106e-01, -2.0406e-01,\n",
      "          -3.5055e-02, -1.7623e-01,  6.9672e-01, -1.2629e-01,  2.6049e-01,\n",
      "           2.5346e-01,  1.8462e-01,  1.2031e-02,  1.8275e-01, -2.7909e-02],\n",
      "         [ 1.5652e-02,  1.2889e-01,  1.0416e-01,  3.0780e-01,  2.2417e-01,\n",
      "           1.5583e-01,  5.5553e-02,  4.8561e-02,  1.8115e-01, -3.7378e-02,\n",
      "           1.9401e-01,  4.5040e-01, -4.5237e-02, -2.7231e-01,  6.5169e-03,\n",
      "           2.3721e-01,  1.0734e-02,  9.7299e-02,  3.3358e-02, -1.0661e-01]],\n",
      "\n",
      "        [[ 3.0744e-01,  1.8943e-02, -6.7586e-02,  3.7555e-03,  2.7469e-01,\n",
      "           1.0640e-01,  2.4758e-01, -2.9506e-02,  2.6443e-01,  2.2271e-01,\n",
      "          -3.4773e-02,  1.9075e-02,  1.0466e-02, -6.1604e-01,  2.3436e-01,\n",
      "           7.3654e-02,  1.5105e-01,  1.2103e-02, -8.4180e-02,  1.0588e-01],\n",
      "         [ 1.7514e-01, -1.1082e-01, -2.4059e-01, -9.1522e-02,  6.1294e-01,\n",
      "           5.0423e-04,  3.0049e-01, -1.1188e-01,  3.0219e-01, -1.7495e-01,\n",
      "           2.0768e-02, -1.2562e-01,  5.0790e-01, -1.0423e-01,  4.7457e-02,\n",
      "           1.3225e-01,  1.2938e-01,  1.3229e-02,  1.6064e-01, -2.6642e-02],\n",
      "         [-1.4893e-02,  1.1184e-01,  1.1174e-01,  2.7702e-01,  2.2423e-01,\n",
      "           2.3562e-01,  6.2096e-02, -7.2457e-03,  7.2883e-02, -1.0563e-01,\n",
      "           8.9479e-02,  3.9298e-01,  6.3073e-02, -2.0681e-01,  1.0979e-01,\n",
      "           2.0382e-01,  1.2914e-01, -6.9985e-02,  4.8828e-02, -2.0923e-01]]],\n",
      "       grad_fn=<StackBackward0>)\n"
     ]
    }
   ],
   "source": [
    "rnn = nn.GRU(10, 20, 2)\n",
    "input = torch.randn(5, 3, 10)\n",
    "h0 = torch.randn(2, 3, 20)\n",
    "output, hn = rnn(input, h0)\n",
    "\n",
    "print(output)"
   ]
  }
 ],
 "metadata": {
  "interpreter": {
   "hash": "25153d951b89deeb1c78c92fd88111ab529a9e48e9f3ab99db1d36fbf759f4d2"
  },
  "kernelspec": {
   "display_name": "Python 3.8.12 64-bit ('rl': conda)",
   "language": "python",
   "name": "python3"
  },
  "language_info": {
   "codemirror_mode": {
    "name": "ipython",
    "version": 3
   },
   "file_extension": ".py",
   "mimetype": "text/x-python",
   "name": "python",
   "nbconvert_exporter": "python",
   "pygments_lexer": "ipython3",
   "version": "3.8.12"
  },
  "orig_nbformat": 4
 },
 "nbformat": 4,
 "nbformat_minor": 2
}
