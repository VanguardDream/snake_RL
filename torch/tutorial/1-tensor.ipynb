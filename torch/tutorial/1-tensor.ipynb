{
    "cells": [
        {
            "cell_type": "markdown",
            "source": [
                "1-Tensor\r\n",
                "===========\r\n",
                "URL : https://pytorch.org/tutorials/beginner/basics/tensorqs_tutorial.html"
            ],
            "metadata": {}
        },
        {
            "cell_type": "code",
            "execution_count": null,
            "source": [
                "import torch\r\n",
                "import numpy as np"
            ],
            "outputs": [],
            "metadata": {}
        },
        {
            "cell_type": "markdown",
            "source": [
                "##텐서 초기화하기\r\n",
                "파이토치의 텐서, 넘파이의 어레이가 왜 파이썬 기본 리스트와 다를까요? 우리가 겉으로 봤을 때 역할은 비슷하지만, 실제로 컴퓨터가 처리할 때는 다른 방법으로 처리된다고 합니다. 보통 넘파이의 어레이가 병렬 연산에 더 유용하다고 알려져있습니다. 그래서 보통 기계학습에서는 넘파이의 배열 혹은 파이토치의 텐서를 활용하여 코딩을 진행합니다."
            ],
            "metadata": {}
        },
        {
            "cell_type": "markdown",
            "source": [
                "###파이선 리스트 그대로 텐서로 바꾸기"
            ],
            "metadata": {}
        },
        {
            "cell_type": "code",
            "execution_count": null,
            "source": [
                "data = [[1, 2],[3, 4]]\r\n",
                "x_data = torch.tensor(data)"
            ],
            "outputs": [],
            "metadata": {}
        },
        {
            "cell_type": "markdown",
            "source": [
                "###넘파이 어레이를 텐서로 바꾸기"
            ],
            "metadata": {}
        },
        {
            "cell_type": "code",
            "execution_count": null,
            "source": [
                "np_array = np.array(data)\r\n",
                "x_np = torch.from_numpy(np_array)"
            ],
            "outputs": [],
            "metadata": {}
        },
        {
            "cell_type": "markdown",
            "source": [
                "###다른 텐서에서 그대로 가져오거나 활용하기\r\n",
                "(바로 등호를 사용해서 받아올 수는 없는 것 같음.)"
            ],
            "metadata": {}
        },
        {
            "cell_type": "code",
            "execution_count": null,
            "source": [
                "x_ones = torch.ones_like(x_data) # retains the properties of x_data\r\n",
                "print(f\"Ones Tensor: \\n {x_ones} \\n\")\r\n",
                "\r\n",
                "x_rand = torch.rand_like(x_data, dtype=torch.float) # overrides the datatype of x_data\r\n",
                "print(f\"Random Tensor: \\n {x_rand} \\n\")"
            ],
            "outputs": [],
            "metadata": {}
        }
    ],
    "metadata": {
        "orig_nbformat": 4,
        "language_info": {
            "name": "python",
            "version": "3.8.10",
            "mimetype": "text/x-python",
            "codemirror_mode": {
                "name": "ipython",
                "version": 3
            },
            "pygments_lexer": "ipython3",
            "nbconvert_exporter": "python",
            "file_extension": ".py"
        },
        "kernelspec": {
            "name": "python3",
            "display_name": "Python 3.8.10 64-bit ('rl': conda)"
        },
        "interpreter": {
            "hash": "f591a9f768076da51863a6d4e4cb26f4bea06092b5f9ed818e86572e5d5580d9"
        }
    },
    "nbformat": 4,
    "nbformat_minor": 2
}