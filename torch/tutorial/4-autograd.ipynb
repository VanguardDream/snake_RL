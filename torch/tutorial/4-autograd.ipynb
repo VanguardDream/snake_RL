{
    "cells": [
        {
            "cell_type": "markdown",
            "source": [
                "# 자동 미분을 이용한 네트워크 학습\r\n",
                "신경망 학습은 보통 역전파 알고리즘을 이용하여 학습됩니다. 역전파 알고리즘을 이용하기 위해서는 변화량(혹은 기울기)를 아는 것이 중요합니다. 파이토치에서는 매개변수에 따른 변화량을 자동으로 계산할 수 있는 기능을 포함하고 있습니다. 이 자동 미분 기능을 이번 노트에서 학습해봅니다."
            ],
            "metadata": {}
        },
        {
            "cell_type": "code",
            "execution_count": 1,
            "source": [
                "import torch\r\n",
                "\r\n",
                "x = torch.ones(5)  # input tensor\r\n",
                "y = torch.zeros(3)  # expected output\r\n",
                "w = torch.randn(5, 3, requires_grad=True)\r\n",
                "b = torch.randn(3, requires_grad=True)\r\n",
                "z = torch.matmul(x, w)+b\r\n",
                "loss = torch.nn.functional.binary_cross_entropy_with_logits(z, y)"
            ],
            "outputs": [],
            "metadata": {}
        }
    ],
    "metadata": {
        "orig_nbformat": 4,
        "language_info": {
            "name": "python",
            "version": "3.8.10",
            "mimetype": "text/x-python",
            "codemirror_mode": {
                "name": "ipython",
                "version": 3
            },
            "pygments_lexer": "ipython3",
            "nbconvert_exporter": "python",
            "file_extension": ".py"
        },
        "kernelspec": {
            "name": "python3",
            "display_name": "Python 3.8.10 64-bit ('rl': conda)"
        },
        "interpreter": {
            "hash": "f591a9f768076da51863a6d4e4cb26f4bea06092b5f9ed818e86572e5d5580d9"
        }
    },
    "nbformat": 4,
    "nbformat_minor": 2
}